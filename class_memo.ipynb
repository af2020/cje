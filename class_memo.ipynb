{
 "cells": [
  {
   "cell_type": "markdown",
   "metadata": {},
   "source": [
    "### 형태소 분석 관련 정리"
   ]
  },
  {
   "cell_type": "markdown",
   "metadata": {},
   "source": [
    "* SimplePos09 와 SimplePos22 차이에 대해서 : https://brunch.co.kr/@mapthecity/9\n",
    "* 꼬꼬마 한글 형태소 분석기: http://kkma.snu.ac.kr/\n",
    "* KoNLP : https://github.com/haven-jeon/KoNLP/blob/master/etcs/KoNLP-API.md\n",
    "* 품사태깅 : https://konlpy-ko.readthedocs.io/ko/v0.4.3/morph/"
   ]
  },
  {
   "cell_type": "markdown",
   "metadata": {},
   "source": [
    "### 감성사전 관련 정리"
   ]
  },
  {
   "cell_type": "markdown",
   "metadata": {},
   "source": [
    "* 군산대학교 감성사전: http://dilab.kunsan.ac.kr/knusl.html json 파일로 구축\n",
    "* 건국대학교 통계학과 백광렬 - 2018 빅데이터 청년인재: https://rpubs.com/baekdata/gabs\n",
    "* BK21 플러스: http://datascience.khu.ac.kr/board/bbs/board.php?bo_table=05_01&wr_id=91\n",
    "* 네이버 영화 평점 자료 : https://github.com/drexly/movie140reviewcorpus\n",
    "* korean sentiment analysis corpus: http://word.snu.ac.kr/kosac/lexicon.php\n",
    "* 감성분석 관련: http://doc.mindscale.kr/blog/2016/1/25/introduction-to-sentiment-analysis/\n",
    "* r 활용 감성분석 예시: http://www.datamarket.kr/xe/board_HMbT21/25100\n",
    "* 감성 분석 관련 자료 - 머신러닝 카페 : http://cafe.daum.net/_c21_/bbs_search_read?grpid=zchT&fldid=SDRZ&datanum=233&q=%C7%D1%B1%B9%BE%EE%BB%E7%C0%FC&_referer=V7kfJwkeLEGMZxGlgqZEmcQwMw16z8oVJrNxYwH5xB7vM69TTIICyPF2sT9okhIc\n",
    "\n",
    "\n",
    "\n",
    "* 해외 감성 분석 관련 sentinet : http://sentiwordnet.isti.cnr.it/ \n",
    "\n",
    "\n"
   ]
  },
  {
   "cell_type": "markdown",
   "metadata": {},
   "source": [
    "### stringr  주요 함수"
   ]
  },
  {
   "cell_type": "markdown",
   "metadata": {},
   "source": [
    "* str_count : 찾고자 하는 패턴이 몇 개가 있는지 셈\n",
    "* str_detect : 찾고자 하는 패턴이 있는지 TRUE/FALSE로 반환\n",
    "* str_extract str_extract_all : 찾는 패턴을 뽑아서 출력\n",
    "* str_locate str_locate_all : 찾는 패턴의 글자내 시작점과 끝점을 출력\n",
    "* str_match str_match_all : 찾는 패턴을 뽑아주는데 캡쳐 그룹도 같이 제공\n",
    "* str_replace str_replace_all : 찾는 패턴을 다른 내용으로 바꿈\n",
    "* str_split str_split_fixed : 지정한 패턴으로 글자를 나눔\n",
    "* str_subset : 찾는 패턴이 있는 위치의 데이터를 출력\n",
    "* str_which : 찾는 패턴이 있는 데이터의 위치를 출력\n",
    "* str_view str_view_all : html로 매칭된 내용을 출력\n",
    "* fixed : 글자 그대로를 매칭할 것인지를 결정\n"
   ]
  }
 ],
 "metadata": {
  "kernelspec": {
   "display_name": "venv06",
   "language": "python",
   "name": "venv06"
  },
  "language_info": {
   "codemirror_mode": {
    "name": "ipython",
    "version": 3
   },
   "file_extension": ".py",
   "mimetype": "text/x-python",
   "name": "python",
   "nbconvert_exporter": "python",
   "pygments_lexer": "ipython3",
   "version": "3.6.7"
  }
 },
 "nbformat": 4,
 "nbformat_minor": 2
}
