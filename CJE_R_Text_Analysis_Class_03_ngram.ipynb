{
 "cells": [
  {
   "cell_type": "markdown",
   "metadata": {},
   "source": [
    "# ngram analysis"
   ]
  },
  {
   "cell_type": "markdown",
   "metadata": {},
   "source": [
    "* 단어의 연속된 쌍을 대상으로 분석을 수행하는 것\n",
    "* 책 내용을 실습해보면서 정리하는 것을 1차적인 목표로 함"
   ]
  },
  {
   "cell_type": "markdown",
   "metadata": {},
   "source": [
    "* gram tokenize"
   ]
  },
  {
   "cell_type": "code",
   "execution_count": 1,
   "metadata": {
    "collapsed": true
   },
   "outputs": [
    {
     "name": "stderr",
     "output_type": "stream",
     "text": [
      "\n",
      "Attaching package: ‘dplyr’\n",
      "\n",
      "\n",
      "The following objects are masked from ‘package:stats’:\n",
      "\n",
      "    filter, lag\n",
      "\n",
      "\n",
      "The following objects are masked from ‘package:base’:\n",
      "\n",
      "    intersect, setdiff, setequal, union\n",
      "\n",
      "\n"
     ]
    }
   ],
   "source": [
    "library(dplyr)\n",
    "library(tidytext)\n",
    "library(janeaustenr)"
   ]
  },
  {
   "cell_type": "markdown",
   "metadata": {},
   "source": [
    "* n 값에 따라 추출하려고 하는 연속 단어의 갯수를 정할 수 있음"
   ]
  },
  {
   "cell_type": "code",
   "execution_count": 3,
   "metadata": {},
   "outputs": [],
   "source": [
    "(\n",
    "    austen_books() \n",
    "     %>% unnest_tokens(input=text, output=bigram, token=\"ngrams\", n=2)\n",
    "#      %>% head(10)\n",
    ") -> a_bigram"
   ]
  },
  {
   "cell_type": "markdown",
   "metadata": {},
   "source": [
    "* 자주 등장하는 bigram이 무엇인지 살펴봅니다. "
   ]
  },
  {
   "cell_type": "code",
   "execution_count": 4,
   "metadata": {},
   "outputs": [
    {
     "data": {
      "text/html": [
       "<table>\n",
       "<caption>A tibble: 10 × 2</caption>\n",
       "<thead>\n",
       "\t<tr><th scope=col>book</th><th scope=col>bigram</th></tr>\n",
       "\t<tr><th scope=col>&lt;fct&gt;</th><th scope=col>&lt;chr&gt;</th></tr>\n",
       "</thead>\n",
       "<tbody>\n",
       "\t<tr><td>Sense &amp; Sensibility</td><td><span style=white-space:pre-wrap>sense and      </span></td></tr>\n",
       "\t<tr><td>Sense &amp; Sensibility</td><td>and sensibility</td></tr>\n",
       "\t<tr><td>Sense &amp; Sensibility</td><td>sensibility by </td></tr>\n",
       "\t<tr><td>Sense &amp; Sensibility</td><td><span style=white-space:pre-wrap>by jane        </span></td></tr>\n",
       "\t<tr><td>Sense &amp; Sensibility</td><td><span style=white-space:pre-wrap>jane austen    </span></td></tr>\n",
       "\t<tr><td>Sense &amp; Sensibility</td><td><span style=white-space:pre-wrap>austen 1811    </span></td></tr>\n",
       "\t<tr><td>Sense &amp; Sensibility</td><td><span style=white-space:pre-wrap>1811 chapter   </span></td></tr>\n",
       "\t<tr><td>Sense &amp; Sensibility</td><td><span style=white-space:pre-wrap>chapter 1      </span></td></tr>\n",
       "\t<tr><td>Sense &amp; Sensibility</td><td><span style=white-space:pre-wrap>1 the          </span></td></tr>\n",
       "\t<tr><td>Sense &amp; Sensibility</td><td><span style=white-space:pre-wrap>the family     </span></td></tr>\n",
       "</tbody>\n",
       "</table>\n"
      ],
      "text/latex": [
       "A tibble: 10 × 2\n",
       "\\begin{tabular}{ll}\n",
       " book & bigram\\\\\n",
       " <fct> & <chr>\\\\\n",
       "\\hline\n",
       "\t Sense \\& Sensibility & sense and      \\\\\n",
       "\t Sense \\& Sensibility & and sensibility\\\\\n",
       "\t Sense \\& Sensibility & sensibility by \\\\\n",
       "\t Sense \\& Sensibility & by jane        \\\\\n",
       "\t Sense \\& Sensibility & jane austen    \\\\\n",
       "\t Sense \\& Sensibility & austen 1811    \\\\\n",
       "\t Sense \\& Sensibility & 1811 chapter   \\\\\n",
       "\t Sense \\& Sensibility & chapter 1      \\\\\n",
       "\t Sense \\& Sensibility & 1 the          \\\\\n",
       "\t Sense \\& Sensibility & the family     \\\\\n",
       "\\end{tabular}\n"
      ],
      "text/markdown": [
       "\n",
       "A tibble: 10 × 2\n",
       "\n",
       "| book &lt;fct&gt; | bigram &lt;chr&gt; |\n",
       "|---|---|\n",
       "| Sense &amp; Sensibility | sense and       |\n",
       "| Sense &amp; Sensibility | and sensibility |\n",
       "| Sense &amp; Sensibility | sensibility by  |\n",
       "| Sense &amp; Sensibility | by jane         |\n",
       "| Sense &amp; Sensibility | jane austen     |\n",
       "| Sense &amp; Sensibility | austen 1811     |\n",
       "| Sense &amp; Sensibility | 1811 chapter    |\n",
       "| Sense &amp; Sensibility | chapter 1       |\n",
       "| Sense &amp; Sensibility | 1 the           |\n",
       "| Sense &amp; Sensibility | the family      |\n",
       "\n"
      ],
      "text/plain": [
       "   book                bigram         \n",
       "1  Sense & Sensibility sense and      \n",
       "2  Sense & Sensibility and sensibility\n",
       "3  Sense & Sensibility sensibility by \n",
       "4  Sense & Sensibility by jane        \n",
       "5  Sense & Sensibility jane austen    \n",
       "6  Sense & Sensibility austen 1811    \n",
       "7  Sense & Sensibility 1811 chapter   \n",
       "8  Sense & Sensibility chapter 1      \n",
       "9  Sense & Sensibility 1 the          \n",
       "10 Sense & Sensibility the family     "
      ]
     },
     "metadata": {},
     "output_type": "display_data"
    }
   ],
   "source": [
    "\n",
    "(\n",
    "    a_bigram\n",
    "#      %>% count(bigram, sort=TRUE)\n",
    "     %>% head(10)\n",
    ")\n"
   ]
  },
  {
   "cell_type": "markdown",
   "metadata": {},
   "source": [
    "* 이제 bigram을 separate()으로 2개의 열로 나누고 각 열의 단어에 대해서 불용어 제거를 합니다."
   ]
  },
  {
   "cell_type": "code",
   "execution_count": 22,
   "metadata": {},
   "outputs": [],
   "source": [
    "library(tidyr)\n",
    "(\n",
    "    a_bigram\n",
    "     %>% separate(bigram, c(\"word1\", \"word2\"), sep=\" \")\n",
    "#      %>% head(10)\n",
    "     %>% filter(!word1 %in% stop_words$word)\n",
    "     %>% filter(!word2 %in% stop_words$word)\n",
    "#      %>% head(10)\n",
    "#      %>% count(word1,word2,sort=TRUE)\n",
    "#      %>% head(10)\n",
    ") -> a_bigram_wos"
   ]
  },
  {
   "cell_type": "markdown",
   "metadata": {},
   "source": [
    "* 이제 분해했던 단어쌍을 다시 합쳐보자"
   ]
  },
  {
   "cell_type": "code",
   "execution_count": 24,
   "metadata": {},
   "outputs": [
    {
     "data": {
      "text/html": [
       "<table>\n",
       "<thead><tr><th scope=col>book</th><th scope=col>bigram</th></tr></thead>\n",
       "<tbody>\n",
       "\t<tr><td>Sense &amp; Sensibility                                         </td><td><span style=white-space:pre-wrap>jane austen             </span></td></tr>\n",
       "\t<tr><td>Sense &amp; Sensibility                                         </td><td><span style=white-space:pre-wrap>austen 1811             </span></td></tr>\n",
       "\t<tr><td>Sense &amp; Sensibility                                         </td><td><span style=white-space:pre-wrap>1811 chapter            </span></td></tr>\n",
       "\t<tr><td>Sense &amp; Sensibility                                         </td><td><span style=white-space:pre-wrap>chapter 1               </span></td></tr>\n",
       "\t<tr><td>Sense &amp; Sensibility                                         </td><td><span style=white-space:pre-wrap>norland park            </span></td></tr>\n",
       "\t<tr><td>Sense &amp; Sensibility </td><td>surrounding acquaintance</td></tr>\n",
       "\t<tr><td>Sense &amp; Sensibility                                         </td><td><span style=white-space:pre-wrap>late owner              </span></td></tr>\n",
       "\t<tr><td>Sense &amp; Sensibility                                         </td><td><span style=white-space:pre-wrap>advanced age            </span></td></tr>\n",
       "\t<tr><td>Sense &amp; Sensibility                                         </td><td><span style=white-space:pre-wrap>constant companion      </span></td></tr>\n",
       "\t<tr><td>Sense &amp; Sensibility                                         </td><td><span style=white-space:pre-wrap>happened ten            </span></td></tr>\n",
       "</tbody>\n",
       "</table>\n"
      ],
      "text/latex": [
       "\\begin{tabular}{r|ll}\n",
       " book & bigram\\\\\n",
       "\\hline\n",
       "\t Sense \\& Sensibility    & jane austen             \\\\\n",
       "\t Sense \\& Sensibility    & austen 1811             \\\\\n",
       "\t Sense \\& Sensibility    & 1811 chapter            \\\\\n",
       "\t Sense \\& Sensibility    & chapter 1               \\\\\n",
       "\t Sense \\& Sensibility    & norland park            \\\\\n",
       "\t Sense \\& Sensibility    & surrounding acquaintance\\\\\n",
       "\t Sense \\& Sensibility    & late owner              \\\\\n",
       "\t Sense \\& Sensibility    & advanced age            \\\\\n",
       "\t Sense \\& Sensibility    & constant companion      \\\\\n",
       "\t Sense \\& Sensibility    & happened ten            \\\\\n",
       "\\end{tabular}\n"
      ],
      "text/markdown": [
       "\n",
       "| book | bigram |\n",
       "|---|---|\n",
       "| Sense & Sensibility      | jane austen              |\n",
       "| Sense & Sensibility      | austen 1811              |\n",
       "| Sense & Sensibility      | 1811 chapter             |\n",
       "| Sense & Sensibility      | chapter 1                |\n",
       "| Sense & Sensibility      | norland park             |\n",
       "| Sense & Sensibility      | surrounding acquaintance |\n",
       "| Sense & Sensibility      | late owner               |\n",
       "| Sense & Sensibility      | advanced age             |\n",
       "| Sense & Sensibility      | constant companion       |\n",
       "| Sense & Sensibility      | happened ten             |\n",
       "\n"
      ],
      "text/plain": [
       "   book                bigram                  \n",
       "1  Sense & Sensibility jane austen             \n",
       "2  Sense & Sensibility austen 1811             \n",
       "3  Sense & Sensibility 1811 chapter            \n",
       "4  Sense & Sensibility chapter 1               \n",
       "5  Sense & Sensibility norland park            \n",
       "6  Sense & Sensibility surrounding acquaintance\n",
       "7  Sense & Sensibility late owner              \n",
       "8  Sense & Sensibility advanced age            \n",
       "9  Sense & Sensibility constant companion      \n",
       "10 Sense & Sensibility happened ten            "
      ]
     },
     "metadata": {},
     "output_type": "display_data"
    }
   ],
   "source": [
    "\n",
    "(\n",
    "    a_bigram_wos\n",
    "     %>% unite(bigram, word1, word2, sep=' ')\n",
    "     %>% head(10)\n",
    ")"
   ]
  },
  {
   "cell_type": "markdown",
   "metadata": {},
   "source": [
    "* trigram 분석 : n=3"
   ]
  },
  {
   "cell_type": "code",
   "execution_count": 32,
   "metadata": {},
   "outputs": [
    {
     "data": {
      "text/html": [
       "<table>\n",
       "<thead><tr><th scope=col>word1</th><th scope=col>word2</th><th scope=col>word3</th><th scope=col>n</th></tr></thead>\n",
       "<tbody>\n",
       "\t<tr><td>dear     </td><td>miss     </td><td>woodhouse</td><td>23       </td></tr>\n",
       "\t<tr><td>miss     </td><td>de       </td><td>bourgh   </td><td>18       </td></tr>\n",
       "\t<tr><td>lady     </td><td>catherine</td><td>de       </td><td>14       </td></tr>\n",
       "\t<tr><td>catherine</td><td>de       </td><td>bourgh   </td><td>13       </td></tr>\n",
       "\t<tr><td>poor     </td><td>miss     </td><td>taylor   </td><td>11       </td></tr>\n",
       "</tbody>\n",
       "</table>\n"
      ],
      "text/latex": [
       "\\begin{tabular}{r|llll}\n",
       " word1 & word2 & word3 & n\\\\\n",
       "\\hline\n",
       "\t dear      & miss      & woodhouse & 23       \\\\\n",
       "\t miss      & de        & bourgh    & 18       \\\\\n",
       "\t lady      & catherine & de        & 14       \\\\\n",
       "\t catherine & de        & bourgh    & 13       \\\\\n",
       "\t poor      & miss      & taylor    & 11       \\\\\n",
       "\\end{tabular}\n"
      ],
      "text/markdown": [
       "\n",
       "| word1 | word2 | word3 | n |\n",
       "|---|---|---|---|\n",
       "| dear      | miss      | woodhouse | 23        |\n",
       "| miss      | de        | bourgh    | 18        |\n",
       "| lady      | catherine | de        | 14        |\n",
       "| catherine | de        | bourgh    | 13        |\n",
       "| poor      | miss      | taylor    | 11        |\n",
       "\n"
      ],
      "text/plain": [
       "  word1     word2     word3     n \n",
       "1 dear      miss      woodhouse 23\n",
       "2 miss      de        bourgh    18\n",
       "3 lady      catherine de        14\n",
       "4 catherine de        bourgh    13\n",
       "5 poor      miss      taylor    11"
      ]
     },
     "metadata": {},
     "output_type": "display_data"
    }
   ],
   "source": [
    "(\n",
    "    austen_books()\n",
    "     %>% unnest_tokens(input = text, output=trigram, token = 'ngrams', n=3)\n",
    "#      %>% head(10)\n",
    "     %>% separate(trigram, c('word1', 'word2','word3'), sep=' ')\n",
    "#      %>% head(3)\n",
    "     %>% filter(!word1 %in% stop_words$word,\n",
    "               !word2 %in% stop_words$word,\n",
    "                !word3 %in% stop_words$word\n",
    "               )\n",
    "#      %>% head(5)\n",
    "     %>% count(word1, word2, word3, sort=TRUE)\n",
    "     %>% head(5)\n",
    ")"
   ]
  },
  {
   "cell_type": "markdown",
   "metadata": {},
   "source": [
    "* bigram analysis\n",
    "* 예들 들어, 'steet' 라는 단어 앞에 오는 것들이 무엇일까"
   ]
  },
  {
   "cell_type": "code",
   "execution_count": 37,
   "metadata": {},
   "outputs": [
    {
     "data": {
      "text/html": [
       "<table>\n",
       "<thead><tr><th scope=col>book</th><th scope=col>word1</th><th scope=col>n</th></tr></thead>\n",
       "<tbody>\n",
       "\t<tr><td>Sense &amp; Sensibility                            </td><td><span style=white-space:pre-wrap>berkeley   </span></td><td>16                                                 </td></tr>\n",
       "\t<tr><td>Sense &amp; Sensibility                            </td><td><span style=white-space:pre-wrap>harley     </span></td><td>16                                                 </td></tr>\n",
       "\t<tr><td>Northanger Abbey   </td><td>pulteney           </td><td>14                 </td></tr>\n",
       "\t<tr><td>Northanger Abbey   </td><td>milsom             </td><td>11                 </td></tr>\n",
       "\t<tr><td>Mansfield Park     </td><td>wimpole            </td><td>10                 </td></tr>\n",
       "\t<tr><td><span style=white-space:pre-wrap>Pride &amp; Prejudice  </span></td><td>gracechurch                                                    </td><td> 9                                                             </td></tr>\n",
       "\t<tr><td>Sense &amp; Sensibility                            </td><td><span style=white-space:pre-wrap>conduit    </span></td><td> 6                                                 </td></tr>\n",
       "\t<tr><td>Sense &amp; Sensibility                            </td><td><span style=white-space:pre-wrap>bond       </span></td><td> 5                                                 </td></tr>\n",
       "\t<tr><td>Persuasion         </td><td>milsom             </td><td> 5                 </td></tr>\n",
       "\t<tr><td>Persuasion         </td><td>rivers             </td><td> 4                 </td></tr>\n",
       "</tbody>\n",
       "</table>\n"
      ],
      "text/latex": [
       "\\begin{tabular}{r|lll}\n",
       " book & word1 & n\\\\\n",
       "\\hline\n",
       "\t Sense \\& Sensibility & berkeley              & 16                   \\\\\n",
       "\t Sense \\& Sensibility & harley                & 16                   \\\\\n",
       "\t Northanger Abbey    & pulteney            & 14                 \\\\\n",
       "\t Northanger Abbey    & milsom              & 11                 \\\\\n",
       "\t Mansfield Park      & wimpole             & 10                 \\\\\n",
       "\t Pride \\& Prejudice   & gracechurch           &  9                   \\\\\n",
       "\t Sense \\& Sensibility & conduit               &  6                   \\\\\n",
       "\t Sense \\& Sensibility & bond                  &  5                   \\\\\n",
       "\t Persuasion          & milsom              &  5                 \\\\\n",
       "\t Persuasion          & rivers              &  4                 \\\\\n",
       "\\end{tabular}\n"
      ],
      "text/markdown": [
       "\n",
       "| book | word1 | n |\n",
       "|---|---|---|\n",
       "| Sense & Sensibility | berkeley            | 16                  |\n",
       "| Sense & Sensibility | harley              | 16                  |\n",
       "| Northanger Abbey    | pulteney            | 14                  |\n",
       "| Northanger Abbey    | milsom              | 11                  |\n",
       "| Mansfield Park      | wimpole             | 10                  |\n",
       "| Pride & Prejudice   | gracechurch         |  9                  |\n",
       "| Sense & Sensibility | conduit             |  6                  |\n",
       "| Sense & Sensibility | bond                |  5                  |\n",
       "| Persuasion          | milsom              |  5                  |\n",
       "| Persuasion          | rivers              |  4                  |\n",
       "\n"
      ],
      "text/plain": [
       "   book                word1       n \n",
       "1  Sense & Sensibility berkeley    16\n",
       "2  Sense & Sensibility harley      16\n",
       "3  Northanger Abbey    pulteney    14\n",
       "4  Northanger Abbey    milsom      11\n",
       "5  Mansfield Park      wimpole     10\n",
       "6  Pride & Prejudice   gracechurch  9\n",
       "7  Sense & Sensibility conduit      6\n",
       "8  Sense & Sensibility bond         5\n",
       "9  Persuasion          milsom       5\n",
       "10 Persuasion          rivers       4"
      ]
     },
     "metadata": {},
     "output_type": "display_data"
    }
   ],
   "source": [
    "(\n",
    "    a_bigram_wos\n",
    "     %>% filter(word2 == \"street\")\n",
    "#      %>% head(10)\n",
    "     %>% count(book, word1, sort=T)\n",
    "     %>% head(10)\n",
    ")"
   ]
  }
 ],
 "metadata": {
  "hide_input": false,
  "kernelspec": {
   "display_name": "R",
   "language": "R",
   "name": "ir"
  },
  "language_info": {
   "codemirror_mode": "r",
   "file_extension": ".r",
   "mimetype": "text/x-r-source",
   "name": "R",
   "pygments_lexer": "r",
   "version": "3.6.0"
  },
  "toc": {
   "base_numbering": 1,
   "nav_menu": {},
   "number_sections": true,
   "sideBar": true,
   "skip_h1_title": false,
   "title_cell": "Table of Contents",
   "title_sidebar": "Contents",
   "toc_cell": false,
   "toc_position": {
    "height": "calc(100% - 180px)",
    "left": "10px",
    "top": "150px",
    "width": "384px"
   },
   "toc_section_display": true,
   "toc_window_display": true
  },
  "varInspector": {
   "cols": {
    "lenName": 16,
    "lenType": 16,
    "lenVar": 40
   },
   "kernels_config": {
    "python": {
     "delete_cmd_postfix": "",
     "delete_cmd_prefix": "del ",
     "library": "var_list.py",
     "varRefreshCmd": "print(var_dic_list())"
    },
    "r": {
     "delete_cmd_postfix": ") ",
     "delete_cmd_prefix": "rm(",
     "library": "var_list.r",
     "varRefreshCmd": "cat(var_dic_list()) "
    }
   },
   "types_to_exclude": [
    "module",
    "function",
    "builtin_function_or_method",
    "instance",
    "_Feature"
   ],
   "window_display": false
  }
 },
 "nbformat": 4,
 "nbformat_minor": 2
}
