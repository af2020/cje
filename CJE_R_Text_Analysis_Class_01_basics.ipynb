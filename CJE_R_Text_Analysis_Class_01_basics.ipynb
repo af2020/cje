{
 "cells": [
  {
   "cell_type": "code",
   "execution_count": 1,
   "metadata": {},
   "outputs": [
    {
     "data": {
      "text/html": [
       "<style>.container { width:85% !important; }</style>"
      ]
     },
     "metadata": {},
     "output_type": "display_data"
    }
   ],
   "source": [
    "IRdisplay::display_html('<style>.container { width:85% !important; }</style>')"
   ]
  },
  {
   "cell_type": "markdown",
   "metadata": {
    "ExecuteTime": {
     "end_time": "2019-06-20T15:04:21.462807Z",
     "start_time": "2019-06-20T15:04:20.307Z"
    },
    "slideshow": {
     "slide_type": "slide"
    }
   },
   "source": [
    "# tidytext package basics"
   ]
  },
  {
   "cell_type": "markdown",
   "metadata": {},
   "source": [
    "* tidyverse univers in R\n",
    "* what is tidy data?\n",
    "* key verses for data analysis\n",
    "* pipe operator\n",
    "* tidytext package key features - tokenize, stopwords, sentiments and others\n",
    "* some examples in tidytext package\n"
   ]
  },
  {
   "cell_type": "markdown",
   "metadata": {
    "slideshow": {
     "slide_type": "slide"
    }
   },
   "source": [
    "## class prerequisite"
   ]
  },
  {
   "cell_type": "markdown",
   "metadata": {},
   "source": [
    "* R의 기본적인 문법 중에서 tidyverse, ggplot2 그리고 pipe operator를 간단히 살펴봅니다.ㅡ,\n",
    "* 이미 알고 계신 분도 있겠지만, 사실 tidyverse를 잘 알고 계시다면 tidytext는 비교적 쉽게 접근할 수 있는 주제입니다.\n",
    "* 이론적인 내용은 웹상에 자료가 많으므로 실습을 통해서 내용을 파악해보려고 합니다. \n"
   ]
  },
  {
   "cell_type": "markdown",
   "metadata": {
    "slideshow": {
     "slide_type": "slide"
    }
   },
   "source": [
    "## library load\n",
    "* 먼저 실습을 위해 필요한 패키지들을 load하겠습니다.\n",
    "* 패키지를 loadg 하기 위해서는 먼저 이 패키지들이 R에 설치되어 있어야 합니다.\n",
    "* 패키지를 설치하는 명령어는 아래와 같습니다. \n",
    "> install.pakcages(\"패키지이름\")"
   ]
  },
  {
   "cell_type": "code",
   "execution_count": 1,
   "metadata": {
    "ExecuteTime": {
     "end_time": "2019-06-20T15:31:53.254086Z",
     "start_time": "2019-06-20T15:31:52.088Z"
    }
   },
   "outputs": [
    {
     "name": "stderr",
     "output_type": "stream",
     "text": [
      "─ \u001b[1mAttaching packages\u001b[22m ──────────────────── tidyverse 1.2.1 ─\n",
      "\n",
      "\u001b[32m✔\u001b[39m \u001b[34mggplot2\u001b[39m 3.3.3     \u001b[32m✔\u001b[39m \u001b[34mpurrr  \u001b[39m 0.3.4\n",
      "\u001b[32m✔\u001b[39m \u001b[34mtibble \u001b[39m 3.0.5     \u001b[32m✔\u001b[39m \u001b[34mdplyr  \u001b[39m 1.0.2\n",
      "\u001b[32m✔\u001b[39m \u001b[34mtidyr  \u001b[39m 1.1.2     \u001b[32m✔\u001b[39m \u001b[34mstringr\u001b[39m 1.4.0\n",
      "\u001b[32m✔\u001b[39m \u001b[34mreadr  \u001b[39m 1.3.1     \u001b[32m✔\u001b[39m \u001b[34mforcats\u001b[39m 0.4.0\n",
      "\n",
      "─ \u001b[1mConflicts\u001b[22m ───────────────────── tidyverse_conflicts() ─\n",
      "\u001b[31m✖\u001b[39m \u001b[34mdplyr\u001b[39m::\u001b[32mfilter()\u001b[39m  masks \u001b[34mstats\u001b[39m::filter()\n",
      "\u001b[31m✖\u001b[39m \u001b[34mpurrr\u001b[39m::\u001b[32mflatten()\u001b[39m masks \u001b[34mjsonlite\u001b[39m::flatten()\n",
      "\u001b[31m✖\u001b[39m \u001b[34mdplyr\u001b[39m::\u001b[32mlag()\u001b[39m     masks \u001b[34mstats\u001b[39m::lag()\n",
      "\n"
     ]
    }
   ],
   "source": [
    "library(tidyverse)\n",
    "# library(ggplot2)\n",
    "\n"
   ]
  },
  {
   "cell_type": "markdown",
   "metadata": {
    "slideshow": {
     "slide_type": "slide"
    }
   },
   "source": [
    "## data load & explore\n",
    "* ggplot2 패키지에는 \"diamonds\"라는 이름의 데이터가 포함되어 있습니다. \n",
    "* 이 데이터로 간단하게 tidyverse 패키지를 살펴보려고 합니다."
   ]
  },
  {
   "cell_type": "code",
   "execution_count": 5,
   "metadata": {
    "ExecuteTime": {
     "end_time": "2019-06-20T15:36:25.002575Z",
     "start_time": "2019-06-20T15:36:23.240Z"
    }
   },
   "outputs": [
    {
     "data": {
      "text/html": [
       "<table>\n",
       "<caption>A tibble: 53940 × 10</caption>\n",
       "<thead>\n",
       "\t<tr><th scope=col>carat</th><th scope=col>cut</th><th scope=col>color</th><th scope=col>clarity</th><th scope=col>depth</th><th scope=col>table</th><th scope=col>price</th><th scope=col>x</th><th scope=col>y</th><th scope=col>z</th></tr>\n",
       "\t<tr><th scope=col>&lt;dbl&gt;</th><th scope=col>&lt;ord&gt;</th><th scope=col>&lt;ord&gt;</th><th scope=col>&lt;ord&gt;</th><th scope=col>&lt;dbl&gt;</th><th scope=col>&lt;dbl&gt;</th><th scope=col>&lt;int&gt;</th><th scope=col>&lt;dbl&gt;</th><th scope=col>&lt;dbl&gt;</th><th scope=col>&lt;dbl&gt;</th></tr>\n",
       "</thead>\n",
       "<tbody>\n",
       "\t<tr><td>0.23</td><td>Ideal    </td><td>E</td><td>SI2 </td><td>61.5</td><td>55</td><td>326</td><td>3.95</td><td>3.98</td><td>2.43</td></tr>\n",
       "\t<tr><td>0.21</td><td>Premium  </td><td>E</td><td>SI1 </td><td>59.8</td><td>61</td><td>326</td><td>3.89</td><td>3.84</td><td>2.31</td></tr>\n",
       "\t<tr><td>0.23</td><td>Good     </td><td>E</td><td>VS1 </td><td>56.9</td><td>65</td><td>327</td><td>4.05</td><td>4.07</td><td>2.31</td></tr>\n",
       "\t<tr><td>0.29</td><td>Premium  </td><td>I</td><td>VS2 </td><td>62.4</td><td>58</td><td>334</td><td>4.20</td><td>4.23</td><td>2.63</td></tr>\n",
       "\t<tr><td>0.31</td><td>Good     </td><td>J</td><td>SI2 </td><td>63.3</td><td>58</td><td>335</td><td>4.34</td><td>4.35</td><td>2.75</td></tr>\n",
       "\t<tr><td>0.24</td><td>Very Good</td><td>J</td><td>VVS2</td><td>62.8</td><td>57</td><td>336</td><td>3.94</td><td>3.96</td><td>2.48</td></tr>\n",
       "\t<tr><td>0.24</td><td>Very Good</td><td>I</td><td>VVS1</td><td>62.3</td><td>57</td><td>336</td><td>3.95</td><td>3.98</td><td>2.47</td></tr>\n",
       "\t<tr><td>0.26</td><td>Very Good</td><td>H</td><td>SI1 </td><td>61.9</td><td>55</td><td>337</td><td>4.07</td><td>4.11</td><td>2.53</td></tr>\n",
       "\t<tr><td>0.22</td><td>Fair     </td><td>E</td><td>VS2 </td><td>65.1</td><td>61</td><td>337</td><td>3.87</td><td>3.78</td><td>2.49</td></tr>\n",
       "\t<tr><td>0.23</td><td>Very Good</td><td>H</td><td>VS1 </td><td>59.4</td><td>61</td><td>338</td><td>4.00</td><td>4.05</td><td>2.39</td></tr>\n",
       "\t<tr><td>0.30</td><td>Good     </td><td>J</td><td>SI1 </td><td>64.0</td><td>55</td><td>339</td><td>4.25</td><td>4.28</td><td>2.73</td></tr>\n",
       "\t<tr><td>0.23</td><td>Ideal    </td><td>J</td><td>VS1 </td><td>62.8</td><td>56</td><td>340</td><td>3.93</td><td>3.90</td><td>2.46</td></tr>\n",
       "\t<tr><td>0.22</td><td>Premium  </td><td>F</td><td>SI1 </td><td>60.4</td><td>61</td><td>342</td><td>3.88</td><td>3.84</td><td>2.33</td></tr>\n",
       "\t<tr><td>0.31</td><td>Ideal    </td><td>J</td><td>SI2 </td><td>62.2</td><td>54</td><td>344</td><td>4.35</td><td>4.37</td><td>2.71</td></tr>\n",
       "\t<tr><td>0.20</td><td>Premium  </td><td>E</td><td>SI2 </td><td>60.2</td><td>62</td><td>345</td><td>3.79</td><td>3.75</td><td>2.27</td></tr>\n",
       "\t<tr><td>0.32</td><td>Premium  </td><td>E</td><td>I1  </td><td>60.9</td><td>58</td><td>345</td><td>4.38</td><td>4.42</td><td>2.68</td></tr>\n",
       "\t<tr><td>0.30</td><td>Ideal    </td><td>I</td><td>SI2 </td><td>62.0</td><td>54</td><td>348</td><td>4.31</td><td>4.34</td><td>2.68</td></tr>\n",
       "\t<tr><td>0.30</td><td>Good     </td><td>J</td><td>SI1 </td><td>63.4</td><td>54</td><td>351</td><td>4.23</td><td>4.29</td><td>2.70</td></tr>\n",
       "\t<tr><td>0.30</td><td>Good     </td><td>J</td><td>SI1 </td><td>63.8</td><td>56</td><td>351</td><td>4.23</td><td>4.26</td><td>2.71</td></tr>\n",
       "\t<tr><td>0.30</td><td>Very Good</td><td>J</td><td>SI1 </td><td>62.7</td><td>59</td><td>351</td><td>4.21</td><td>4.27</td><td>2.66</td></tr>\n",
       "\t<tr><td>0.30</td><td>Good     </td><td>I</td><td>SI2 </td><td>63.3</td><td>56</td><td>351</td><td>4.26</td><td>4.30</td><td>2.71</td></tr>\n",
       "\t<tr><td>0.23</td><td>Very Good</td><td>E</td><td>VS2 </td><td>63.8</td><td>55</td><td>352</td><td>3.85</td><td>3.92</td><td>2.48</td></tr>\n",
       "\t<tr><td>0.23</td><td>Very Good</td><td>H</td><td>VS1 </td><td>61.0</td><td>57</td><td>353</td><td>3.94</td><td>3.96</td><td>2.41</td></tr>\n",
       "\t<tr><td>0.31</td><td>Very Good</td><td>J</td><td>SI1 </td><td>59.4</td><td>62</td><td>353</td><td>4.39</td><td>4.43</td><td>2.62</td></tr>\n",
       "\t<tr><td>0.31</td><td>Very Good</td><td>J</td><td>SI1 </td><td>58.1</td><td>62</td><td>353</td><td>4.44</td><td>4.47</td><td>2.59</td></tr>\n",
       "\t<tr><td>0.23</td><td>Very Good</td><td>G</td><td>VVS2</td><td>60.4</td><td>58</td><td>354</td><td>3.97</td><td>4.01</td><td>2.41</td></tr>\n",
       "\t<tr><td>0.24</td><td>Premium  </td><td>I</td><td>VS1 </td><td>62.5</td><td>57</td><td>355</td><td>3.97</td><td>3.94</td><td>2.47</td></tr>\n",
       "\t<tr><td>0.30</td><td>Very Good</td><td>J</td><td>VS2 </td><td>62.2</td><td>57</td><td>357</td><td>4.28</td><td>4.30</td><td>2.67</td></tr>\n",
       "\t<tr><td>0.23</td><td>Very Good</td><td>D</td><td>VS2 </td><td>60.5</td><td>61</td><td>357</td><td>3.96</td><td>3.97</td><td>2.40</td></tr>\n",
       "\t<tr><td>0.23</td><td>Very Good</td><td>F</td><td>VS1 </td><td>60.9</td><td>57</td><td>357</td><td>3.96</td><td>3.99</td><td>2.42</td></tr>\n",
       "\t<tr><td>⋮</td><td>⋮</td><td>⋮</td><td>⋮</td><td>⋮</td><td>⋮</td><td>⋮</td><td>⋮</td><td>⋮</td><td>⋮</td></tr>\n",
       "\t<tr><td>0.70</td><td>Premium  </td><td>E</td><td>SI1 </td><td>60.5</td><td>58</td><td>2753</td><td>5.74</td><td>5.77</td><td>3.48</td></tr>\n",
       "\t<tr><td>0.57</td><td>Premium  </td><td>E</td><td>IF  </td><td>59.8</td><td>60</td><td>2753</td><td>5.43</td><td>5.38</td><td>3.23</td></tr>\n",
       "\t<tr><td>0.61</td><td>Premium  </td><td>F</td><td>VVS1</td><td>61.8</td><td>59</td><td>2753</td><td>5.48</td><td>5.40</td><td>3.36</td></tr>\n",
       "\t<tr><td>0.80</td><td>Good     </td><td>G</td><td>VS2 </td><td>64.2</td><td>58</td><td>2753</td><td>5.84</td><td>5.81</td><td>3.74</td></tr>\n",
       "\t<tr><td>0.84</td><td>Good     </td><td>I</td><td>VS1 </td><td>63.7</td><td>59</td><td>2753</td><td>5.94</td><td>5.90</td><td>3.77</td></tr>\n",
       "\t<tr><td>0.77</td><td>Ideal    </td><td>E</td><td>SI2 </td><td>62.1</td><td>56</td><td>2753</td><td>5.84</td><td>5.86</td><td>3.63</td></tr>\n",
       "\t<tr><td>0.74</td><td>Good     </td><td>D</td><td>SI1 </td><td>63.1</td><td>59</td><td>2753</td><td>5.71</td><td>5.74</td><td>3.61</td></tr>\n",
       "\t<tr><td>0.90</td><td>Very Good</td><td>J</td><td>SI1 </td><td>63.2</td><td>60</td><td>2753</td><td>6.12</td><td>6.09</td><td>3.86</td></tr>\n",
       "\t<tr><td>0.76</td><td>Premium  </td><td>I</td><td>VS1 </td><td>59.3</td><td>62</td><td>2753</td><td>5.93</td><td>5.85</td><td>3.49</td></tr>\n",
       "\t<tr><td>0.76</td><td>Ideal    </td><td>I</td><td>VVS1</td><td>62.2</td><td>55</td><td>2753</td><td>5.89</td><td>5.87</td><td>3.66</td></tr>\n",
       "\t<tr><td>0.70</td><td>Very Good</td><td>E</td><td>VS2 </td><td>62.4</td><td>60</td><td>2755</td><td>5.57</td><td>5.61</td><td>3.49</td></tr>\n",
       "\t<tr><td>0.70</td><td>Very Good</td><td>E</td><td>VS2 </td><td>62.8</td><td>60</td><td>2755</td><td>5.59</td><td>5.65</td><td>3.53</td></tr>\n",
       "\t<tr><td>0.70</td><td>Very Good</td><td>D</td><td>VS1 </td><td>63.1</td><td>59</td><td>2755</td><td>5.67</td><td>5.58</td><td>3.55</td></tr>\n",
       "\t<tr><td>0.73</td><td>Ideal    </td><td>I</td><td>VS2 </td><td>61.3</td><td>56</td><td>2756</td><td>5.80</td><td>5.84</td><td>3.57</td></tr>\n",
       "\t<tr><td>0.73</td><td>Ideal    </td><td>I</td><td>VS2 </td><td>61.6</td><td>55</td><td>2756</td><td>5.82</td><td>5.84</td><td>3.59</td></tr>\n",
       "\t<tr><td>0.79</td><td>Ideal    </td><td>I</td><td>SI1 </td><td>61.6</td><td>56</td><td>2756</td><td>5.95</td><td>5.97</td><td>3.67</td></tr>\n",
       "\t<tr><td>0.71</td><td>Ideal    </td><td>E</td><td>SI1 </td><td>61.9</td><td>56</td><td>2756</td><td>5.71</td><td>5.73</td><td>3.54</td></tr>\n",
       "\t<tr><td>0.79</td><td>Good     </td><td>F</td><td>SI1 </td><td>58.1</td><td>59</td><td>2756</td><td>6.06</td><td>6.13</td><td>3.54</td></tr>\n",
       "\t<tr><td>0.79</td><td>Premium  </td><td>E</td><td>SI2 </td><td>61.4</td><td>58</td><td>2756</td><td>6.03</td><td>5.96</td><td>3.68</td></tr>\n",
       "\t<tr><td>0.71</td><td>Ideal    </td><td>G</td><td>VS1 </td><td>61.4</td><td>56</td><td>2756</td><td>5.76</td><td>5.73</td><td>3.53</td></tr>\n",
       "\t<tr><td>0.71</td><td>Premium  </td><td>E</td><td>SI1 </td><td>60.5</td><td>55</td><td>2756</td><td>5.79</td><td>5.74</td><td>3.49</td></tr>\n",
       "\t<tr><td>0.71</td><td>Premium  </td><td>F</td><td>SI1 </td><td>59.8</td><td>62</td><td>2756</td><td>5.74</td><td>5.73</td><td>3.43</td></tr>\n",
       "\t<tr><td>0.70</td><td>Very Good</td><td>E</td><td>VS2 </td><td>60.5</td><td>59</td><td>2757</td><td>5.71</td><td>5.76</td><td>3.47</td></tr>\n",
       "\t<tr><td>0.70</td><td>Very Good</td><td>E</td><td>VS2 </td><td>61.2</td><td>59</td><td>2757</td><td>5.69</td><td>5.72</td><td>3.49</td></tr>\n",
       "\t<tr><td>0.72</td><td>Premium  </td><td>D</td><td>SI1 </td><td>62.7</td><td>59</td><td>2757</td><td>5.69</td><td>5.73</td><td>3.58</td></tr>\n",
       "\t<tr><td>0.72</td><td>Ideal    </td><td>D</td><td>SI1 </td><td>60.8</td><td>57</td><td>2757</td><td>5.75</td><td>5.76</td><td>3.50</td></tr>\n",
       "\t<tr><td>0.72</td><td>Good     </td><td>D</td><td>SI1 </td><td>63.1</td><td>55</td><td>2757</td><td>5.69</td><td>5.75</td><td>3.61</td></tr>\n",
       "\t<tr><td>0.70</td><td>Very Good</td><td>D</td><td>SI1 </td><td>62.8</td><td>60</td><td>2757</td><td>5.66</td><td>5.68</td><td>3.56</td></tr>\n",
       "\t<tr><td>0.86</td><td>Premium  </td><td>H</td><td>SI2 </td><td>61.0</td><td>58</td><td>2757</td><td>6.15</td><td>6.12</td><td>3.74</td></tr>\n",
       "\t<tr><td>0.75</td><td>Ideal    </td><td>D</td><td>SI2 </td><td>62.2</td><td>55</td><td>2757</td><td>5.83</td><td>5.87</td><td>3.64</td></tr>\n",
       "</tbody>\n",
       "</table>\n"
      ],
      "text/latex": [
       "A tibble: 53940 × 10\n",
       "\\begin{tabular}{llllllllll}\n",
       " carat & cut & color & clarity & depth & table & price & x & y & z\\\\\n",
       " <dbl> & <ord> & <ord> & <ord> & <dbl> & <dbl> & <int> & <dbl> & <dbl> & <dbl>\\\\\n",
       "\\hline\n",
       "\t 0.23 & Ideal     & E & SI2  & 61.5 & 55 & 326 & 3.95 & 3.98 & 2.43\\\\\n",
       "\t 0.21 & Premium   & E & SI1  & 59.8 & 61 & 326 & 3.89 & 3.84 & 2.31\\\\\n",
       "\t 0.23 & Good      & E & VS1  & 56.9 & 65 & 327 & 4.05 & 4.07 & 2.31\\\\\n",
       "\t 0.29 & Premium   & I & VS2  & 62.4 & 58 & 334 & 4.20 & 4.23 & 2.63\\\\\n",
       "\t 0.31 & Good      & J & SI2  & 63.3 & 58 & 335 & 4.34 & 4.35 & 2.75\\\\\n",
       "\t 0.24 & Very Good & J & VVS2 & 62.8 & 57 & 336 & 3.94 & 3.96 & 2.48\\\\\n",
       "\t 0.24 & Very Good & I & VVS1 & 62.3 & 57 & 336 & 3.95 & 3.98 & 2.47\\\\\n",
       "\t 0.26 & Very Good & H & SI1  & 61.9 & 55 & 337 & 4.07 & 4.11 & 2.53\\\\\n",
       "\t 0.22 & Fair      & E & VS2  & 65.1 & 61 & 337 & 3.87 & 3.78 & 2.49\\\\\n",
       "\t 0.23 & Very Good & H & VS1  & 59.4 & 61 & 338 & 4.00 & 4.05 & 2.39\\\\\n",
       "\t 0.30 & Good      & J & SI1  & 64.0 & 55 & 339 & 4.25 & 4.28 & 2.73\\\\\n",
       "\t 0.23 & Ideal     & J & VS1  & 62.8 & 56 & 340 & 3.93 & 3.90 & 2.46\\\\\n",
       "\t 0.22 & Premium   & F & SI1  & 60.4 & 61 & 342 & 3.88 & 3.84 & 2.33\\\\\n",
       "\t 0.31 & Ideal     & J & SI2  & 62.2 & 54 & 344 & 4.35 & 4.37 & 2.71\\\\\n",
       "\t 0.20 & Premium   & E & SI2  & 60.2 & 62 & 345 & 3.79 & 3.75 & 2.27\\\\\n",
       "\t 0.32 & Premium   & E & I1   & 60.9 & 58 & 345 & 4.38 & 4.42 & 2.68\\\\\n",
       "\t 0.30 & Ideal     & I & SI2  & 62.0 & 54 & 348 & 4.31 & 4.34 & 2.68\\\\\n",
       "\t 0.30 & Good      & J & SI1  & 63.4 & 54 & 351 & 4.23 & 4.29 & 2.70\\\\\n",
       "\t 0.30 & Good      & J & SI1  & 63.8 & 56 & 351 & 4.23 & 4.26 & 2.71\\\\\n",
       "\t 0.30 & Very Good & J & SI1  & 62.7 & 59 & 351 & 4.21 & 4.27 & 2.66\\\\\n",
       "\t 0.30 & Good      & I & SI2  & 63.3 & 56 & 351 & 4.26 & 4.30 & 2.71\\\\\n",
       "\t 0.23 & Very Good & E & VS2  & 63.8 & 55 & 352 & 3.85 & 3.92 & 2.48\\\\\n",
       "\t 0.23 & Very Good & H & VS1  & 61.0 & 57 & 353 & 3.94 & 3.96 & 2.41\\\\\n",
       "\t 0.31 & Very Good & J & SI1  & 59.4 & 62 & 353 & 4.39 & 4.43 & 2.62\\\\\n",
       "\t 0.31 & Very Good & J & SI1  & 58.1 & 62 & 353 & 4.44 & 4.47 & 2.59\\\\\n",
       "\t 0.23 & Very Good & G & VVS2 & 60.4 & 58 & 354 & 3.97 & 4.01 & 2.41\\\\\n",
       "\t 0.24 & Premium   & I & VS1  & 62.5 & 57 & 355 & 3.97 & 3.94 & 2.47\\\\\n",
       "\t 0.30 & Very Good & J & VS2  & 62.2 & 57 & 357 & 4.28 & 4.30 & 2.67\\\\\n",
       "\t 0.23 & Very Good & D & VS2  & 60.5 & 61 & 357 & 3.96 & 3.97 & 2.40\\\\\n",
       "\t 0.23 & Very Good & F & VS1  & 60.9 & 57 & 357 & 3.96 & 3.99 & 2.42\\\\\n",
       "\t ⋮ & ⋮ & ⋮ & ⋮ & ⋮ & ⋮ & ⋮ & ⋮ & ⋮ & ⋮\\\\\n",
       "\t 0.70 & Premium   & E & SI1  & 60.5 & 58 & 2753 & 5.74 & 5.77 & 3.48\\\\\n",
       "\t 0.57 & Premium   & E & IF   & 59.8 & 60 & 2753 & 5.43 & 5.38 & 3.23\\\\\n",
       "\t 0.61 & Premium   & F & VVS1 & 61.8 & 59 & 2753 & 5.48 & 5.40 & 3.36\\\\\n",
       "\t 0.80 & Good      & G & VS2  & 64.2 & 58 & 2753 & 5.84 & 5.81 & 3.74\\\\\n",
       "\t 0.84 & Good      & I & VS1  & 63.7 & 59 & 2753 & 5.94 & 5.90 & 3.77\\\\\n",
       "\t 0.77 & Ideal     & E & SI2  & 62.1 & 56 & 2753 & 5.84 & 5.86 & 3.63\\\\\n",
       "\t 0.74 & Good      & D & SI1  & 63.1 & 59 & 2753 & 5.71 & 5.74 & 3.61\\\\\n",
       "\t 0.90 & Very Good & J & SI1  & 63.2 & 60 & 2753 & 6.12 & 6.09 & 3.86\\\\\n",
       "\t 0.76 & Premium   & I & VS1  & 59.3 & 62 & 2753 & 5.93 & 5.85 & 3.49\\\\\n",
       "\t 0.76 & Ideal     & I & VVS1 & 62.2 & 55 & 2753 & 5.89 & 5.87 & 3.66\\\\\n",
       "\t 0.70 & Very Good & E & VS2  & 62.4 & 60 & 2755 & 5.57 & 5.61 & 3.49\\\\\n",
       "\t 0.70 & Very Good & E & VS2  & 62.8 & 60 & 2755 & 5.59 & 5.65 & 3.53\\\\\n",
       "\t 0.70 & Very Good & D & VS1  & 63.1 & 59 & 2755 & 5.67 & 5.58 & 3.55\\\\\n",
       "\t 0.73 & Ideal     & I & VS2  & 61.3 & 56 & 2756 & 5.80 & 5.84 & 3.57\\\\\n",
       "\t 0.73 & Ideal     & I & VS2  & 61.6 & 55 & 2756 & 5.82 & 5.84 & 3.59\\\\\n",
       "\t 0.79 & Ideal     & I & SI1  & 61.6 & 56 & 2756 & 5.95 & 5.97 & 3.67\\\\\n",
       "\t 0.71 & Ideal     & E & SI1  & 61.9 & 56 & 2756 & 5.71 & 5.73 & 3.54\\\\\n",
       "\t 0.79 & Good      & F & SI1  & 58.1 & 59 & 2756 & 6.06 & 6.13 & 3.54\\\\\n",
       "\t 0.79 & Premium   & E & SI2  & 61.4 & 58 & 2756 & 6.03 & 5.96 & 3.68\\\\\n",
       "\t 0.71 & Ideal     & G & VS1  & 61.4 & 56 & 2756 & 5.76 & 5.73 & 3.53\\\\\n",
       "\t 0.71 & Premium   & E & SI1  & 60.5 & 55 & 2756 & 5.79 & 5.74 & 3.49\\\\\n",
       "\t 0.71 & Premium   & F & SI1  & 59.8 & 62 & 2756 & 5.74 & 5.73 & 3.43\\\\\n",
       "\t 0.70 & Very Good & E & VS2  & 60.5 & 59 & 2757 & 5.71 & 5.76 & 3.47\\\\\n",
       "\t 0.70 & Very Good & E & VS2  & 61.2 & 59 & 2757 & 5.69 & 5.72 & 3.49\\\\\n",
       "\t 0.72 & Premium   & D & SI1  & 62.7 & 59 & 2757 & 5.69 & 5.73 & 3.58\\\\\n",
       "\t 0.72 & Ideal     & D & SI1  & 60.8 & 57 & 2757 & 5.75 & 5.76 & 3.50\\\\\n",
       "\t 0.72 & Good      & D & SI1  & 63.1 & 55 & 2757 & 5.69 & 5.75 & 3.61\\\\\n",
       "\t 0.70 & Very Good & D & SI1  & 62.8 & 60 & 2757 & 5.66 & 5.68 & 3.56\\\\\n",
       "\t 0.86 & Premium   & H & SI2  & 61.0 & 58 & 2757 & 6.15 & 6.12 & 3.74\\\\\n",
       "\t 0.75 & Ideal     & D & SI2  & 62.2 & 55 & 2757 & 5.83 & 5.87 & 3.64\\\\\n",
       "\\end{tabular}\n"
      ],
      "text/markdown": [
       "\n",
       "A tibble: 53940 × 10\n",
       "\n",
       "| carat &lt;dbl&gt; | cut &lt;ord&gt; | color &lt;ord&gt; | clarity &lt;ord&gt; | depth &lt;dbl&gt; | table &lt;dbl&gt; | price &lt;int&gt; | x &lt;dbl&gt; | y &lt;dbl&gt; | z &lt;dbl&gt; |\n",
       "|---|---|---|---|---|---|---|---|---|---|\n",
       "| 0.23 | Ideal     | E | SI2  | 61.5 | 55 | 326 | 3.95 | 3.98 | 2.43 |\n",
       "| 0.21 | Premium   | E | SI1  | 59.8 | 61 | 326 | 3.89 | 3.84 | 2.31 |\n",
       "| 0.23 | Good      | E | VS1  | 56.9 | 65 | 327 | 4.05 | 4.07 | 2.31 |\n",
       "| 0.29 | Premium   | I | VS2  | 62.4 | 58 | 334 | 4.20 | 4.23 | 2.63 |\n",
       "| 0.31 | Good      | J | SI2  | 63.3 | 58 | 335 | 4.34 | 4.35 | 2.75 |\n",
       "| 0.24 | Very Good | J | VVS2 | 62.8 | 57 | 336 | 3.94 | 3.96 | 2.48 |\n",
       "| 0.24 | Very Good | I | VVS1 | 62.3 | 57 | 336 | 3.95 | 3.98 | 2.47 |\n",
       "| 0.26 | Very Good | H | SI1  | 61.9 | 55 | 337 | 4.07 | 4.11 | 2.53 |\n",
       "| 0.22 | Fair      | E | VS2  | 65.1 | 61 | 337 | 3.87 | 3.78 | 2.49 |\n",
       "| 0.23 | Very Good | H | VS1  | 59.4 | 61 | 338 | 4.00 | 4.05 | 2.39 |\n",
       "| 0.30 | Good      | J | SI1  | 64.0 | 55 | 339 | 4.25 | 4.28 | 2.73 |\n",
       "| 0.23 | Ideal     | J | VS1  | 62.8 | 56 | 340 | 3.93 | 3.90 | 2.46 |\n",
       "| 0.22 | Premium   | F | SI1  | 60.4 | 61 | 342 | 3.88 | 3.84 | 2.33 |\n",
       "| 0.31 | Ideal     | J | SI2  | 62.2 | 54 | 344 | 4.35 | 4.37 | 2.71 |\n",
       "| 0.20 | Premium   | E | SI2  | 60.2 | 62 | 345 | 3.79 | 3.75 | 2.27 |\n",
       "| 0.32 | Premium   | E | I1   | 60.9 | 58 | 345 | 4.38 | 4.42 | 2.68 |\n",
       "| 0.30 | Ideal     | I | SI2  | 62.0 | 54 | 348 | 4.31 | 4.34 | 2.68 |\n",
       "| 0.30 | Good      | J | SI1  | 63.4 | 54 | 351 | 4.23 | 4.29 | 2.70 |\n",
       "| 0.30 | Good      | J | SI1  | 63.8 | 56 | 351 | 4.23 | 4.26 | 2.71 |\n",
       "| 0.30 | Very Good | J | SI1  | 62.7 | 59 | 351 | 4.21 | 4.27 | 2.66 |\n",
       "| 0.30 | Good      | I | SI2  | 63.3 | 56 | 351 | 4.26 | 4.30 | 2.71 |\n",
       "| 0.23 | Very Good | E | VS2  | 63.8 | 55 | 352 | 3.85 | 3.92 | 2.48 |\n",
       "| 0.23 | Very Good | H | VS1  | 61.0 | 57 | 353 | 3.94 | 3.96 | 2.41 |\n",
       "| 0.31 | Very Good | J | SI1  | 59.4 | 62 | 353 | 4.39 | 4.43 | 2.62 |\n",
       "| 0.31 | Very Good | J | SI1  | 58.1 | 62 | 353 | 4.44 | 4.47 | 2.59 |\n",
       "| 0.23 | Very Good | G | VVS2 | 60.4 | 58 | 354 | 3.97 | 4.01 | 2.41 |\n",
       "| 0.24 | Premium   | I | VS1  | 62.5 | 57 | 355 | 3.97 | 3.94 | 2.47 |\n",
       "| 0.30 | Very Good | J | VS2  | 62.2 | 57 | 357 | 4.28 | 4.30 | 2.67 |\n",
       "| 0.23 | Very Good | D | VS2  | 60.5 | 61 | 357 | 3.96 | 3.97 | 2.40 |\n",
       "| 0.23 | Very Good | F | VS1  | 60.9 | 57 | 357 | 3.96 | 3.99 | 2.42 |\n",
       "| ⋮ | ⋮ | ⋮ | ⋮ | ⋮ | ⋮ | ⋮ | ⋮ | ⋮ | ⋮ |\n",
       "| 0.70 | Premium   | E | SI1  | 60.5 | 58 | 2753 | 5.74 | 5.77 | 3.48 |\n",
       "| 0.57 | Premium   | E | IF   | 59.8 | 60 | 2753 | 5.43 | 5.38 | 3.23 |\n",
       "| 0.61 | Premium   | F | VVS1 | 61.8 | 59 | 2753 | 5.48 | 5.40 | 3.36 |\n",
       "| 0.80 | Good      | G | VS2  | 64.2 | 58 | 2753 | 5.84 | 5.81 | 3.74 |\n",
       "| 0.84 | Good      | I | VS1  | 63.7 | 59 | 2753 | 5.94 | 5.90 | 3.77 |\n",
       "| 0.77 | Ideal     | E | SI2  | 62.1 | 56 | 2753 | 5.84 | 5.86 | 3.63 |\n",
       "| 0.74 | Good      | D | SI1  | 63.1 | 59 | 2753 | 5.71 | 5.74 | 3.61 |\n",
       "| 0.90 | Very Good | J | SI1  | 63.2 | 60 | 2753 | 6.12 | 6.09 | 3.86 |\n",
       "| 0.76 | Premium   | I | VS1  | 59.3 | 62 | 2753 | 5.93 | 5.85 | 3.49 |\n",
       "| 0.76 | Ideal     | I | VVS1 | 62.2 | 55 | 2753 | 5.89 | 5.87 | 3.66 |\n",
       "| 0.70 | Very Good | E | VS2  | 62.4 | 60 | 2755 | 5.57 | 5.61 | 3.49 |\n",
       "| 0.70 | Very Good | E | VS2  | 62.8 | 60 | 2755 | 5.59 | 5.65 | 3.53 |\n",
       "| 0.70 | Very Good | D | VS1  | 63.1 | 59 | 2755 | 5.67 | 5.58 | 3.55 |\n",
       "| 0.73 | Ideal     | I | VS2  | 61.3 | 56 | 2756 | 5.80 | 5.84 | 3.57 |\n",
       "| 0.73 | Ideal     | I | VS2  | 61.6 | 55 | 2756 | 5.82 | 5.84 | 3.59 |\n",
       "| 0.79 | Ideal     | I | SI1  | 61.6 | 56 | 2756 | 5.95 | 5.97 | 3.67 |\n",
       "| 0.71 | Ideal     | E | SI1  | 61.9 | 56 | 2756 | 5.71 | 5.73 | 3.54 |\n",
       "| 0.79 | Good      | F | SI1  | 58.1 | 59 | 2756 | 6.06 | 6.13 | 3.54 |\n",
       "| 0.79 | Premium   | E | SI2  | 61.4 | 58 | 2756 | 6.03 | 5.96 | 3.68 |\n",
       "| 0.71 | Ideal     | G | VS1  | 61.4 | 56 | 2756 | 5.76 | 5.73 | 3.53 |\n",
       "| 0.71 | Premium   | E | SI1  | 60.5 | 55 | 2756 | 5.79 | 5.74 | 3.49 |\n",
       "| 0.71 | Premium   | F | SI1  | 59.8 | 62 | 2756 | 5.74 | 5.73 | 3.43 |\n",
       "| 0.70 | Very Good | E | VS2  | 60.5 | 59 | 2757 | 5.71 | 5.76 | 3.47 |\n",
       "| 0.70 | Very Good | E | VS2  | 61.2 | 59 | 2757 | 5.69 | 5.72 | 3.49 |\n",
       "| 0.72 | Premium   | D | SI1  | 62.7 | 59 | 2757 | 5.69 | 5.73 | 3.58 |\n",
       "| 0.72 | Ideal     | D | SI1  | 60.8 | 57 | 2757 | 5.75 | 5.76 | 3.50 |\n",
       "| 0.72 | Good      | D | SI1  | 63.1 | 55 | 2757 | 5.69 | 5.75 | 3.61 |\n",
       "| 0.70 | Very Good | D | SI1  | 62.8 | 60 | 2757 | 5.66 | 5.68 | 3.56 |\n",
       "| 0.86 | Premium   | H | SI2  | 61.0 | 58 | 2757 | 6.15 | 6.12 | 3.74 |\n",
       "| 0.75 | Ideal     | D | SI2  | 62.2 | 55 | 2757 | 5.83 | 5.87 | 3.64 |\n",
       "\n"
      ],
      "text/plain": [
       "      carat cut       color clarity depth table price x    y    z   \n",
       "1     0.23  Ideal     E     SI2     61.5  55    326   3.95 3.98 2.43\n",
       "2     0.21  Premium   E     SI1     59.8  61    326   3.89 3.84 2.31\n",
       "3     0.23  Good      E     VS1     56.9  65    327   4.05 4.07 2.31\n",
       "4     0.29  Premium   I     VS2     62.4  58    334   4.20 4.23 2.63\n",
       "5     0.31  Good      J     SI2     63.3  58    335   4.34 4.35 2.75\n",
       "6     0.24  Very Good J     VVS2    62.8  57    336   3.94 3.96 2.48\n",
       "7     0.24  Very Good I     VVS1    62.3  57    336   3.95 3.98 2.47\n",
       "8     0.26  Very Good H     SI1     61.9  55    337   4.07 4.11 2.53\n",
       "9     0.22  Fair      E     VS2     65.1  61    337   3.87 3.78 2.49\n",
       "10    0.23  Very Good H     VS1     59.4  61    338   4.00 4.05 2.39\n",
       "11    0.30  Good      J     SI1     64.0  55    339   4.25 4.28 2.73\n",
       "12    0.23  Ideal     J     VS1     62.8  56    340   3.93 3.90 2.46\n",
       "13    0.22  Premium   F     SI1     60.4  61    342   3.88 3.84 2.33\n",
       "14    0.31  Ideal     J     SI2     62.2  54    344   4.35 4.37 2.71\n",
       "15    0.20  Premium   E     SI2     60.2  62    345   3.79 3.75 2.27\n",
       "16    0.32  Premium   E     I1      60.9  58    345   4.38 4.42 2.68\n",
       "17    0.30  Ideal     I     SI2     62.0  54    348   4.31 4.34 2.68\n",
       "18    0.30  Good      J     SI1     63.4  54    351   4.23 4.29 2.70\n",
       "19    0.30  Good      J     SI1     63.8  56    351   4.23 4.26 2.71\n",
       "20    0.30  Very Good J     SI1     62.7  59    351   4.21 4.27 2.66\n",
       "21    0.30  Good      I     SI2     63.3  56    351   4.26 4.30 2.71\n",
       "22    0.23  Very Good E     VS2     63.8  55    352   3.85 3.92 2.48\n",
       "23    0.23  Very Good H     VS1     61.0  57    353   3.94 3.96 2.41\n",
       "24    0.31  Very Good J     SI1     59.4  62    353   4.39 4.43 2.62\n",
       "25    0.31  Very Good J     SI1     58.1  62    353   4.44 4.47 2.59\n",
       "26    0.23  Very Good G     VVS2    60.4  58    354   3.97 4.01 2.41\n",
       "27    0.24  Premium   I     VS1     62.5  57    355   3.97 3.94 2.47\n",
       "28    0.30  Very Good J     VS2     62.2  57    357   4.28 4.30 2.67\n",
       "29    0.23  Very Good D     VS2     60.5  61    357   3.96 3.97 2.40\n",
       "30    0.23  Very Good F     VS1     60.9  57    357   3.96 3.99 2.42\n",
       "⋮     ⋮     ⋮         ⋮     ⋮       ⋮     ⋮     ⋮     ⋮    ⋮    ⋮   \n",
       "53911 0.70  Premium   E     SI1     60.5  58    2753  5.74 5.77 3.48\n",
       "53912 0.57  Premium   E     IF      59.8  60    2753  5.43 5.38 3.23\n",
       "53913 0.61  Premium   F     VVS1    61.8  59    2753  5.48 5.40 3.36\n",
       "53914 0.80  Good      G     VS2     64.2  58    2753  5.84 5.81 3.74\n",
       "53915 0.84  Good      I     VS1     63.7  59    2753  5.94 5.90 3.77\n",
       "53916 0.77  Ideal     E     SI2     62.1  56    2753  5.84 5.86 3.63\n",
       "53917 0.74  Good      D     SI1     63.1  59    2753  5.71 5.74 3.61\n",
       "53918 0.90  Very Good J     SI1     63.2  60    2753  6.12 6.09 3.86\n",
       "53919 0.76  Premium   I     VS1     59.3  62    2753  5.93 5.85 3.49\n",
       "53920 0.76  Ideal     I     VVS1    62.2  55    2753  5.89 5.87 3.66\n",
       "53921 0.70  Very Good E     VS2     62.4  60    2755  5.57 5.61 3.49\n",
       "53922 0.70  Very Good E     VS2     62.8  60    2755  5.59 5.65 3.53\n",
       "53923 0.70  Very Good D     VS1     63.1  59    2755  5.67 5.58 3.55\n",
       "53924 0.73  Ideal     I     VS2     61.3  56    2756  5.80 5.84 3.57\n",
       "53925 0.73  Ideal     I     VS2     61.6  55    2756  5.82 5.84 3.59\n",
       "53926 0.79  Ideal     I     SI1     61.6  56    2756  5.95 5.97 3.67\n",
       "53927 0.71  Ideal     E     SI1     61.9  56    2756  5.71 5.73 3.54\n",
       "53928 0.79  Good      F     SI1     58.1  59    2756  6.06 6.13 3.54\n",
       "53929 0.79  Premium   E     SI2     61.4  58    2756  6.03 5.96 3.68\n",
       "53930 0.71  Ideal     G     VS1     61.4  56    2756  5.76 5.73 3.53\n",
       "53931 0.71  Premium   E     SI1     60.5  55    2756  5.79 5.74 3.49\n",
       "53932 0.71  Premium   F     SI1     59.8  62    2756  5.74 5.73 3.43\n",
       "53933 0.70  Very Good E     VS2     60.5  59    2757  5.71 5.76 3.47\n",
       "53934 0.70  Very Good E     VS2     61.2  59    2757  5.69 5.72 3.49\n",
       "53935 0.72  Premium   D     SI1     62.7  59    2757  5.69 5.73 3.58\n",
       "53936 0.72  Ideal     D     SI1     60.8  57    2757  5.75 5.76 3.50\n",
       "53937 0.72  Good      D     SI1     63.1  55    2757  5.69 5.75 3.61\n",
       "53938 0.70  Very Good D     SI1     62.8  60    2757  5.66 5.68 3.56\n",
       "53939 0.86  Premium   H     SI2     61.0  58    2757  6.15 6.12 3.74\n",
       "53940 0.75  Ideal     D     SI2     62.2  55    2757  5.83 5.87 3.64"
      ]
     },
     "metadata": {},
     "output_type": "display_data"
    }
   ],
   "source": [
    "diamonds"
   ]
  },
  {
   "cell_type": "markdown",
   "metadata": {
    "cell_style": "center",
    "slideshow": {
     "slide_type": "slide"
    }
   },
   "source": [
    "### head\n",
    "* 상위 n개 데이터만 살펴볼 수 있습니다."
   ]
  },
  {
   "cell_type": "code",
   "execution_count": 3,
   "metadata": {
    "ExecuteTime": {
     "end_time": "2019-06-20T15:40:41.882132Z",
     "start_time": "2019-06-20T15:40:40.708Z"
    },
    "cell_style": "center"
   },
   "outputs": [
    {
     "data": {
      "text/html": [
       "<table>\n",
       "<caption>A tibble: 2 × 10</caption>\n",
       "<thead>\n",
       "\t<tr><th scope=col>carat</th><th scope=col>cut</th><th scope=col>color</th><th scope=col>clarity</th><th scope=col>depth</th><th scope=col>table</th><th scope=col>price</th><th scope=col>x</th><th scope=col>y</th><th scope=col>z</th></tr>\n",
       "\t<tr><th scope=col>&lt;dbl&gt;</th><th scope=col>&lt;ord&gt;</th><th scope=col>&lt;ord&gt;</th><th scope=col>&lt;ord&gt;</th><th scope=col>&lt;dbl&gt;</th><th scope=col>&lt;dbl&gt;</th><th scope=col>&lt;int&gt;</th><th scope=col>&lt;dbl&gt;</th><th scope=col>&lt;dbl&gt;</th><th scope=col>&lt;dbl&gt;</th></tr>\n",
       "</thead>\n",
       "<tbody>\n",
       "\t<tr><td>0.23</td><td>Ideal  </td><td>E</td><td>SI2</td><td>61.5</td><td>55</td><td>326</td><td>3.95</td><td>3.98</td><td>2.43</td></tr>\n",
       "\t<tr><td>0.21</td><td>Premium</td><td>E</td><td>SI1</td><td>59.8</td><td>61</td><td>326</td><td>3.89</td><td>3.84</td><td>2.31</td></tr>\n",
       "</tbody>\n",
       "</table>\n"
      ],
      "text/latex": [
       "A tibble: 2 × 10\n",
       "\\begin{tabular}{llllllllll}\n",
       " carat & cut & color & clarity & depth & table & price & x & y & z\\\\\n",
       " <dbl> & <ord> & <ord> & <ord> & <dbl> & <dbl> & <int> & <dbl> & <dbl> & <dbl>\\\\\n",
       "\\hline\n",
       "\t 0.23 & Ideal   & E & SI2 & 61.5 & 55 & 326 & 3.95 & 3.98 & 2.43\\\\\n",
       "\t 0.21 & Premium & E & SI1 & 59.8 & 61 & 326 & 3.89 & 3.84 & 2.31\\\\\n",
       "\\end{tabular}\n"
      ],
      "text/markdown": [
       "\n",
       "A tibble: 2 × 10\n",
       "\n",
       "| carat &lt;dbl&gt; | cut &lt;ord&gt; | color &lt;ord&gt; | clarity &lt;ord&gt; | depth &lt;dbl&gt; | table &lt;dbl&gt; | price &lt;int&gt; | x &lt;dbl&gt; | y &lt;dbl&gt; | z &lt;dbl&gt; |\n",
       "|---|---|---|---|---|---|---|---|---|---|\n",
       "| 0.23 | Ideal   | E | SI2 | 61.5 | 55 | 326 | 3.95 | 3.98 | 2.43 |\n",
       "| 0.21 | Premium | E | SI1 | 59.8 | 61 | 326 | 3.89 | 3.84 | 2.31 |\n",
       "\n"
      ],
      "text/plain": [
       "  carat cut     color clarity depth table price x    y    z   \n",
       "1 0.23  Ideal   E     SI2     61.5  55    326   3.95 3.98 2.43\n",
       "2 0.21  Premium E     SI1     59.8  61    326   3.89 3.84 2.31"
      ]
     },
     "metadata": {},
     "output_type": "display_data"
    }
   ],
   "source": [
    "head(diamonds, 2)"
   ]
  },
  {
   "cell_type": "markdown",
   "metadata": {
    "cell_style": "center",
    "slideshow": {
     "slide_type": "slide"
    }
   },
   "source": [
    "### tail\n",
    "* 맨 마지막 n개 데이터만 살펴볼 수 있습니다. "
   ]
  },
  {
   "cell_type": "code",
   "execution_count": 19,
   "metadata": {
    "ExecuteTime": {
     "end_time": "2019-06-20T15:39:22.470439Z",
     "start_time": "2019-06-20T15:39:21.290Z"
    },
    "cell_style": "center"
   },
   "outputs": [
    {
     "data": {
      "text/html": [
       "<table>\n",
       "<thead><tr><th scope=col>carat</th><th scope=col>cut</th><th scope=col>color</th><th scope=col>clarity</th><th scope=col>depth</th><th scope=col>table</th><th scope=col>price</th><th scope=col>x</th><th scope=col>y</th><th scope=col>z</th></tr></thead>\n",
       "<tbody>\n",
       "\t<tr><td>0.70     </td><td>Very Good</td><td>D        </td><td>SI1      </td><td>62.8     </td><td>60       </td><td>2757     </td><td>5.66     </td><td>5.68     </td><td>3.56     </td></tr>\n",
       "\t<tr><td>0.86     </td><td>Premium  </td><td>H        </td><td>SI2      </td><td>61.0     </td><td>58       </td><td>2757     </td><td>6.15     </td><td>6.12     </td><td>3.74     </td></tr>\n",
       "\t<tr><td>0.75     </td><td>Ideal    </td><td>D        </td><td>SI2      </td><td>62.2     </td><td>55       </td><td>2757     </td><td>5.83     </td><td>5.87     </td><td>3.64     </td></tr>\n",
       "</tbody>\n",
       "</table>\n"
      ],
      "text/latex": [
       "\\begin{tabular}{r|llllllllll}\n",
       " carat & cut & color & clarity & depth & table & price & x & y & z\\\\\n",
       "\\hline\n",
       "\t 0.70      & Very Good & D         & SI1       & 62.8      & 60        & 2757      & 5.66      & 5.68      & 3.56     \\\\\n",
       "\t 0.86      & Premium   & H         & SI2       & 61.0      & 58        & 2757      & 6.15      & 6.12      & 3.74     \\\\\n",
       "\t 0.75      & Ideal     & D         & SI2       & 62.2      & 55        & 2757      & 5.83      & 5.87      & 3.64     \\\\\n",
       "\\end{tabular}\n"
      ],
      "text/markdown": [
       "\n",
       "| carat | cut | color | clarity | depth | table | price | x | y | z |\n",
       "|---|---|---|---|---|---|---|---|---|---|\n",
       "| 0.70      | Very Good | D         | SI1       | 62.8      | 60        | 2757      | 5.66      | 5.68      | 3.56      |\n",
       "| 0.86      | Premium   | H         | SI2       | 61.0      | 58        | 2757      | 6.15      | 6.12      | 3.74      |\n",
       "| 0.75      | Ideal     | D         | SI2       | 62.2      | 55        | 2757      | 5.83      | 5.87      | 3.64      |\n",
       "\n"
      ],
      "text/plain": [
       "  carat cut       color clarity depth table price x    y    z   \n",
       "1 0.70  Very Good D     SI1     62.8  60    2757  5.66 5.68 3.56\n",
       "2 0.86  Premium   H     SI2     61.0  58    2757  6.15 6.12 3.74\n",
       "3 0.75  Ideal     D     SI2     62.2  55    2757  5.83 5.87 3.64"
      ]
     },
     "metadata": {},
     "output_type": "display_data"
    }
   ],
   "source": [
    "tail(diamonds,3)"
   ]
  },
  {
   "cell_type": "markdown",
   "metadata": {
    "slideshow": {
     "slide_type": "slide"
    }
   },
   "source": [
    "### str\n",
    "* 데이터의 구조(Structure)를 알 수 있습니다. "
   ]
  },
  {
   "cell_type": "code",
   "execution_count": 6,
   "metadata": {},
   "outputs": [
    {
     "name": "stdout",
     "output_type": "stream",
     "text": [
      "Classes ‘tbl_df’, ‘tbl’ and 'data.frame':\t53940 obs. of  10 variables:\n",
      " $ carat  : num  0.23 0.21 0.23 0.29 0.31 0.24 0.24 0.26 0.22 0.23 ...\n",
      " $ cut    : Ord.factor w/ 5 levels \"Fair\"<\"Good\"<..: 5 4 2 4 2 3 3 3 1 3 ...\n",
      " $ color  : Ord.factor w/ 7 levels \"D\"<\"E\"<\"F\"<\"G\"<..: 2 2 2 6 7 7 6 5 2 5 ...\n",
      " $ clarity: Ord.factor w/ 8 levels \"I1\"<\"SI2\"<\"SI1\"<..: 2 3 5 4 2 6 7 3 4 5 ...\n",
      " $ depth  : num  61.5 59.8 56.9 62.4 63.3 62.8 62.3 61.9 65.1 59.4 ...\n",
      " $ table  : num  55 61 65 58 58 57 57 55 61 61 ...\n",
      " $ price  : int  326 326 327 334 335 336 336 337 337 338 ...\n",
      " $ x      : num  3.95 3.89 4.05 4.2 4.34 3.94 3.95 4.07 3.87 4 ...\n",
      " $ y      : num  3.98 3.84 4.07 4.23 4.35 3.96 3.98 4.11 3.78 4.05 ...\n",
      " $ z      : num  2.43 2.31 2.31 2.63 2.75 2.48 2.47 2.53 2.49 2.39 ...\n"
     ]
    }
   ],
   "source": [
    "str(diamonds)"
   ]
  },
  {
   "cell_type": "markdown",
   "metadata": {
    "slideshow": {
     "slide_type": "slide"
    }
   },
   "source": [
    "### unique\n",
    "* 특정 컬럼의 고유한 값들을 확인할 수 있습니다. "
   ]
  },
  {
   "cell_type": "code",
   "execution_count": 5,
   "metadata": {},
   "outputs": [
    {
     "data": {
      "text/html": [
       "<style>\n",
       ".list-inline {list-style: none; margin:0; padding: 0}\n",
       ".list-inline>li {display: inline-block}\n",
       ".list-inline>li:not(:last-child)::after {content: \"\\00b7\"; padding: 0 .5ex}\n",
       "</style>\n",
       "<ol class=list-inline><li>E</li><li>I</li><li>J</li><li>H</li><li>F</li><li>G</li><li>D</li></ol>\n",
       "\n",
       "<details>\n",
       "\t<summary style=display:list-item;cursor:pointer>\n",
       "\t\t<strong>Levels</strong>:\n",
       "\t</summary>\n",
       "\t<style>\n",
       "\t.list-inline {list-style: none; margin:0; padding: 0}\n",
       "\t.list-inline>li {display: inline-block}\n",
       "\t.list-inline>li:not(:last-child)::after {content: \"\\00b7\"; padding: 0 .5ex}\n",
       "\t</style>\n",
       "\t<ol class=list-inline><li>'D'</li><li>'E'</li><li>'F'</li><li>'G'</li><li>'H'</li><li>'I'</li><li>'J'</li></ol>\n",
       "</details>"
      ],
      "text/latex": [
       "\\begin{enumerate*}\n",
       "\\item E\n",
       "\\item I\n",
       "\\item J\n",
       "\\item H\n",
       "\\item F\n",
       "\\item G\n",
       "\\item D\n",
       "\\end{enumerate*}\n",
       "\n",
       "\\emph{Levels}: \\begin{enumerate*}\n",
       "\\item 'D'\n",
       "\\item 'E'\n",
       "\\item 'F'\n",
       "\\item 'G'\n",
       "\\item 'H'\n",
       "\\item 'I'\n",
       "\\item 'J'\n",
       "\\end{enumerate*}\n"
      ],
      "text/markdown": [
       "1. E\n",
       "2. I\n",
       "3. J\n",
       "4. H\n",
       "5. F\n",
       "6. G\n",
       "7. D\n",
       "\n",
       "\n",
       "\n",
       "**Levels**: 1. 'D'\n",
       "2. 'E'\n",
       "3. 'F'\n",
       "4. 'G'\n",
       "5. 'H'\n",
       "6. 'I'\n",
       "7. 'J'\n",
       "\n",
       "\n"
      ],
      "text/plain": [
       "[1] E I J H F G D\n",
       "Levels: D < E < F < G < H < I < J"
      ]
     },
     "metadata": {},
     "output_type": "display_data"
    }
   ],
   "source": [
    "# head(diamonds,3)\n",
    "unique(diamonds$color)"
   ]
  },
  {
   "cell_type": "markdown",
   "metadata": {},
   "source": [
    "### n_distinct()\n",
    "* 특정 컬럼의 고유값 갯수를 확인할 수 있습니다. "
   ]
  },
  {
   "cell_type": "code",
   "execution_count": 4,
   "metadata": {},
   "outputs": [
    {
     "data": {
      "text/html": [
       "7"
      ],
      "text/latex": [
       "7"
      ],
      "text/markdown": [
       "7"
      ],
      "text/plain": [
       "[1] 7"
      ]
     },
     "metadata": {},
     "output_type": "display_data"
    }
   ],
   "source": [
    "n_distinct(diamonds$color)"
   ]
  },
  {
   "cell_type": "markdown",
   "metadata": {
    "slideshow": {
     "slide_type": "slide"
    }
   },
   "source": [
    "## 5 key tidy verse\n",
    "1. filter()\n",
    "2. arrange()\n",
    "3. select()\n",
    "4. mutate()\n",
    "5. summarise() with group_by()"
   ]
  },
  {
   "cell_type": "markdown",
   "metadata": {
    "slideshow": {
     "slide_type": "slide"
    }
   },
   "source": [
    "### filter()\n",
    "* 조건에 따라 행을 필터하는 것입니다."
   ]
  },
  {
   "cell_type": "code",
   "execution_count": 21,
   "metadata": {},
   "outputs": [
    {
     "data": {
      "text/html": [
       "<table>\n",
       "<thead><tr><th scope=col>carat</th><th scope=col>cut</th><th scope=col>color</th><th scope=col>clarity</th><th scope=col>depth</th><th scope=col>table</th><th scope=col>price</th><th scope=col>x</th><th scope=col>y</th><th scope=col>z</th></tr></thead>\n",
       "<tbody>\n",
       "\t<tr><td>0.23   </td><td>Ideal  </td><td>E      </td><td>SI2    </td><td>61.5   </td><td>55     </td><td>326    </td><td>3.95   </td><td>3.98   </td><td>2.43   </td></tr>\n",
       "\t<tr><td>0.21   </td><td>Premium</td><td>E      </td><td>SI1    </td><td>59.8   </td><td>61     </td><td>326    </td><td>3.89   </td><td>3.84   </td><td>2.31   </td></tr>\n",
       "\t<tr><td>0.23   </td><td>Good   </td><td>E      </td><td>VS1    </td><td>56.9   </td><td>65     </td><td>327    </td><td>4.05   </td><td>4.07   </td><td>2.31   </td></tr>\n",
       "</tbody>\n",
       "</table>\n"
      ],
      "text/latex": [
       "\\begin{tabular}{r|llllllllll}\n",
       " carat & cut & color & clarity & depth & table & price & x & y & z\\\\\n",
       "\\hline\n",
       "\t 0.23    & Ideal   & E       & SI2     & 61.5    & 55      & 326     & 3.95    & 3.98    & 2.43   \\\\\n",
       "\t 0.21    & Premium & E       & SI1     & 59.8    & 61      & 326     & 3.89    & 3.84    & 2.31   \\\\\n",
       "\t 0.23    & Good    & E       & VS1     & 56.9    & 65      & 327     & 4.05    & 4.07    & 2.31   \\\\\n",
       "\\end{tabular}\n"
      ],
      "text/markdown": [
       "\n",
       "| carat | cut | color | clarity | depth | table | price | x | y | z |\n",
       "|---|---|---|---|---|---|---|---|---|---|\n",
       "| 0.23    | Ideal   | E       | SI2     | 61.5    | 55      | 326     | 3.95    | 3.98    | 2.43    |\n",
       "| 0.21    | Premium | E       | SI1     | 59.8    | 61      | 326     | 3.89    | 3.84    | 2.31    |\n",
       "| 0.23    | Good    | E       | VS1     | 56.9    | 65      | 327     | 4.05    | 4.07    | 2.31    |\n",
       "\n"
      ],
      "text/plain": [
       "  carat cut     color clarity depth table price x    y    z   \n",
       "1 0.23  Ideal   E     SI2     61.5  55    326   3.95 3.98 2.43\n",
       "2 0.21  Premium E     SI1     59.8  61    326   3.89 3.84 2.31\n",
       "3 0.23  Good    E     VS1     56.9  65    327   4.05 4.07 2.31"
      ]
     },
     "metadata": {},
     "output_type": "display_data"
    }
   ],
   "source": [
    "head(diamonds,3)"
   ]
  },
  {
   "cell_type": "markdown",
   "metadata": {
    "slideshow": {
     "slide_type": "slide"
    }
   },
   "source": [
    "* 복합 조건도 사용할 수 있습니다. "
   ]
  },
  {
   "cell_type": "code",
   "execution_count": 11,
   "metadata": {},
   "outputs": [
    {
     "data": {
      "text/html": [
       "<table>\n",
       "<caption>A tibble: 173 × 10</caption>\n",
       "<thead>\n",
       "\t<tr><th scope=col>carat</th><th scope=col>cut</th><th scope=col>color</th><th scope=col>clarity</th><th scope=col>depth</th><th scope=col>table</th><th scope=col>price</th><th scope=col>x</th><th scope=col>y</th><th scope=col>z</th></tr>\n",
       "\t<tr><th scope=col>&lt;dbl&gt;</th><th scope=col>&lt;ord&gt;</th><th scope=col>&lt;ord&gt;</th><th scope=col>&lt;ord&gt;</th><th scope=col>&lt;dbl&gt;</th><th scope=col>&lt;dbl&gt;</th><th scope=col>&lt;int&gt;</th><th scope=col>&lt;dbl&gt;</th><th scope=col>&lt;dbl&gt;</th><th scope=col>&lt;dbl&gt;</th></tr>\n",
       "</thead>\n",
       "<tbody>\n",
       "\t<tr><td>2.09</td><td>Premium  </td><td>F</td><td>SI2</td><td>61.7</td><td>59.0</td><td>18002</td><td>8.23</td><td>8.21</td><td>5.07</td></tr>\n",
       "\t<tr><td>2.18</td><td>Premium  </td><td>G</td><td>SI2</td><td>61.9</td><td>60.0</td><td>18003</td><td>8.29</td><td>8.24</td><td>5.12</td></tr>\n",
       "\t<tr><td>2.06</td><td>Very Good</td><td>G</td><td>SI2</td><td>62.3</td><td>59.0</td><td>18005</td><td>8.07</td><td>8.20</td><td>5.07</td></tr>\n",
       "\t<tr><td>2.25</td><td>Premium  </td><td>D</td><td>SI2</td><td>60.4</td><td>59.0</td><td>18007</td><td>8.54</td><td>8.48</td><td>5.13</td></tr>\n",
       "\t<tr><td>1.76</td><td>Very Good</td><td>G</td><td>VS1</td><td>62.8</td><td>55.4</td><td>18014</td><td>7.70</td><td>7.74</td><td>4.85</td></tr>\n",
       "\t<tr><td>2.51</td><td>Premium  </td><td>J</td><td>VS2</td><td>62.2</td><td>58.0</td><td>18020</td><td>8.73</td><td>8.67</td><td>5.41</td></tr>\n",
       "\t<tr><td>2.32</td><td>Premium  </td><td>I</td><td>SI1</td><td>61.2</td><td>58.0</td><td>18026</td><td>8.57</td><td>8.52</td><td>5.23</td></tr>\n",
       "\t<tr><td>2.01</td><td>Very Good</td><td>H</td><td>SI1</td><td>58.2</td><td>63.0</td><td>18027</td><td>8.32</td><td>8.23</td><td>4.82</td></tr>\n",
       "\t<tr><td>2.26</td><td>Very Good</td><td>D</td><td>SI2</td><td>61.6</td><td>61.0</td><td>18028</td><td>8.47</td><td>8.38</td><td>5.19</td></tr>\n",
       "\t<tr><td>2.51</td><td>Very Good</td><td>H</td><td>SI2</td><td>63.6</td><td>58.0</td><td>18029</td><td>8.51</td><td>8.59</td><td>5.44</td></tr>\n",
       "\t<tr><td>2.11</td><td>Premium  </td><td>E</td><td>SI2</td><td>62.4</td><td>61.0</td><td>18034</td><td>8.19</td><td>8.10</td><td>5.08</td></tr>\n",
       "\t<tr><td>2.25</td><td>Premium  </td><td>I</td><td>SI1</td><td>60.1</td><td>60.0</td><td>18034</td><td>8.55</td><td>8.51</td><td>5.13</td></tr>\n",
       "\t<tr><td>2.25</td><td>Premium  </td><td>H</td><td>SI2</td><td>62.8</td><td>59.0</td><td>18034</td><td>0.00</td><td>0.00</td><td>0.00</td></tr>\n",
       "\t<tr><td>2.01</td><td>Very Good</td><td>I</td><td>VS1</td><td>62.9</td><td>59.0</td><td>18041</td><td>7.94</td><td>8.03</td><td>5.02</td></tr>\n",
       "\t<tr><td>2.28</td><td>Premium  </td><td>H</td><td>SI2</td><td>62.1</td><td>59.0</td><td>18055</td><td>8.44</td><td>8.40</td><td>5.23</td></tr>\n",
       "\t<tr><td>2.04</td><td>Premium  </td><td>F</td><td>SI2</td><td>60.2</td><td>58.0</td><td>18066</td><td>8.17</td><td>8.24</td><td>4.94</td></tr>\n",
       "\t<tr><td>2.19</td><td>Very Good</td><td>E</td><td>SI2</td><td>62.4</td><td>61.0</td><td>18067</td><td>8.23</td><td>8.31</td><td>5.16</td></tr>\n",
       "\t<tr><td>2.29</td><td>Very Good</td><td>I</td><td>SI1</td><td>61.8</td><td>59.0</td><td>18068</td><td>8.44</td><td>8.51</td><td>5.24</td></tr>\n",
       "\t<tr><td>2.11</td><td>Very Good</td><td>F</td><td>SI2</td><td>63.5</td><td>55.0</td><td>18071</td><td>8.08</td><td>8.13</td><td>5.15</td></tr>\n",
       "\t<tr><td>2.01</td><td>Very Good</td><td>G</td><td>SI1</td><td>59.1</td><td>57.0</td><td>18077</td><td>8.16</td><td>8.23</td><td>4.84</td></tr>\n",
       "\t<tr><td>2.01</td><td>Premium  </td><td>G</td><td>SI1</td><td>61.8</td><td>60.0</td><td>18077</td><td>7.99</td><td>8.04</td><td>4.95</td></tr>\n",
       "\t<tr><td>2.51</td><td>Very Good</td><td>I</td><td>SI2</td><td>62.3</td><td>57.0</td><td>18090</td><td>8.69</td><td>8.76</td><td>5.44</td></tr>\n",
       "\t<tr><td>1.51</td><td>Premium  </td><td>F</td><td>IF </td><td>60.5</td><td>61.0</td><td>18102</td><td>7.50</td><td>7.40</td><td>4.45</td></tr>\n",
       "\t<tr><td>2.04</td><td>Premium  </td><td>H</td><td>VS1</td><td>60.7</td><td>61.0</td><td>18104</td><td>8.18</td><td>8.10</td><td>4.94</td></tr>\n",
       "\t<tr><td>1.70</td><td>Very Good</td><td>G</td><td>VS2</td><td>61.9</td><td>55.0</td><td>18107</td><td>7.64</td><td>7.68</td><td>4.74</td></tr>\n",
       "\t<tr><td>1.70</td><td>Very Good</td><td>E</td><td>VS2</td><td>58.6</td><td>60.0</td><td>18107</td><td>7.91</td><td>7.82</td><td>4.61</td></tr>\n",
       "\t<tr><td>1.14</td><td>Very Good</td><td>D</td><td>IF </td><td>59.1</td><td>58.0</td><td>18112</td><td>6.83</td><td>6.90</td><td>4.06</td></tr>\n",
       "\t<tr><td>1.07</td><td>Very Good</td><td>D</td><td>IF </td><td>60.9</td><td>58.0</td><td>18114</td><td>6.57</td><td>6.67</td><td>4.03</td></tr>\n",
       "\t<tr><td>2.03</td><td>Very Good</td><td>E</td><td>SI2</td><td>58.8</td><td>59.0</td><td>18115</td><td>8.23</td><td>8.28</td><td>4.85</td></tr>\n",
       "\t<tr><td>2.04</td><td>Premium  </td><td>H</td><td>SI1</td><td>62.5</td><td>61.0</td><td>18115</td><td>8.08</td><td>8.04</td><td>5.04</td></tr>\n",
       "\t<tr><td>⋮</td><td>⋮</td><td>⋮</td><td>⋮</td><td>⋮</td><td>⋮</td><td>⋮</td><td>⋮</td><td>⋮</td><td>⋮</td></tr>\n",
       "\t<tr><td>2.03</td><td>Premium  </td><td>G</td><td>VS2 </td><td>59.6</td><td>60.0</td><td>18680</td><td>8.27</td><td>8.21</td><td>4.91</td></tr>\n",
       "\t<tr><td>1.50</td><td>Very Good</td><td>G</td><td>VS2 </td><td>60.7</td><td>59.0</td><td>18691</td><td>7.31</td><td>7.38</td><td>4.46</td></tr>\n",
       "\t<tr><td>2.43</td><td>Premium  </td><td>J</td><td>VS2 </td><td>62.2</td><td>57.0</td><td>18692</td><td>8.63</td><td>8.54</td><td>5.34</td></tr>\n",
       "\t<tr><td>2.48</td><td>Very Good</td><td>F</td><td>SI2 </td><td>63.4</td><td>56.0</td><td>18692</td><td>8.64</td><td>8.55</td><td>5.45</td></tr>\n",
       "\t<tr><td>3.51</td><td>Premium  </td><td>J</td><td>VS2 </td><td>62.5</td><td>59.0</td><td>18701</td><td>9.66</td><td>9.63</td><td>6.03</td></tr>\n",
       "\t<tr><td>2.01</td><td>Premium  </td><td>G</td><td>SI2 </td><td>61.2</td><td>57.2</td><td>18705</td><td>8.08</td><td>8.14</td><td>4.97</td></tr>\n",
       "\t<tr><td>2.22</td><td>Premium  </td><td>J</td><td>VS1 </td><td>60.0</td><td>60.0</td><td>18706</td><td>8.49</td><td>8.43</td><td>5.08</td></tr>\n",
       "\t<tr><td>2.00</td><td>Very Good</td><td>E</td><td>SI1 </td><td>60.5</td><td>59.0</td><td>18709</td><td>8.09</td><td>8.14</td><td>4.94</td></tr>\n",
       "\t<tr><td>3.01</td><td>Premium  </td><td>J</td><td>SI2 </td><td>60.7</td><td>59.0</td><td>18710</td><td>9.35</td><td>9.22</td><td>5.64</td></tr>\n",
       "\t<tr><td>3.01</td><td>Premium  </td><td>J</td><td>SI2 </td><td>59.7</td><td>58.0</td><td>18710</td><td>9.41</td><td>9.32</td><td>5.59</td></tr>\n",
       "\t<tr><td>2.18</td><td>Premium  </td><td>F</td><td>SI1 </td><td>61.2</td><td>60.0</td><td>18717</td><td>8.38</td><td>8.30</td><td>5.10</td></tr>\n",
       "\t<tr><td>1.70</td><td>Premium  </td><td>G</td><td>VVS2</td><td>59.8</td><td>59.0</td><td>18718</td><td>7.70</td><td>7.75</td><td>4.62</td></tr>\n",
       "\t<tr><td>1.72</td><td>Premium  </td><td>G</td><td>VVS2</td><td>61.8</td><td>60.0</td><td>18730</td><td>7.65</td><td>7.68</td><td>4.74</td></tr>\n",
       "\t<tr><td>2.02</td><td>Very Good</td><td>E</td><td>SI1 </td><td>59.8</td><td>59.0</td><td>18731</td><td>8.11</td><td>8.20</td><td>4.88</td></tr>\n",
       "\t<tr><td>1.94</td><td>Premium  </td><td>F</td><td>SI1 </td><td>62.6</td><td>58.0</td><td>18735</td><td>7.91</td><td>7.87</td><td>4.94</td></tr>\n",
       "\t<tr><td>2.01</td><td>Very Good</td><td>G</td><td>SI1 </td><td>63.1</td><td>59.0</td><td>18741</td><td>8.03</td><td>7.98</td><td>5.05</td></tr>\n",
       "\t<tr><td>2.01</td><td>Premium  </td><td>G</td><td>SI1 </td><td>60.3</td><td>59.0</td><td>18741</td><td>8.23</td><td>8.15</td><td>4.94</td></tr>\n",
       "\t<tr><td>2.36</td><td>Premium  </td><td>H</td><td>SI2 </td><td>59.4</td><td>58.0</td><td>18745</td><td>8.69</td><td>8.75</td><td>5.18</td></tr>\n",
       "\t<tr><td>2.00</td><td>Very Good</td><td>F</td><td>SI1 </td><td>57.9</td><td>60.0</td><td>18759</td><td>8.28</td><td>8.34</td><td>4.81</td></tr>\n",
       "\t<tr><td>2.55</td><td>Premium  </td><td>I</td><td>VS1 </td><td>61.8</td><td>62.0</td><td>18766</td><td>8.70</td><td>8.65</td><td>5.36</td></tr>\n",
       "\t<tr><td>1.51</td><td>Very Good</td><td>F</td><td>VVS1</td><td>62.6</td><td>59.0</td><td>18777</td><td>7.33</td><td>7.24</td><td>4.56</td></tr>\n",
       "\t<tr><td>2.03</td><td>Very Good</td><td>H</td><td>SI1 </td><td>63.0</td><td>60.0</td><td>18781</td><td>8.00</td><td>7.93</td><td>5.02</td></tr>\n",
       "\t<tr><td>2.05</td><td>Premium  </td><td>F</td><td>SI2 </td><td>60.2</td><td>59.0</td><td>18784</td><td>8.28</td><td>8.33</td><td>5.00</td></tr>\n",
       "\t<tr><td>1.71</td><td>Premium  </td><td>F</td><td>VS2 </td><td>62.3</td><td>59.0</td><td>18791</td><td>7.57</td><td>7.53</td><td>4.70</td></tr>\n",
       "\t<tr><td>2.04</td><td>Premium  </td><td>H</td><td>SI1 </td><td>58.1</td><td>60.0</td><td>18795</td><td>8.37</td><td>8.28</td><td>4.84</td></tr>\n",
       "\t<tr><td>2.00</td><td>Premium  </td><td>I</td><td>VS1 </td><td>60.8</td><td>59.0</td><td>18795</td><td>8.13</td><td>8.02</td><td>4.91</td></tr>\n",
       "\t<tr><td>2.29</td><td>Premium  </td><td>I</td><td>SI1 </td><td>61.8</td><td>59.0</td><td>18797</td><td>8.52</td><td>8.45</td><td>5.24</td></tr>\n",
       "\t<tr><td>2.00</td><td>Very Good</td><td>H</td><td>SI1 </td><td>62.8</td><td>57.0</td><td>18803</td><td>7.95</td><td>8.00</td><td>5.01</td></tr>\n",
       "\t<tr><td>2.00</td><td>Very Good</td><td>G</td><td>SI1 </td><td>63.5</td><td>56.0</td><td>18818</td><td>7.90</td><td>7.97</td><td>5.04</td></tr>\n",
       "\t<tr><td>2.29</td><td>Premium  </td><td>I</td><td>VS2 </td><td>60.8</td><td>60.0</td><td>18823</td><td>8.50</td><td>8.47</td><td>5.16</td></tr>\n",
       "</tbody>\n",
       "</table>\n"
      ],
      "text/latex": [
       "A tibble: 173 × 10\n",
       "\\begin{tabular}{llllllllll}\n",
       " carat & cut & color & clarity & depth & table & price & x & y & z\\\\\n",
       " <dbl> & <ord> & <ord> & <ord> & <dbl> & <dbl> & <int> & <dbl> & <dbl> & <dbl>\\\\\n",
       "\\hline\n",
       "\t 2.09 & Premium   & F & SI2 & 61.7 & 59.0 & 18002 & 8.23 & 8.21 & 5.07\\\\\n",
       "\t 2.18 & Premium   & G & SI2 & 61.9 & 60.0 & 18003 & 8.29 & 8.24 & 5.12\\\\\n",
       "\t 2.06 & Very Good & G & SI2 & 62.3 & 59.0 & 18005 & 8.07 & 8.20 & 5.07\\\\\n",
       "\t 2.25 & Premium   & D & SI2 & 60.4 & 59.0 & 18007 & 8.54 & 8.48 & 5.13\\\\\n",
       "\t 1.76 & Very Good & G & VS1 & 62.8 & 55.4 & 18014 & 7.70 & 7.74 & 4.85\\\\\n",
       "\t 2.51 & Premium   & J & VS2 & 62.2 & 58.0 & 18020 & 8.73 & 8.67 & 5.41\\\\\n",
       "\t 2.32 & Premium   & I & SI1 & 61.2 & 58.0 & 18026 & 8.57 & 8.52 & 5.23\\\\\n",
       "\t 2.01 & Very Good & H & SI1 & 58.2 & 63.0 & 18027 & 8.32 & 8.23 & 4.82\\\\\n",
       "\t 2.26 & Very Good & D & SI2 & 61.6 & 61.0 & 18028 & 8.47 & 8.38 & 5.19\\\\\n",
       "\t 2.51 & Very Good & H & SI2 & 63.6 & 58.0 & 18029 & 8.51 & 8.59 & 5.44\\\\\n",
       "\t 2.11 & Premium   & E & SI2 & 62.4 & 61.0 & 18034 & 8.19 & 8.10 & 5.08\\\\\n",
       "\t 2.25 & Premium   & I & SI1 & 60.1 & 60.0 & 18034 & 8.55 & 8.51 & 5.13\\\\\n",
       "\t 2.25 & Premium   & H & SI2 & 62.8 & 59.0 & 18034 & 0.00 & 0.00 & 0.00\\\\\n",
       "\t 2.01 & Very Good & I & VS1 & 62.9 & 59.0 & 18041 & 7.94 & 8.03 & 5.02\\\\\n",
       "\t 2.28 & Premium   & H & SI2 & 62.1 & 59.0 & 18055 & 8.44 & 8.40 & 5.23\\\\\n",
       "\t 2.04 & Premium   & F & SI2 & 60.2 & 58.0 & 18066 & 8.17 & 8.24 & 4.94\\\\\n",
       "\t 2.19 & Very Good & E & SI2 & 62.4 & 61.0 & 18067 & 8.23 & 8.31 & 5.16\\\\\n",
       "\t 2.29 & Very Good & I & SI1 & 61.8 & 59.0 & 18068 & 8.44 & 8.51 & 5.24\\\\\n",
       "\t 2.11 & Very Good & F & SI2 & 63.5 & 55.0 & 18071 & 8.08 & 8.13 & 5.15\\\\\n",
       "\t 2.01 & Very Good & G & SI1 & 59.1 & 57.0 & 18077 & 8.16 & 8.23 & 4.84\\\\\n",
       "\t 2.01 & Premium   & G & SI1 & 61.8 & 60.0 & 18077 & 7.99 & 8.04 & 4.95\\\\\n",
       "\t 2.51 & Very Good & I & SI2 & 62.3 & 57.0 & 18090 & 8.69 & 8.76 & 5.44\\\\\n",
       "\t 1.51 & Premium   & F & IF  & 60.5 & 61.0 & 18102 & 7.50 & 7.40 & 4.45\\\\\n",
       "\t 2.04 & Premium   & H & VS1 & 60.7 & 61.0 & 18104 & 8.18 & 8.10 & 4.94\\\\\n",
       "\t 1.70 & Very Good & G & VS2 & 61.9 & 55.0 & 18107 & 7.64 & 7.68 & 4.74\\\\\n",
       "\t 1.70 & Very Good & E & VS2 & 58.6 & 60.0 & 18107 & 7.91 & 7.82 & 4.61\\\\\n",
       "\t 1.14 & Very Good & D & IF  & 59.1 & 58.0 & 18112 & 6.83 & 6.90 & 4.06\\\\\n",
       "\t 1.07 & Very Good & D & IF  & 60.9 & 58.0 & 18114 & 6.57 & 6.67 & 4.03\\\\\n",
       "\t 2.03 & Very Good & E & SI2 & 58.8 & 59.0 & 18115 & 8.23 & 8.28 & 4.85\\\\\n",
       "\t 2.04 & Premium   & H & SI1 & 62.5 & 61.0 & 18115 & 8.08 & 8.04 & 5.04\\\\\n",
       "\t ⋮ & ⋮ & ⋮ & ⋮ & ⋮ & ⋮ & ⋮ & ⋮ & ⋮ & ⋮\\\\\n",
       "\t 2.03 & Premium   & G & VS2  & 59.6 & 60.0 & 18680 & 8.27 & 8.21 & 4.91\\\\\n",
       "\t 1.50 & Very Good & G & VS2  & 60.7 & 59.0 & 18691 & 7.31 & 7.38 & 4.46\\\\\n",
       "\t 2.43 & Premium   & J & VS2  & 62.2 & 57.0 & 18692 & 8.63 & 8.54 & 5.34\\\\\n",
       "\t 2.48 & Very Good & F & SI2  & 63.4 & 56.0 & 18692 & 8.64 & 8.55 & 5.45\\\\\n",
       "\t 3.51 & Premium   & J & VS2  & 62.5 & 59.0 & 18701 & 9.66 & 9.63 & 6.03\\\\\n",
       "\t 2.01 & Premium   & G & SI2  & 61.2 & 57.2 & 18705 & 8.08 & 8.14 & 4.97\\\\\n",
       "\t 2.22 & Premium   & J & VS1  & 60.0 & 60.0 & 18706 & 8.49 & 8.43 & 5.08\\\\\n",
       "\t 2.00 & Very Good & E & SI1  & 60.5 & 59.0 & 18709 & 8.09 & 8.14 & 4.94\\\\\n",
       "\t 3.01 & Premium   & J & SI2  & 60.7 & 59.0 & 18710 & 9.35 & 9.22 & 5.64\\\\\n",
       "\t 3.01 & Premium   & J & SI2  & 59.7 & 58.0 & 18710 & 9.41 & 9.32 & 5.59\\\\\n",
       "\t 2.18 & Premium   & F & SI1  & 61.2 & 60.0 & 18717 & 8.38 & 8.30 & 5.10\\\\\n",
       "\t 1.70 & Premium   & G & VVS2 & 59.8 & 59.0 & 18718 & 7.70 & 7.75 & 4.62\\\\\n",
       "\t 1.72 & Premium   & G & VVS2 & 61.8 & 60.0 & 18730 & 7.65 & 7.68 & 4.74\\\\\n",
       "\t 2.02 & Very Good & E & SI1  & 59.8 & 59.0 & 18731 & 8.11 & 8.20 & 4.88\\\\\n",
       "\t 1.94 & Premium   & F & SI1  & 62.6 & 58.0 & 18735 & 7.91 & 7.87 & 4.94\\\\\n",
       "\t 2.01 & Very Good & G & SI1  & 63.1 & 59.0 & 18741 & 8.03 & 7.98 & 5.05\\\\\n",
       "\t 2.01 & Premium   & G & SI1  & 60.3 & 59.0 & 18741 & 8.23 & 8.15 & 4.94\\\\\n",
       "\t 2.36 & Premium   & H & SI2  & 59.4 & 58.0 & 18745 & 8.69 & 8.75 & 5.18\\\\\n",
       "\t 2.00 & Very Good & F & SI1  & 57.9 & 60.0 & 18759 & 8.28 & 8.34 & 4.81\\\\\n",
       "\t 2.55 & Premium   & I & VS1  & 61.8 & 62.0 & 18766 & 8.70 & 8.65 & 5.36\\\\\n",
       "\t 1.51 & Very Good & F & VVS1 & 62.6 & 59.0 & 18777 & 7.33 & 7.24 & 4.56\\\\\n",
       "\t 2.03 & Very Good & H & SI1  & 63.0 & 60.0 & 18781 & 8.00 & 7.93 & 5.02\\\\\n",
       "\t 2.05 & Premium   & F & SI2  & 60.2 & 59.0 & 18784 & 8.28 & 8.33 & 5.00\\\\\n",
       "\t 1.71 & Premium   & F & VS2  & 62.3 & 59.0 & 18791 & 7.57 & 7.53 & 4.70\\\\\n",
       "\t 2.04 & Premium   & H & SI1  & 58.1 & 60.0 & 18795 & 8.37 & 8.28 & 4.84\\\\\n",
       "\t 2.00 & Premium   & I & VS1  & 60.8 & 59.0 & 18795 & 8.13 & 8.02 & 4.91\\\\\n",
       "\t 2.29 & Premium   & I & SI1  & 61.8 & 59.0 & 18797 & 8.52 & 8.45 & 5.24\\\\\n",
       "\t 2.00 & Very Good & H & SI1  & 62.8 & 57.0 & 18803 & 7.95 & 8.00 & 5.01\\\\\n",
       "\t 2.00 & Very Good & G & SI1  & 63.5 & 56.0 & 18818 & 7.90 & 7.97 & 5.04\\\\\n",
       "\t 2.29 & Premium   & I & VS2  & 60.8 & 60.0 & 18823 & 8.50 & 8.47 & 5.16\\\\\n",
       "\\end{tabular}\n"
      ],
      "text/markdown": [
       "\n",
       "A tibble: 173 × 10\n",
       "\n",
       "| carat &lt;dbl&gt; | cut &lt;ord&gt; | color &lt;ord&gt; | clarity &lt;ord&gt; | depth &lt;dbl&gt; | table &lt;dbl&gt; | price &lt;int&gt; | x &lt;dbl&gt; | y &lt;dbl&gt; | z &lt;dbl&gt; |\n",
       "|---|---|---|---|---|---|---|---|---|---|\n",
       "| 2.09 | Premium   | F | SI2 | 61.7 | 59.0 | 18002 | 8.23 | 8.21 | 5.07 |\n",
       "| 2.18 | Premium   | G | SI2 | 61.9 | 60.0 | 18003 | 8.29 | 8.24 | 5.12 |\n",
       "| 2.06 | Very Good | G | SI2 | 62.3 | 59.0 | 18005 | 8.07 | 8.20 | 5.07 |\n",
       "| 2.25 | Premium   | D | SI2 | 60.4 | 59.0 | 18007 | 8.54 | 8.48 | 5.13 |\n",
       "| 1.76 | Very Good | G | VS1 | 62.8 | 55.4 | 18014 | 7.70 | 7.74 | 4.85 |\n",
       "| 2.51 | Premium   | J | VS2 | 62.2 | 58.0 | 18020 | 8.73 | 8.67 | 5.41 |\n",
       "| 2.32 | Premium   | I | SI1 | 61.2 | 58.0 | 18026 | 8.57 | 8.52 | 5.23 |\n",
       "| 2.01 | Very Good | H | SI1 | 58.2 | 63.0 | 18027 | 8.32 | 8.23 | 4.82 |\n",
       "| 2.26 | Very Good | D | SI2 | 61.6 | 61.0 | 18028 | 8.47 | 8.38 | 5.19 |\n",
       "| 2.51 | Very Good | H | SI2 | 63.6 | 58.0 | 18029 | 8.51 | 8.59 | 5.44 |\n",
       "| 2.11 | Premium   | E | SI2 | 62.4 | 61.0 | 18034 | 8.19 | 8.10 | 5.08 |\n",
       "| 2.25 | Premium   | I | SI1 | 60.1 | 60.0 | 18034 | 8.55 | 8.51 | 5.13 |\n",
       "| 2.25 | Premium   | H | SI2 | 62.8 | 59.0 | 18034 | 0.00 | 0.00 | 0.00 |\n",
       "| 2.01 | Very Good | I | VS1 | 62.9 | 59.0 | 18041 | 7.94 | 8.03 | 5.02 |\n",
       "| 2.28 | Premium   | H | SI2 | 62.1 | 59.0 | 18055 | 8.44 | 8.40 | 5.23 |\n",
       "| 2.04 | Premium   | F | SI2 | 60.2 | 58.0 | 18066 | 8.17 | 8.24 | 4.94 |\n",
       "| 2.19 | Very Good | E | SI2 | 62.4 | 61.0 | 18067 | 8.23 | 8.31 | 5.16 |\n",
       "| 2.29 | Very Good | I | SI1 | 61.8 | 59.0 | 18068 | 8.44 | 8.51 | 5.24 |\n",
       "| 2.11 | Very Good | F | SI2 | 63.5 | 55.0 | 18071 | 8.08 | 8.13 | 5.15 |\n",
       "| 2.01 | Very Good | G | SI1 | 59.1 | 57.0 | 18077 | 8.16 | 8.23 | 4.84 |\n",
       "| 2.01 | Premium   | G | SI1 | 61.8 | 60.0 | 18077 | 7.99 | 8.04 | 4.95 |\n",
       "| 2.51 | Very Good | I | SI2 | 62.3 | 57.0 | 18090 | 8.69 | 8.76 | 5.44 |\n",
       "| 1.51 | Premium   | F | IF  | 60.5 | 61.0 | 18102 | 7.50 | 7.40 | 4.45 |\n",
       "| 2.04 | Premium   | H | VS1 | 60.7 | 61.0 | 18104 | 8.18 | 8.10 | 4.94 |\n",
       "| 1.70 | Very Good | G | VS2 | 61.9 | 55.0 | 18107 | 7.64 | 7.68 | 4.74 |\n",
       "| 1.70 | Very Good | E | VS2 | 58.6 | 60.0 | 18107 | 7.91 | 7.82 | 4.61 |\n",
       "| 1.14 | Very Good | D | IF  | 59.1 | 58.0 | 18112 | 6.83 | 6.90 | 4.06 |\n",
       "| 1.07 | Very Good | D | IF  | 60.9 | 58.0 | 18114 | 6.57 | 6.67 | 4.03 |\n",
       "| 2.03 | Very Good | E | SI2 | 58.8 | 59.0 | 18115 | 8.23 | 8.28 | 4.85 |\n",
       "| 2.04 | Premium   | H | SI1 | 62.5 | 61.0 | 18115 | 8.08 | 8.04 | 5.04 |\n",
       "| ⋮ | ⋮ | ⋮ | ⋮ | ⋮ | ⋮ | ⋮ | ⋮ | ⋮ | ⋮ |\n",
       "| 2.03 | Premium   | G | VS2  | 59.6 | 60.0 | 18680 | 8.27 | 8.21 | 4.91 |\n",
       "| 1.50 | Very Good | G | VS2  | 60.7 | 59.0 | 18691 | 7.31 | 7.38 | 4.46 |\n",
       "| 2.43 | Premium   | J | VS2  | 62.2 | 57.0 | 18692 | 8.63 | 8.54 | 5.34 |\n",
       "| 2.48 | Very Good | F | SI2  | 63.4 | 56.0 | 18692 | 8.64 | 8.55 | 5.45 |\n",
       "| 3.51 | Premium   | J | VS2  | 62.5 | 59.0 | 18701 | 9.66 | 9.63 | 6.03 |\n",
       "| 2.01 | Premium   | G | SI2  | 61.2 | 57.2 | 18705 | 8.08 | 8.14 | 4.97 |\n",
       "| 2.22 | Premium   | J | VS1  | 60.0 | 60.0 | 18706 | 8.49 | 8.43 | 5.08 |\n",
       "| 2.00 | Very Good | E | SI1  | 60.5 | 59.0 | 18709 | 8.09 | 8.14 | 4.94 |\n",
       "| 3.01 | Premium   | J | SI2  | 60.7 | 59.0 | 18710 | 9.35 | 9.22 | 5.64 |\n",
       "| 3.01 | Premium   | J | SI2  | 59.7 | 58.0 | 18710 | 9.41 | 9.32 | 5.59 |\n",
       "| 2.18 | Premium   | F | SI1  | 61.2 | 60.0 | 18717 | 8.38 | 8.30 | 5.10 |\n",
       "| 1.70 | Premium   | G | VVS2 | 59.8 | 59.0 | 18718 | 7.70 | 7.75 | 4.62 |\n",
       "| 1.72 | Premium   | G | VVS2 | 61.8 | 60.0 | 18730 | 7.65 | 7.68 | 4.74 |\n",
       "| 2.02 | Very Good | E | SI1  | 59.8 | 59.0 | 18731 | 8.11 | 8.20 | 4.88 |\n",
       "| 1.94 | Premium   | F | SI1  | 62.6 | 58.0 | 18735 | 7.91 | 7.87 | 4.94 |\n",
       "| 2.01 | Very Good | G | SI1  | 63.1 | 59.0 | 18741 | 8.03 | 7.98 | 5.05 |\n",
       "| 2.01 | Premium   | G | SI1  | 60.3 | 59.0 | 18741 | 8.23 | 8.15 | 4.94 |\n",
       "| 2.36 | Premium   | H | SI2  | 59.4 | 58.0 | 18745 | 8.69 | 8.75 | 5.18 |\n",
       "| 2.00 | Very Good | F | SI1  | 57.9 | 60.0 | 18759 | 8.28 | 8.34 | 4.81 |\n",
       "| 2.55 | Premium   | I | VS1  | 61.8 | 62.0 | 18766 | 8.70 | 8.65 | 5.36 |\n",
       "| 1.51 | Very Good | F | VVS1 | 62.6 | 59.0 | 18777 | 7.33 | 7.24 | 4.56 |\n",
       "| 2.03 | Very Good | H | SI1  | 63.0 | 60.0 | 18781 | 8.00 | 7.93 | 5.02 |\n",
       "| 2.05 | Premium   | F | SI2  | 60.2 | 59.0 | 18784 | 8.28 | 8.33 | 5.00 |\n",
       "| 1.71 | Premium   | F | VS2  | 62.3 | 59.0 | 18791 | 7.57 | 7.53 | 4.70 |\n",
       "| 2.04 | Premium   | H | SI1  | 58.1 | 60.0 | 18795 | 8.37 | 8.28 | 4.84 |\n",
       "| 2.00 | Premium   | I | VS1  | 60.8 | 59.0 | 18795 | 8.13 | 8.02 | 4.91 |\n",
       "| 2.29 | Premium   | I | SI1  | 61.8 | 59.0 | 18797 | 8.52 | 8.45 | 5.24 |\n",
       "| 2.00 | Very Good | H | SI1  | 62.8 | 57.0 | 18803 | 7.95 | 8.00 | 5.01 |\n",
       "| 2.00 | Very Good | G | SI1  | 63.5 | 56.0 | 18818 | 7.90 | 7.97 | 5.04 |\n",
       "| 2.29 | Premium   | I | VS2  | 60.8 | 60.0 | 18823 | 8.50 | 8.47 | 5.16 |\n",
       "\n"
      ],
      "text/plain": [
       "    carat cut       color clarity depth table price x    y    z   \n",
       "1   2.09  Premium   F     SI2     61.7  59.0  18002 8.23 8.21 5.07\n",
       "2   2.18  Premium   G     SI2     61.9  60.0  18003 8.29 8.24 5.12\n",
       "3   2.06  Very Good G     SI2     62.3  59.0  18005 8.07 8.20 5.07\n",
       "4   2.25  Premium   D     SI2     60.4  59.0  18007 8.54 8.48 5.13\n",
       "5   1.76  Very Good G     VS1     62.8  55.4  18014 7.70 7.74 4.85\n",
       "6   2.51  Premium   J     VS2     62.2  58.0  18020 8.73 8.67 5.41\n",
       "7   2.32  Premium   I     SI1     61.2  58.0  18026 8.57 8.52 5.23\n",
       "8   2.01  Very Good H     SI1     58.2  63.0  18027 8.32 8.23 4.82\n",
       "9   2.26  Very Good D     SI2     61.6  61.0  18028 8.47 8.38 5.19\n",
       "10  2.51  Very Good H     SI2     63.6  58.0  18029 8.51 8.59 5.44\n",
       "11  2.11  Premium   E     SI2     62.4  61.0  18034 8.19 8.10 5.08\n",
       "12  2.25  Premium   I     SI1     60.1  60.0  18034 8.55 8.51 5.13\n",
       "13  2.25  Premium   H     SI2     62.8  59.0  18034 0.00 0.00 0.00\n",
       "14  2.01  Very Good I     VS1     62.9  59.0  18041 7.94 8.03 5.02\n",
       "15  2.28  Premium   H     SI2     62.1  59.0  18055 8.44 8.40 5.23\n",
       "16  2.04  Premium   F     SI2     60.2  58.0  18066 8.17 8.24 4.94\n",
       "17  2.19  Very Good E     SI2     62.4  61.0  18067 8.23 8.31 5.16\n",
       "18  2.29  Very Good I     SI1     61.8  59.0  18068 8.44 8.51 5.24\n",
       "19  2.11  Very Good F     SI2     63.5  55.0  18071 8.08 8.13 5.15\n",
       "20  2.01  Very Good G     SI1     59.1  57.0  18077 8.16 8.23 4.84\n",
       "21  2.01  Premium   G     SI1     61.8  60.0  18077 7.99 8.04 4.95\n",
       "22  2.51  Very Good I     SI2     62.3  57.0  18090 8.69 8.76 5.44\n",
       "23  1.51  Premium   F     IF      60.5  61.0  18102 7.50 7.40 4.45\n",
       "24  2.04  Premium   H     VS1     60.7  61.0  18104 8.18 8.10 4.94\n",
       "25  1.70  Very Good G     VS2     61.9  55.0  18107 7.64 7.68 4.74\n",
       "26  1.70  Very Good E     VS2     58.6  60.0  18107 7.91 7.82 4.61\n",
       "27  1.14  Very Good D     IF      59.1  58.0  18112 6.83 6.90 4.06\n",
       "28  1.07  Very Good D     IF      60.9  58.0  18114 6.57 6.67 4.03\n",
       "29  2.03  Very Good E     SI2     58.8  59.0  18115 8.23 8.28 4.85\n",
       "30  2.04  Premium   H     SI1     62.5  61.0  18115 8.08 8.04 5.04\n",
       "⋮   ⋮     ⋮         ⋮     ⋮       ⋮     ⋮     ⋮     ⋮    ⋮    ⋮   \n",
       "144 2.03  Premium   G     VS2     59.6  60.0  18680 8.27 8.21 4.91\n",
       "145 1.50  Very Good G     VS2     60.7  59.0  18691 7.31 7.38 4.46\n",
       "146 2.43  Premium   J     VS2     62.2  57.0  18692 8.63 8.54 5.34\n",
       "147 2.48  Very Good F     SI2     63.4  56.0  18692 8.64 8.55 5.45\n",
       "148 3.51  Premium   J     VS2     62.5  59.0  18701 9.66 9.63 6.03\n",
       "149 2.01  Premium   G     SI2     61.2  57.2  18705 8.08 8.14 4.97\n",
       "150 2.22  Premium   J     VS1     60.0  60.0  18706 8.49 8.43 5.08\n",
       "151 2.00  Very Good E     SI1     60.5  59.0  18709 8.09 8.14 4.94\n",
       "152 3.01  Premium   J     SI2     60.7  59.0  18710 9.35 9.22 5.64\n",
       "153 3.01  Premium   J     SI2     59.7  58.0  18710 9.41 9.32 5.59\n",
       "154 2.18  Premium   F     SI1     61.2  60.0  18717 8.38 8.30 5.10\n",
       "155 1.70  Premium   G     VVS2    59.8  59.0  18718 7.70 7.75 4.62\n",
       "156 1.72  Premium   G     VVS2    61.8  60.0  18730 7.65 7.68 4.74\n",
       "157 2.02  Very Good E     SI1     59.8  59.0  18731 8.11 8.20 4.88\n",
       "158 1.94  Premium   F     SI1     62.6  58.0  18735 7.91 7.87 4.94\n",
       "159 2.01  Very Good G     SI1     63.1  59.0  18741 8.03 7.98 5.05\n",
       "160 2.01  Premium   G     SI1     60.3  59.0  18741 8.23 8.15 4.94\n",
       "161 2.36  Premium   H     SI2     59.4  58.0  18745 8.69 8.75 5.18\n",
       "162 2.00  Very Good F     SI1     57.9  60.0  18759 8.28 8.34 4.81\n",
       "163 2.55  Premium   I     VS1     61.8  62.0  18766 8.70 8.65 5.36\n",
       "164 1.51  Very Good F     VVS1    62.6  59.0  18777 7.33 7.24 4.56\n",
       "165 2.03  Very Good H     SI1     63.0  60.0  18781 8.00 7.93 5.02\n",
       "166 2.05  Premium   F     SI2     60.2  59.0  18784 8.28 8.33 5.00\n",
       "167 1.71  Premium   F     VS2     62.3  59.0  18791 7.57 7.53 4.70\n",
       "168 2.04  Premium   H     SI1     58.1  60.0  18795 8.37 8.28 4.84\n",
       "169 2.00  Premium   I     VS1     60.8  59.0  18795 8.13 8.02 4.91\n",
       "170 2.29  Premium   I     SI1     61.8  59.0  18797 8.52 8.45 5.24\n",
       "171 2.00  Very Good H     SI1     62.8  57.0  18803 7.95 8.00 5.01\n",
       "172 2.00  Very Good G     SI1     63.5  56.0  18818 7.90 7.97 5.04\n",
       "173 2.29  Premium   I     VS2     60.8  60.0  18823 8.50 8.47 5.16"
      ]
     },
     "metadata": {},
     "output_type": "display_data"
    }
   ],
   "source": [
    "# filter(diamonds, clarity==\"SI2\")\n",
    "# filter(diamonds, carat >= 0.3 & price >= 18800)\n",
    "# filter(diamonds, price <= 1000 & carat <= 1)\n",
    "# filter(diamonds, color == \"E\" | color == \"J\")\n",
    "\n",
    "# a <- filter(diamonds, (cut == \"Premium\" | cut == \"Very Good\"))\n",
    "# filter(a, price >= 18000)\n",
    "\n",
    "filter(diamonds, ((cut == \"Premium\" | cut == \"Very Good\") & price >= 18000))"
   ]
  },
  {
   "cell_type": "markdown",
   "metadata": {
    "slideshow": {
     "slide_type": "slide"
    }
   },
   "source": [
    "* 조건에 의해 필터된 데이터의 갯수를 알고 싶다면?"
   ]
  },
  {
   "cell_type": "code",
   "execution_count": 14,
   "metadata": {},
   "outputs": [
    {
     "data": {
      "text/html": [
       "5"
      ],
      "text/latex": [
       "5"
      ],
      "text/markdown": [
       "5"
      ],
      "text/plain": [
       "[1] 5"
      ]
     },
     "metadata": {},
     "output_type": "display_data"
    }
   ],
   "source": [
    "\n",
    "df <- filter(diamonds, carat >= 0.3 & price >= 18800) # 엑셀에서 일정 조적으로 필터한 후 새로운 시트를 만드는 것과 같습니다.\n",
    "\n",
    "n_distinct(df) \n",
    "\n",
    "#str(df)"
   ]
  },
  {
   "cell_type": "markdown",
   "metadata": {
    "slideshow": {
     "slide_type": "slide"
    }
   },
   "source": [
    "### arrange()\n",
    "* 특정 컬럼을 기준으로 정렬할 수 있습니다. "
   ]
  },
  {
   "cell_type": "code",
   "execution_count": 20,
   "metadata": {},
   "outputs": [
    {
     "data": {
      "text/html": [
       "<table>\n",
       "<caption>A tibble: 10 × 10</caption>\n",
       "<thead>\n",
       "\t<tr><th scope=col>carat</th><th scope=col>cut</th><th scope=col>color</th><th scope=col>clarity</th><th scope=col>depth</th><th scope=col>table</th><th scope=col>price</th><th scope=col>x</th><th scope=col>y</th><th scope=col>z</th></tr>\n",
       "\t<tr><th scope=col>&lt;dbl&gt;</th><th scope=col>&lt;ord&gt;</th><th scope=col>&lt;ord&gt;</th><th scope=col>&lt;ord&gt;</th><th scope=col>&lt;dbl&gt;</th><th scope=col>&lt;dbl&gt;</th><th scope=col>&lt;int&gt;</th><th scope=col>&lt;dbl&gt;</th><th scope=col>&lt;dbl&gt;</th><th scope=col>&lt;dbl&gt;</th></tr>\n",
       "</thead>\n",
       "<tbody>\n",
       "\t<tr><td>1.51</td><td>Ideal    </td><td>G</td><td>IF</td><td>61.7</td><td>55</td><td>18806</td><td>7.37</td><td>7.41</td><td>4.56</td></tr>\n",
       "\t<tr><td>1.28</td><td>Ideal    </td><td>E</td><td>IF</td><td>60.7</td><td>57</td><td>18700</td><td>7.09</td><td>6.99</td><td>4.27</td></tr>\n",
       "\t<tr><td>2.29</td><td>Premium  </td><td>J</td><td>IF</td><td>61.4</td><td>60</td><td>18594</td><td>8.49</td><td>8.45</td><td>5.20</td></tr>\n",
       "\t<tr><td>1.50</td><td>Very Good</td><td>F</td><td>IF</td><td>63.2</td><td>58</td><td>18552</td><td>7.20</td><td>7.32</td><td>4.59</td></tr>\n",
       "\t<tr><td>1.04</td><td>Very Good</td><td>D</td><td>IF</td><td>61.3</td><td>56</td><td>18542</td><td>6.53</td><td>6.55</td><td>4.01</td></tr>\n",
       "\t<tr><td>1.33</td><td>Ideal    </td><td>F</td><td>IF</td><td>60.2</td><td>57</td><td>18435</td><td>7.12</td><td>7.17</td><td>4.30</td></tr>\n",
       "\t<tr><td>2.29</td><td>Premium  </td><td>J</td><td>IF</td><td>61.4</td><td>60</td><td>18426</td><td>8.45</td><td>8.49</td><td>5.20</td></tr>\n",
       "\t<tr><td>1.07</td><td>Premium  </td><td>D</td><td>IF</td><td>60.9</td><td>58</td><td>18279</td><td>6.67</td><td>6.57</td><td>4.03</td></tr>\n",
       "\t<tr><td>1.09</td><td>Very Good</td><td>D</td><td>IF</td><td>61.7</td><td>58</td><td>18231</td><td>6.55</td><td>6.65</td><td>4.07</td></tr>\n",
       "\t<tr><td>1.07</td><td>Very Good</td><td>D</td><td>IF</td><td>60.9</td><td>58</td><td>18114</td><td>6.57</td><td>6.67</td><td>4.03</td></tr>\n",
       "</tbody>\n",
       "</table>\n"
      ],
      "text/latex": [
       "A tibble: 10 × 10\n",
       "\\begin{tabular}{llllllllll}\n",
       " carat & cut & color & clarity & depth & table & price & x & y & z\\\\\n",
       " <dbl> & <ord> & <ord> & <ord> & <dbl> & <dbl> & <int> & <dbl> & <dbl> & <dbl>\\\\\n",
       "\\hline\n",
       "\t 1.51 & Ideal     & G & IF & 61.7 & 55 & 18806 & 7.37 & 7.41 & 4.56\\\\\n",
       "\t 1.28 & Ideal     & E & IF & 60.7 & 57 & 18700 & 7.09 & 6.99 & 4.27\\\\\n",
       "\t 2.29 & Premium   & J & IF & 61.4 & 60 & 18594 & 8.49 & 8.45 & 5.20\\\\\n",
       "\t 1.50 & Very Good & F & IF & 63.2 & 58 & 18552 & 7.20 & 7.32 & 4.59\\\\\n",
       "\t 1.04 & Very Good & D & IF & 61.3 & 56 & 18542 & 6.53 & 6.55 & 4.01\\\\\n",
       "\t 1.33 & Ideal     & F & IF & 60.2 & 57 & 18435 & 7.12 & 7.17 & 4.30\\\\\n",
       "\t 2.29 & Premium   & J & IF & 61.4 & 60 & 18426 & 8.45 & 8.49 & 5.20\\\\\n",
       "\t 1.07 & Premium   & D & IF & 60.9 & 58 & 18279 & 6.67 & 6.57 & 4.03\\\\\n",
       "\t 1.09 & Very Good & D & IF & 61.7 & 58 & 18231 & 6.55 & 6.65 & 4.07\\\\\n",
       "\t 1.07 & Very Good & D & IF & 60.9 & 58 & 18114 & 6.57 & 6.67 & 4.03\\\\\n",
       "\\end{tabular}\n"
      ],
      "text/markdown": [
       "\n",
       "A tibble: 10 × 10\n",
       "\n",
       "| carat &lt;dbl&gt; | cut &lt;ord&gt; | color &lt;ord&gt; | clarity &lt;ord&gt; | depth &lt;dbl&gt; | table &lt;dbl&gt; | price &lt;int&gt; | x &lt;dbl&gt; | y &lt;dbl&gt; | z &lt;dbl&gt; |\n",
       "|---|---|---|---|---|---|---|---|---|---|\n",
       "| 1.51 | Ideal     | G | IF | 61.7 | 55 | 18806 | 7.37 | 7.41 | 4.56 |\n",
       "| 1.28 | Ideal     | E | IF | 60.7 | 57 | 18700 | 7.09 | 6.99 | 4.27 |\n",
       "| 2.29 | Premium   | J | IF | 61.4 | 60 | 18594 | 8.49 | 8.45 | 5.20 |\n",
       "| 1.50 | Very Good | F | IF | 63.2 | 58 | 18552 | 7.20 | 7.32 | 4.59 |\n",
       "| 1.04 | Very Good | D | IF | 61.3 | 56 | 18542 | 6.53 | 6.55 | 4.01 |\n",
       "| 1.33 | Ideal     | F | IF | 60.2 | 57 | 18435 | 7.12 | 7.17 | 4.30 |\n",
       "| 2.29 | Premium   | J | IF | 61.4 | 60 | 18426 | 8.45 | 8.49 | 5.20 |\n",
       "| 1.07 | Premium   | D | IF | 60.9 | 58 | 18279 | 6.67 | 6.57 | 4.03 |\n",
       "| 1.09 | Very Good | D | IF | 61.7 | 58 | 18231 | 6.55 | 6.65 | 4.07 |\n",
       "| 1.07 | Very Good | D | IF | 60.9 | 58 | 18114 | 6.57 | 6.67 | 4.03 |\n",
       "\n"
      ],
      "text/plain": [
       "   carat cut       color clarity depth table price x    y    z   \n",
       "1  1.51  Ideal     G     IF      61.7  55    18806 7.37 7.41 4.56\n",
       "2  1.28  Ideal     E     IF      60.7  57    18700 7.09 6.99 4.27\n",
       "3  2.29  Premium   J     IF      61.4  60    18594 8.49 8.45 5.20\n",
       "4  1.50  Very Good F     IF      63.2  58    18552 7.20 7.32 4.59\n",
       "5  1.04  Very Good D     IF      61.3  56    18542 6.53 6.55 4.01\n",
       "6  1.33  Ideal     F     IF      60.2  57    18435 7.12 7.17 4.30\n",
       "7  2.29  Premium   J     IF      61.4  60    18426 8.45 8.49 5.20\n",
       "8  1.07  Premium   D     IF      60.9  58    18279 6.67 6.57 4.03\n",
       "9  1.09  Very Good D     IF      61.7  58    18231 6.55 6.65 4.07\n",
       "10 1.07  Very Good D     IF      60.9  58    18114 6.57 6.67 4.03"
      ]
     },
     "metadata": {},
     "output_type": "display_data"
    }
   ],
   "source": [
    "# df <- arrange(diamonds, price) # 오름차순이 기본\n",
    "# df <- arrange(diamonds, desc(price)) # 내림차순으로 정렬할 때\n",
    "\n",
    "# arrange(diamonds, desc(clarity)) # 내림차순으로 정렬할 때\n",
    "\n",
    "df <- arrange(diamonds, desc(clarity), desc(price)) # 복합적인 조건으로 정렬할 수도 있습니다.\n",
    "\n",
    "head(df, 10)\n"
   ]
  },
  {
   "cell_type": "markdown",
   "metadata": {
    "slideshow": {
     "slide_type": "slide"
    }
   },
   "source": [
    "### select()\n",
    "* 열을 선택하는 것입니다. 일부 열만 선택하여 새로운 DataFrame을 만들게 됩니다."
   ]
  },
  {
   "cell_type": "code",
   "execution_count": 32,
   "metadata": {},
   "outputs": [
    {
     "data": {
      "text/html": [
       "<table>\n",
       "<thead><tr><th scope=col>carat</th><th scope=col>cut</th><th scope=col>color</th><th scope=col>clarity</th><th scope=col>depth</th><th scope=col>table</th><th scope=col>price</th><th scope=col>x</th><th scope=col>y</th><th scope=col>z</th></tr></thead>\n",
       "<tbody>\n",
       "\t<tr><td>0.23   </td><td>Ideal  </td><td>E      </td><td>SI2    </td><td>61.5   </td><td>55     </td><td>326    </td><td>3.95   </td><td>3.98   </td><td>2.43   </td></tr>\n",
       "\t<tr><td>0.21   </td><td>Premium</td><td>E      </td><td>SI1    </td><td>59.8   </td><td>61     </td><td>326    </td><td>3.89   </td><td>3.84   </td><td>2.31   </td></tr>\n",
       "\t<tr><td>0.23   </td><td>Good   </td><td>E      </td><td>VS1    </td><td>56.9   </td><td>65     </td><td>327    </td><td>4.05   </td><td>4.07   </td><td>2.31   </td></tr>\n",
       "</tbody>\n",
       "</table>\n"
      ],
      "text/latex": [
       "\\begin{tabular}{r|llllllllll}\n",
       " carat & cut & color & clarity & depth & table & price & x & y & z\\\\\n",
       "\\hline\n",
       "\t 0.23    & Ideal   & E       & SI2     & 61.5    & 55      & 326     & 3.95    & 3.98    & 2.43   \\\\\n",
       "\t 0.21    & Premium & E       & SI1     & 59.8    & 61      & 326     & 3.89    & 3.84    & 2.31   \\\\\n",
       "\t 0.23    & Good    & E       & VS1     & 56.9    & 65      & 327     & 4.05    & 4.07    & 2.31   \\\\\n",
       "\\end{tabular}\n"
      ],
      "text/markdown": [
       "\n",
       "| carat | cut | color | clarity | depth | table | price | x | y | z |\n",
       "|---|---|---|---|---|---|---|---|---|---|\n",
       "| 0.23    | Ideal   | E       | SI2     | 61.5    | 55      | 326     | 3.95    | 3.98    | 2.43    |\n",
       "| 0.21    | Premium | E       | SI1     | 59.8    | 61      | 326     | 3.89    | 3.84    | 2.31    |\n",
       "| 0.23    | Good    | E       | VS1     | 56.9    | 65      | 327     | 4.05    | 4.07    | 2.31    |\n",
       "\n"
      ],
      "text/plain": [
       "  carat cut     color clarity depth table price x    y    z   \n",
       "1 0.23  Ideal   E     SI2     61.5  55    326   3.95 3.98 2.43\n",
       "2 0.21  Premium E     SI1     59.8  61    326   3.89 3.84 2.31\n",
       "3 0.23  Good    E     VS1     56.9  65    327   4.05 4.07 2.31"
      ]
     },
     "metadata": {},
     "output_type": "display_data"
    },
    {
     "data": {
      "text/html": [
       "<table>\n",
       "<thead><tr><th scope=col>cut</th><th scope=col>color</th><th scope=col>price</th></tr></thead>\n",
       "<tbody>\n",
       "\t<tr><td>Ideal    </td><td>E        </td><td>326      </td></tr>\n",
       "\t<tr><td>Premium  </td><td>E        </td><td>326      </td></tr>\n",
       "\t<tr><td>Good     </td><td>E        </td><td>327      </td></tr>\n",
       "\t<tr><td>Premium  </td><td>I        </td><td>334      </td></tr>\n",
       "\t<tr><td>Good     </td><td>J        </td><td>335      </td></tr>\n",
       "\t<tr><td>Very Good</td><td>J        </td><td>336      </td></tr>\n",
       "\t<tr><td>Very Good</td><td>I        </td><td>336      </td></tr>\n",
       "\t<tr><td>Very Good</td><td>H        </td><td>337      </td></tr>\n",
       "\t<tr><td>Fair     </td><td>E        </td><td>337      </td></tr>\n",
       "\t<tr><td>Very Good</td><td>H        </td><td>338      </td></tr>\n",
       "</tbody>\n",
       "</table>\n"
      ],
      "text/latex": [
       "\\begin{tabular}{r|lll}\n",
       " cut & color & price\\\\\n",
       "\\hline\n",
       "\t Ideal     & E         & 326      \\\\\n",
       "\t Premium   & E         & 326      \\\\\n",
       "\t Good      & E         & 327      \\\\\n",
       "\t Premium   & I         & 334      \\\\\n",
       "\t Good      & J         & 335      \\\\\n",
       "\t Very Good & J         & 336      \\\\\n",
       "\t Very Good & I         & 336      \\\\\n",
       "\t Very Good & H         & 337      \\\\\n",
       "\t Fair      & E         & 337      \\\\\n",
       "\t Very Good & H         & 338      \\\\\n",
       "\\end{tabular}\n"
      ],
      "text/markdown": [
       "\n",
       "| cut | color | price |\n",
       "|---|---|---|\n",
       "| Ideal     | E         | 326       |\n",
       "| Premium   | E         | 326       |\n",
       "| Good      | E         | 327       |\n",
       "| Premium   | I         | 334       |\n",
       "| Good      | J         | 335       |\n",
       "| Very Good | J         | 336       |\n",
       "| Very Good | I         | 336       |\n",
       "| Very Good | H         | 337       |\n",
       "| Fair      | E         | 337       |\n",
       "| Very Good | H         | 338       |\n",
       "\n"
      ],
      "text/plain": [
       "   cut       color price\n",
       "1  Ideal     E     326  \n",
       "2  Premium   E     326  \n",
       "3  Good      E     327  \n",
       "4  Premium   I     334  \n",
       "5  Good      J     335  \n",
       "6  Very Good J     336  \n",
       "7  Very Good I     336  \n",
       "8  Very Good H     337  \n",
       "9  Fair      E     337  \n",
       "10 Very Good H     338  "
      ]
     },
     "metadata": {},
     "output_type": "display_data"
    }
   ],
   "source": [
    "head(diamonds,3)\n",
    "df <- select(diamonds, cut, color, price)\n",
    "\n",
    "head(df, 10)"
   ]
  },
  {
   "cell_type": "markdown",
   "metadata": {
    "slideshow": {
     "slide_type": "slide"
    }
   },
   "source": [
    "* 선택하면서 이름을 변경할 수 있습니다. "
   ]
  },
  {
   "cell_type": "code",
   "execution_count": 36,
   "metadata": {},
   "outputs": [
    {
     "data": {
      "text/html": [
       "<table>\n",
       "<thead><tr><th scope=col>c</th><th scope=col>l</th><th scope=col>p</th></tr></thead>\n",
       "<tbody>\n",
       "\t<tr><td>Ideal  </td><td>E      </td><td>326    </td></tr>\n",
       "\t<tr><td>Premium</td><td>E      </td><td>326    </td></tr>\n",
       "\t<tr><td>Good   </td><td>E      </td><td>327    </td></tr>\n",
       "\t<tr><td>Premium</td><td>I      </td><td>334    </td></tr>\n",
       "\t<tr><td>Good   </td><td>J      </td><td>335    </td></tr>\n",
       "</tbody>\n",
       "</table>\n"
      ],
      "text/latex": [
       "\\begin{tabular}{r|lll}\n",
       " c & l & p\\\\\n",
       "\\hline\n",
       "\t Ideal   & E       & 326    \\\\\n",
       "\t Premium & E       & 326    \\\\\n",
       "\t Good    & E       & 327    \\\\\n",
       "\t Premium & I       & 334    \\\\\n",
       "\t Good    & J       & 335    \\\\\n",
       "\\end{tabular}\n"
      ],
      "text/markdown": [
       "\n",
       "| c | l | p |\n",
       "|---|---|---|\n",
       "| Ideal   | E       | 326     |\n",
       "| Premium | E       | 326     |\n",
       "| Good    | E       | 327     |\n",
       "| Premium | I       | 334     |\n",
       "| Good    | J       | 335     |\n",
       "\n"
      ],
      "text/plain": [
       "  c       l p  \n",
       "1 Ideal   E 326\n",
       "2 Premium E 326\n",
       "3 Good    E 327\n",
       "4 Premium I 334\n",
       "5 Good    J 335"
      ]
     },
     "metadata": {},
     "output_type": "display_data"
    }
   ],
   "source": [
    "df <- select(diamonds, c = cut, l = color, p = price)\n",
    "\n",
    "head(df, 5)\n",
    "\n",
    "# rename(diamonds, c2=cut, l2=color)"
   ]
  },
  {
   "cell_type": "markdown",
   "metadata": {},
   "source": [
    "* 제외할 컬럼을 설정할 수도 있습니다. "
   ]
  },
  {
   "cell_type": "code",
   "execution_count": 23,
   "metadata": {},
   "outputs": [],
   "source": [
    "# select(diamonds, -cut, -color) "
   ]
  },
  {
   "cell_type": "markdown",
   "metadata": {},
   "source": [
    "* 특정 컬럼을 가장 좌측에 먼저 두고, 나머지 컬럼을 그대로 유지할 수 있습니다. "
   ]
  },
  {
   "cell_type": "code",
   "execution_count": 25,
   "metadata": {},
   "outputs": [],
   "source": [
    "# select(diamonds, price, everything())"
   ]
  },
  {
   "cell_type": "markdown",
   "metadata": {
    "slideshow": {
     "slide_type": "slide"
    }
   },
   "source": [
    "### mutate()\n",
    "* 열을 새로 만들 수 있습니다.\n",
    "* 기존 열들의 계산식을 사용할 수 있습니다.\n",
    "* 새로 만들어진 열의 이름을 또 사용할 수 있습니다. "
   ]
  },
  {
   "cell_type": "code",
   "execution_count": 26,
   "metadata": {},
   "outputs": [
    {
     "data": {
      "text/html": [
       "<table>\n",
       "<caption>A tibble: 5 × 11</caption>\n",
       "<thead>\n",
       "\t<tr><th scope=col>carat</th><th scope=col>cut</th><th scope=col>color</th><th scope=col>clarity</th><th scope=col>depth</th><th scope=col>table</th><th scope=col>price</th><th scope=col>x</th><th scope=col>y</th><th scope=col>z</th><th scope=col>x_and_y</th></tr>\n",
       "\t<tr><th scope=col>&lt;dbl&gt;</th><th scope=col>&lt;ord&gt;</th><th scope=col>&lt;ord&gt;</th><th scope=col>&lt;ord&gt;</th><th scope=col>&lt;dbl&gt;</th><th scope=col>&lt;dbl&gt;</th><th scope=col>&lt;int&gt;</th><th scope=col>&lt;dbl&gt;</th><th scope=col>&lt;dbl&gt;</th><th scope=col>&lt;dbl&gt;</th><th scope=col>&lt;dbl&gt;</th></tr>\n",
       "</thead>\n",
       "<tbody>\n",
       "\t<tr><td>0.23</td><td>Ideal  </td><td>E</td><td>SI2</td><td>61.5</td><td>55</td><td>326</td><td>3.95</td><td>3.98</td><td>2.43</td><td>7.93</td></tr>\n",
       "\t<tr><td>0.21</td><td>Premium</td><td>E</td><td>SI1</td><td>59.8</td><td>61</td><td>326</td><td>3.89</td><td>3.84</td><td>2.31</td><td>7.73</td></tr>\n",
       "\t<tr><td>0.23</td><td>Good   </td><td>E</td><td>VS1</td><td>56.9</td><td>65</td><td>327</td><td>4.05</td><td>4.07</td><td>2.31</td><td>8.12</td></tr>\n",
       "\t<tr><td>0.29</td><td>Premium</td><td>I</td><td>VS2</td><td>62.4</td><td>58</td><td>334</td><td>4.20</td><td>4.23</td><td>2.63</td><td>8.43</td></tr>\n",
       "\t<tr><td>0.31</td><td>Good   </td><td>J</td><td>SI2</td><td>63.3</td><td>58</td><td>335</td><td>4.34</td><td>4.35</td><td>2.75</td><td>8.69</td></tr>\n",
       "</tbody>\n",
       "</table>\n"
      ],
      "text/latex": [
       "A tibble: 5 × 11\n",
       "\\begin{tabular}{lllllllllll}\n",
       " carat & cut & color & clarity & depth & table & price & x & y & z & x\\_and\\_y\\\\\n",
       " <dbl> & <ord> & <ord> & <ord> & <dbl> & <dbl> & <int> & <dbl> & <dbl> & <dbl> & <dbl>\\\\\n",
       "\\hline\n",
       "\t 0.23 & Ideal   & E & SI2 & 61.5 & 55 & 326 & 3.95 & 3.98 & 2.43 & 7.93\\\\\n",
       "\t 0.21 & Premium & E & SI1 & 59.8 & 61 & 326 & 3.89 & 3.84 & 2.31 & 7.73\\\\\n",
       "\t 0.23 & Good    & E & VS1 & 56.9 & 65 & 327 & 4.05 & 4.07 & 2.31 & 8.12\\\\\n",
       "\t 0.29 & Premium & I & VS2 & 62.4 & 58 & 334 & 4.20 & 4.23 & 2.63 & 8.43\\\\\n",
       "\t 0.31 & Good    & J & SI2 & 63.3 & 58 & 335 & 4.34 & 4.35 & 2.75 & 8.69\\\\\n",
       "\\end{tabular}\n"
      ],
      "text/markdown": [
       "\n",
       "A tibble: 5 × 11\n",
       "\n",
       "| carat &lt;dbl&gt; | cut &lt;ord&gt; | color &lt;ord&gt; | clarity &lt;ord&gt; | depth &lt;dbl&gt; | table &lt;dbl&gt; | price &lt;int&gt; | x &lt;dbl&gt; | y &lt;dbl&gt; | z &lt;dbl&gt; | x_and_y &lt;dbl&gt; |\n",
       "|---|---|---|---|---|---|---|---|---|---|---|\n",
       "| 0.23 | Ideal   | E | SI2 | 61.5 | 55 | 326 | 3.95 | 3.98 | 2.43 | 7.93 |\n",
       "| 0.21 | Premium | E | SI1 | 59.8 | 61 | 326 | 3.89 | 3.84 | 2.31 | 7.73 |\n",
       "| 0.23 | Good    | E | VS1 | 56.9 | 65 | 327 | 4.05 | 4.07 | 2.31 | 8.12 |\n",
       "| 0.29 | Premium | I | VS2 | 62.4 | 58 | 334 | 4.20 | 4.23 | 2.63 | 8.43 |\n",
       "| 0.31 | Good    | J | SI2 | 63.3 | 58 | 335 | 4.34 | 4.35 | 2.75 | 8.69 |\n",
       "\n"
      ],
      "text/plain": [
       "  carat cut     color clarity depth table price x    y    z    x_and_y\n",
       "1 0.23  Ideal   E     SI2     61.5  55    326   3.95 3.98 2.43 7.93   \n",
       "2 0.21  Premium E     SI1     59.8  61    326   3.89 3.84 2.31 7.73   \n",
       "3 0.23  Good    E     VS1     56.9  65    327   4.05 4.07 2.31 8.12   \n",
       "4 0.29  Premium I     VS2     62.4  58    334   4.20 4.23 2.63 8.43   \n",
       "5 0.31  Good    J     SI2     63.3  58    335   4.34 4.35 2.75 8.69   "
      ]
     },
     "metadata": {},
     "output_type": "display_data"
    }
   ],
   "source": [
    "df <- mutate(diamonds, x_and_y = x+y)\n",
    "\n",
    "head(df, 5)"
   ]
  },
  {
   "cell_type": "markdown",
   "metadata": {
    "slideshow": {
     "slide_type": "slide"
    }
   },
   "source": [
    "* 열 이름 재사용"
   ]
  },
  {
   "cell_type": "code",
   "execution_count": 39,
   "metadata": {},
   "outputs": [
    {
     "data": {
      "text/html": [
       "<table>\n",
       "<thead><tr><th scope=col>carat</th><th scope=col>cut</th><th scope=col>color</th><th scope=col>clarity</th><th scope=col>depth</th><th scope=col>table</th><th scope=col>price</th><th scope=col>x</th><th scope=col>y</th><th scope=col>z</th><th scope=col>x_and_y</th><th scope=col>q</th></tr></thead>\n",
       "<tbody>\n",
       "\t<tr><td>0.23      </td><td>Ideal     </td><td>E         </td><td>SI2       </td><td>61.5      </td><td>55        </td><td>326       </td><td>3.95      </td><td>3.98      </td><td>2.43      </td><td>7.93      </td><td>0.02432515</td></tr>\n",
       "\t<tr><td>0.21      </td><td>Premium   </td><td>E         </td><td>SI1       </td><td>59.8      </td><td>61        </td><td>326       </td><td>3.89      </td><td>3.84      </td><td>2.31      </td><td>7.73      </td><td>0.02371166</td></tr>\n",
       "\t<tr><td>0.23      </td><td>Good      </td><td>E         </td><td>VS1       </td><td>56.9      </td><td>65        </td><td>327       </td><td>4.05      </td><td>4.07      </td><td>2.31      </td><td>8.12      </td><td>0.02483180</td></tr>\n",
       "\t<tr><td>0.29      </td><td>Premium   </td><td>I         </td><td>VS2       </td><td>62.4      </td><td>58        </td><td>334       </td><td>4.20      </td><td>4.23      </td><td>2.63      </td><td>8.43      </td><td>0.02523952</td></tr>\n",
       "\t<tr><td>0.31      </td><td>Good      </td><td>J         </td><td>SI2       </td><td>63.3      </td><td>58        </td><td>335       </td><td>4.34      </td><td>4.35      </td><td>2.75      </td><td>8.69      </td><td>0.02594030</td></tr>\n",
       "</tbody>\n",
       "</table>\n"
      ],
      "text/latex": [
       "\\begin{tabular}{r|llllllllllll}\n",
       " carat & cut & color & clarity & depth & table & price & x & y & z & x\\_and\\_y & q\\\\\n",
       "\\hline\n",
       "\t 0.23       & Ideal      & E          & SI2        & 61.5       & 55         & 326        & 3.95       & 3.98       & 2.43       & 7.93       & 0.02432515\\\\\n",
       "\t 0.21       & Premium    & E          & SI1        & 59.8       & 61         & 326        & 3.89       & 3.84       & 2.31       & 7.73       & 0.02371166\\\\\n",
       "\t 0.23       & Good       & E          & VS1        & 56.9       & 65         & 327        & 4.05       & 4.07       & 2.31       & 8.12       & 0.02483180\\\\\n",
       "\t 0.29       & Premium    & I          & VS2        & 62.4       & 58         & 334        & 4.20       & 4.23       & 2.63       & 8.43       & 0.02523952\\\\\n",
       "\t 0.31       & Good       & J          & SI2        & 63.3       & 58         & 335        & 4.34       & 4.35       & 2.75       & 8.69       & 0.02594030\\\\\n",
       "\\end{tabular}\n"
      ],
      "text/markdown": [
       "\n",
       "| carat | cut | color | clarity | depth | table | price | x | y | z | x_and_y | q |\n",
       "|---|---|---|---|---|---|---|---|---|---|---|---|\n",
       "| 0.23       | Ideal      | E          | SI2        | 61.5       | 55         | 326        | 3.95       | 3.98       | 2.43       | 7.93       | 0.02432515 |\n",
       "| 0.21       | Premium    | E          | SI1        | 59.8       | 61         | 326        | 3.89       | 3.84       | 2.31       | 7.73       | 0.02371166 |\n",
       "| 0.23       | Good       | E          | VS1        | 56.9       | 65         | 327        | 4.05       | 4.07       | 2.31       | 8.12       | 0.02483180 |\n",
       "| 0.29       | Premium    | I          | VS2        | 62.4       | 58         | 334        | 4.20       | 4.23       | 2.63       | 8.43       | 0.02523952 |\n",
       "| 0.31       | Good       | J          | SI2        | 63.3       | 58         | 335        | 4.34       | 4.35       | 2.75       | 8.69       | 0.02594030 |\n",
       "\n"
      ],
      "text/plain": [
       "  carat cut     color clarity depth table price x    y    z    x_and_y\n",
       "1 0.23  Ideal   E     SI2     61.5  55    326   3.95 3.98 2.43 7.93   \n",
       "2 0.21  Premium E     SI1     59.8  61    326   3.89 3.84 2.31 7.73   \n",
       "3 0.23  Good    E     VS1     56.9  65    327   4.05 4.07 2.31 8.12   \n",
       "4 0.29  Premium I     VS2     62.4  58    334   4.20 4.23 2.63 8.43   \n",
       "5 0.31  Good    J     SI2     63.3  58    335   4.34 4.35 2.75 8.69   \n",
       "  q         \n",
       "1 0.02432515\n",
       "2 0.02371166\n",
       "3 0.02483180\n",
       "4 0.02523952\n",
       "5 0.02594030"
      ]
     },
     "metadata": {},
     "output_type": "display_data"
    }
   ],
   "source": [
    "df <- mutate(diamonds, x_and_y = x+y, q = x_and_y/price)\n",
    "\n",
    "df1 <- mutate(diamonds, x_and_y = x+y)\n",
    "df2 <- mutate(df1, q = x_and_y/price)\n",
    "\n",
    "head(df2, 5)"
   ]
  },
  {
   "cell_type": "markdown",
   "metadata": {},
   "source": [
    "* 엑셀과 같이 조건에 따른 dummy 변수 생성도 가능합니다. (ifelse)"
   ]
  },
  {
   "cell_type": "code",
   "execution_count": 31,
   "metadata": {},
   "outputs": [
    {
     "data": {
      "text/html": [
       "<table>\n",
       "<caption>A tibble: 5 × 11</caption>\n",
       "<thead>\n",
       "\t<tr><th scope=col>carat</th><th scope=col>cut</th><th scope=col>color</th><th scope=col>clarity</th><th scope=col>depth</th><th scope=col>table</th><th scope=col>price</th><th scope=col>x</th><th scope=col>y</th><th scope=col>z</th><th scope=col>rank</th></tr>\n",
       "\t<tr><th scope=col>&lt;dbl&gt;</th><th scope=col>&lt;ord&gt;</th><th scope=col>&lt;ord&gt;</th><th scope=col>&lt;ord&gt;</th><th scope=col>&lt;dbl&gt;</th><th scope=col>&lt;dbl&gt;</th><th scope=col>&lt;int&gt;</th><th scope=col>&lt;dbl&gt;</th><th scope=col>&lt;dbl&gt;</th><th scope=col>&lt;dbl&gt;</th><th scope=col>&lt;chr&gt;</th></tr>\n",
       "</thead>\n",
       "<tbody>\n",
       "\t<tr><td>0.23</td><td>Ideal  </td><td>E</td><td>SI2</td><td>61.5</td><td>55</td><td>326</td><td>3.95</td><td>3.98</td><td>2.43</td><td>bad</td></tr>\n",
       "\t<tr><td>0.21</td><td>Premium</td><td>E</td><td>SI1</td><td>59.8</td><td>61</td><td>326</td><td>3.89</td><td>3.84</td><td>2.31</td><td>bad</td></tr>\n",
       "\t<tr><td>0.23</td><td>Good   </td><td>E</td><td>VS1</td><td>56.9</td><td>65</td><td>327</td><td>4.05</td><td>4.07</td><td>2.31</td><td>bad</td></tr>\n",
       "\t<tr><td>0.29</td><td>Premium</td><td>I</td><td>VS2</td><td>62.4</td><td>58</td><td>334</td><td>4.20</td><td>4.23</td><td>2.63</td><td>bad</td></tr>\n",
       "\t<tr><td>0.31</td><td>Good   </td><td>J</td><td>SI2</td><td>63.3</td><td>58</td><td>335</td><td>4.34</td><td>4.35</td><td>2.75</td><td>bad</td></tr>\n",
       "</tbody>\n",
       "</table>\n"
      ],
      "text/latex": [
       "A tibble: 5 × 11\n",
       "\\begin{tabular}{lllllllllll}\n",
       " carat & cut & color & clarity & depth & table & price & x & y & z & rank\\\\\n",
       " <dbl> & <ord> & <ord> & <ord> & <dbl> & <dbl> & <int> & <dbl> & <dbl> & <dbl> & <chr>\\\\\n",
       "\\hline\n",
       "\t 0.23 & Ideal   & E & SI2 & 61.5 & 55 & 326 & 3.95 & 3.98 & 2.43 & bad\\\\\n",
       "\t 0.21 & Premium & E & SI1 & 59.8 & 61 & 326 & 3.89 & 3.84 & 2.31 & bad\\\\\n",
       "\t 0.23 & Good    & E & VS1 & 56.9 & 65 & 327 & 4.05 & 4.07 & 2.31 & bad\\\\\n",
       "\t 0.29 & Premium & I & VS2 & 62.4 & 58 & 334 & 4.20 & 4.23 & 2.63 & bad\\\\\n",
       "\t 0.31 & Good    & J & SI2 & 63.3 & 58 & 335 & 4.34 & 4.35 & 2.75 & bad\\\\\n",
       "\\end{tabular}\n"
      ],
      "text/markdown": [
       "\n",
       "A tibble: 5 × 11\n",
       "\n",
       "| carat &lt;dbl&gt; | cut &lt;ord&gt; | color &lt;ord&gt; | clarity &lt;ord&gt; | depth &lt;dbl&gt; | table &lt;dbl&gt; | price &lt;int&gt; | x &lt;dbl&gt; | y &lt;dbl&gt; | z &lt;dbl&gt; | rank &lt;chr&gt; |\n",
       "|---|---|---|---|---|---|---|---|---|---|---|\n",
       "| 0.23 | Ideal   | E | SI2 | 61.5 | 55 | 326 | 3.95 | 3.98 | 2.43 | bad |\n",
       "| 0.21 | Premium | E | SI1 | 59.8 | 61 | 326 | 3.89 | 3.84 | 2.31 | bad |\n",
       "| 0.23 | Good    | E | VS1 | 56.9 | 65 | 327 | 4.05 | 4.07 | 2.31 | bad |\n",
       "| 0.29 | Premium | I | VS2 | 62.4 | 58 | 334 | 4.20 | 4.23 | 2.63 | bad |\n",
       "| 0.31 | Good    | J | SI2 | 63.3 | 58 | 335 | 4.34 | 4.35 | 2.75 | bad |\n",
       "\n"
      ],
      "text/plain": [
       "  carat cut     color clarity depth table price x    y    z    rank\n",
       "1 0.23  Ideal   E     SI2     61.5  55    326   3.95 3.98 2.43 bad \n",
       "2 0.21  Premium E     SI1     59.8  61    326   3.89 3.84 2.31 bad \n",
       "3 0.23  Good    E     VS1     56.9  65    327   4.05 4.07 2.31 bad \n",
       "4 0.29  Premium I     VS2     62.4  58    334   4.20 4.23 2.63 bad \n",
       "5 0.31  Good    J     SI2     63.3  58    335   4.34 4.35 2.75 bad "
      ]
     },
     "metadata": {},
     "output_type": "display_data"
    }
   ],
   "source": [
    "df <- mutate(diamonds, rank = ifelse(price >= 18000,'good','bad')) \n",
    "# df <- mutate(diamonds, rank = ifelse(price >= 18000,'good',ifelse(price>= 10000, 'not bad', 'bad')))\n",
    "\n",
    "head(df, 5)\n",
    "\n",
    "# filter(df, rank == 'good')\n",
    "# filter(df, rank == 'not bad')"
   ]
  },
  {
   "cell_type": "markdown",
   "metadata": {
    "slideshow": {
     "slide_type": "slide"
    }
   },
   "source": [
    "### summarise() and group_by()\n",
    "* 엑셀의 피봇 기능과 유사합니다.\n",
    "* summarise()는 계산 함수를 사용해서 값을 산출합니다.\n",
    "* 여기에 group_by() 함수를 사용하면 특정 그룹별로 값을 산출할 수 있습니다. "
   ]
  },
  {
   "cell_type": "code",
   "execution_count": 33,
   "metadata": {},
   "outputs": [
    {
     "data": {
      "text/html": [
       "<table>\n",
       "<caption>A tibble: 1 × 2</caption>\n",
       "<thead>\n",
       "\t<tr><th scope=col>SUM</th><th scope=col>AVG</th></tr>\n",
       "\t<tr><th scope=col>&lt;int&gt;</th><th scope=col>&lt;dbl&gt;</th></tr>\n",
       "</thead>\n",
       "<tbody>\n",
       "\t<tr><td>212135217</td><td>3932.8</td></tr>\n",
       "</tbody>\n",
       "</table>\n"
      ],
      "text/latex": [
       "A tibble: 1 × 2\n",
       "\\begin{tabular}{ll}\n",
       " SUM & AVG\\\\\n",
       " <int> & <dbl>\\\\\n",
       "\\hline\n",
       "\t 212135217 & 3932.8\\\\\n",
       "\\end{tabular}\n"
      ],
      "text/markdown": [
       "\n",
       "A tibble: 1 × 2\n",
       "\n",
       "| SUM &lt;int&gt; | AVG &lt;dbl&gt; |\n",
       "|---|---|\n",
       "| 212135217 | 3932.8 |\n",
       "\n"
      ],
      "text/plain": [
       "  SUM       AVG   \n",
       "1 212135217 3932.8"
      ]
     },
     "metadata": {},
     "output_type": "display_data"
    }
   ],
   "source": [
    "# summarise(diamonds, AVG = mean(price))\n",
    "\n",
    "# 여러 계산 값을 한꺼번에 구할 수 있습니다. \n",
    "summarise(diamonds, SUM = sum(price), AVG = mean(price))"
   ]
  },
  {
   "cell_type": "markdown",
   "metadata": {
    "slideshow": {
     "slide_type": "slide"
    }
   },
   "source": [
    "* group_by()는 summarise()의 계산 대상 그룹을 정의하는 함수입니다."
   ]
  },
  {
   "cell_type": "code",
   "execution_count": 37,
   "metadata": {
    "slideshow": {
     "slide_type": ""
    }
   },
   "outputs": [
    {
     "name": "stderr",
     "output_type": "stream",
     "text": [
      "`summarise()` ungrouping output (override with `.groups` argument)\n",
      "\n"
     ]
    },
    {
     "data": {
      "text/html": [
       "<table>\n",
       "<caption>A tibble: 7 × 2</caption>\n",
       "<thead>\n",
       "\t<tr><th scope=col>color</th><th scope=col>avg</th></tr>\n",
       "\t<tr><th scope=col>&lt;ord&gt;</th><th scope=col>&lt;dbl&gt;</th></tr>\n",
       "</thead>\n",
       "<tbody>\n",
       "\t<tr><td>D</td><td>3169.954</td></tr>\n",
       "\t<tr><td>E</td><td>3076.752</td></tr>\n",
       "\t<tr><td>F</td><td>3724.886</td></tr>\n",
       "\t<tr><td>G</td><td>3999.136</td></tr>\n",
       "\t<tr><td>H</td><td>4486.669</td></tr>\n",
       "\t<tr><td>I</td><td>5091.875</td></tr>\n",
       "\t<tr><td>J</td><td>5323.818</td></tr>\n",
       "</tbody>\n",
       "</table>\n"
      ],
      "text/latex": [
       "A tibble: 7 × 2\n",
       "\\begin{tabular}{ll}\n",
       " color & avg\\\\\n",
       " <ord> & <dbl>\\\\\n",
       "\\hline\n",
       "\t D & 3169.954\\\\\n",
       "\t E & 3076.752\\\\\n",
       "\t F & 3724.886\\\\\n",
       "\t G & 3999.136\\\\\n",
       "\t H & 4486.669\\\\\n",
       "\t I & 5091.875\\\\\n",
       "\t J & 5323.818\\\\\n",
       "\\end{tabular}\n"
      ],
      "text/markdown": [
       "\n",
       "A tibble: 7 × 2\n",
       "\n",
       "| color &lt;ord&gt; | avg &lt;dbl&gt; |\n",
       "|---|---|\n",
       "| D | 3169.954 |\n",
       "| E | 3076.752 |\n",
       "| F | 3724.886 |\n",
       "| G | 3999.136 |\n",
       "| H | 4486.669 |\n",
       "| I | 5091.875 |\n",
       "| J | 5323.818 |\n",
       "\n"
      ],
      "text/plain": [
       "  color avg     \n",
       "1 D     3169.954\n",
       "2 E     3076.752\n",
       "3 F     3724.886\n",
       "4 G     3999.136\n",
       "5 H     4486.669\n",
       "6 I     5091.875\n",
       "7 J     5323.818"
      ]
     },
     "metadata": {},
     "output_type": "display_data"
    },
    {
     "data": {
      "text/html": [
       "<table>\n",
       "<caption>A tibble: 1 × 1</caption>\n",
       "<thead>\n",
       "\t<tr><th scope=col>SUM</th></tr>\n",
       "\t<tr><th scope=col>&lt;int&gt;</th></tr>\n",
       "</thead>\n",
       "<tbody>\n",
       "\t<tr><td>212135217</td></tr>\n",
       "</tbody>\n",
       "</table>\n"
      ],
      "text/latex": [
       "A tibble: 1 × 1\n",
       "\\begin{tabular}{l}\n",
       " SUM\\\\\n",
       " <int>\\\\\n",
       "\\hline\n",
       "\t 212135217\\\\\n",
       "\\end{tabular}\n"
      ],
      "text/markdown": [
       "\n",
       "A tibble: 1 × 1\n",
       "\n",
       "| SUM &lt;int&gt; |\n",
       "|---|\n",
       "| 212135217 |\n",
       "\n"
      ],
      "text/plain": [
       "  SUM      \n",
       "1 212135217"
      ]
     },
     "metadata": {},
     "output_type": "display_data"
    },
    {
     "name": "stderr",
     "output_type": "stream",
     "text": [
      "`summarise()` ungrouping output (override with `.groups` argument)\n",
      "\n"
     ]
    },
    {
     "data": {
      "text/html": [
       "<table>\n",
       "<caption>A tibble: 7 × 3</caption>\n",
       "<thead>\n",
       "\t<tr><th scope=col>color</th><th scope=col>SUM</th><th scope=col>AVG</th></tr>\n",
       "\t<tr><th scope=col>&lt;ord&gt;</th><th scope=col>&lt;int&gt;</th><th scope=col>&lt;dbl&gt;</th></tr>\n",
       "</thead>\n",
       "<tbody>\n",
       "\t<tr><td>D</td><td>21476439</td><td>3169.954</td></tr>\n",
       "\t<tr><td>E</td><td>30142944</td><td>3076.752</td></tr>\n",
       "\t<tr><td>F</td><td>35542866</td><td>3724.886</td></tr>\n",
       "\t<tr><td>G</td><td>45158240</td><td>3999.136</td></tr>\n",
       "\t<tr><td>H</td><td>37257301</td><td>4486.669</td></tr>\n",
       "\t<tr><td>I</td><td>27608146</td><td>5091.875</td></tr>\n",
       "\t<tr><td>J</td><td>14949281</td><td>5323.818</td></tr>\n",
       "</tbody>\n",
       "</table>\n"
      ],
      "text/latex": [
       "A tibble: 7 × 3\n",
       "\\begin{tabular}{lll}\n",
       " color & SUM & AVG\\\\\n",
       " <ord> & <int> & <dbl>\\\\\n",
       "\\hline\n",
       "\t D & 21476439 & 3169.954\\\\\n",
       "\t E & 30142944 & 3076.752\\\\\n",
       "\t F & 35542866 & 3724.886\\\\\n",
       "\t G & 45158240 & 3999.136\\\\\n",
       "\t H & 37257301 & 4486.669\\\\\n",
       "\t I & 27608146 & 5091.875\\\\\n",
       "\t J & 14949281 & 5323.818\\\\\n",
       "\\end{tabular}\n"
      ],
      "text/markdown": [
       "\n",
       "A tibble: 7 × 3\n",
       "\n",
       "| color &lt;ord&gt; | SUM &lt;int&gt; | AVG &lt;dbl&gt; |\n",
       "|---|---|---|\n",
       "| D | 21476439 | 3169.954 |\n",
       "| E | 30142944 | 3076.752 |\n",
       "| F | 35542866 | 3724.886 |\n",
       "| G | 45158240 | 3999.136 |\n",
       "| H | 37257301 | 4486.669 |\n",
       "| I | 27608146 | 5091.875 |\n",
       "| J | 14949281 | 5323.818 |\n",
       "\n"
      ],
      "text/plain": [
       "  color SUM      AVG     \n",
       "1 D     21476439 3169.954\n",
       "2 E     30142944 3076.752\n",
       "3 F     35542866 3724.886\n",
       "4 G     45158240 3999.136\n",
       "5 H     37257301 4486.669\n",
       "6 I     27608146 5091.875\n",
       "7 J     14949281 5323.818"
      ]
     },
     "metadata": {},
     "output_type": "display_data"
    }
   ],
   "source": [
    "diamonds_group_01 <- group_by(diamonds, color)\n",
    "# diamonds_group <- group_by(diamonds, color,cut)\n",
    "\n",
    "# with group\n",
    "summarise(diamonds_group_01, avg = mean(price))\n",
    "# without group\n",
    "summarise(diamonds, SUM = sum(price))\n",
    "\n",
    "\n",
    "# 여러 계산 값을 한꺼번에 구할 수 있습니다. \n",
    " summarise(diamonds_group_01, SUM = sum(price), AVG = mean(price))"
   ]
  },
  {
   "cell_type": "markdown",
   "metadata": {},
   "source": [
    "* 여러 컬럼을 그룹의 기준으로 정할 수 있습니다. "
   ]
  },
  {
   "cell_type": "code",
   "execution_count": 38,
   "metadata": {},
   "outputs": [
    {
     "name": "stderr",
     "output_type": "stream",
     "text": [
      "`summarise()` regrouping output by 'color' (override with `.groups` argument)\n",
      "\n"
     ]
    },
    {
     "data": {
      "text/html": [
       "<table>\n",
       "<caption>A grouped_df: 35 × 3</caption>\n",
       "<thead>\n",
       "\t<tr><th scope=col>color</th><th scope=col>cut</th><th scope=col>avg</th></tr>\n",
       "\t<tr><th scope=col>&lt;ord&gt;</th><th scope=col>&lt;ord&gt;</th><th scope=col>&lt;dbl&gt;</th></tr>\n",
       "</thead>\n",
       "<tbody>\n",
       "\t<tr><td>D</td><td>Fair     </td><td>4291.061</td></tr>\n",
       "\t<tr><td>D</td><td>Good     </td><td>3405.382</td></tr>\n",
       "\t<tr><td>D</td><td>Very Good</td><td>3470.467</td></tr>\n",
       "\t<tr><td>D</td><td>Premium  </td><td>3631.293</td></tr>\n",
       "\t<tr><td>D</td><td>Ideal    </td><td>2629.095</td></tr>\n",
       "\t<tr><td>E</td><td>Fair     </td><td>3682.312</td></tr>\n",
       "\t<tr><td>E</td><td>Good     </td><td>3423.644</td></tr>\n",
       "\t<tr><td>E</td><td>Very Good</td><td>3214.652</td></tr>\n",
       "\t<tr><td>E</td><td>Premium  </td><td>3538.914</td></tr>\n",
       "\t<tr><td>E</td><td>Ideal    </td><td>2597.550</td></tr>\n",
       "\t<tr><td>F</td><td>Fair     </td><td>3827.003</td></tr>\n",
       "\t<tr><td>F</td><td>Good     </td><td>3495.750</td></tr>\n",
       "\t<tr><td>F</td><td>Very Good</td><td>3778.820</td></tr>\n",
       "\t<tr><td>F</td><td>Premium  </td><td>4324.890</td></tr>\n",
       "\t<tr><td>F</td><td>Ideal    </td><td>3374.939</td></tr>\n",
       "\t<tr><td>G</td><td>Fair     </td><td>4239.255</td></tr>\n",
       "\t<tr><td>G</td><td>Good     </td><td>4123.482</td></tr>\n",
       "\t<tr><td>G</td><td>Very Good</td><td>3872.754</td></tr>\n",
       "\t<tr><td>G</td><td>Premium  </td><td>4500.742</td></tr>\n",
       "\t<tr><td>G</td><td>Ideal    </td><td>3720.706</td></tr>\n",
       "\t<tr><td>H</td><td>Fair     </td><td>5135.683</td></tr>\n",
       "\t<tr><td>H</td><td>Good     </td><td>4276.255</td></tr>\n",
       "\t<tr><td>H</td><td>Very Good</td><td>4535.390</td></tr>\n",
       "\t<tr><td>H</td><td>Premium  </td><td>5216.707</td></tr>\n",
       "\t<tr><td>H</td><td>Ideal    </td><td>3889.335</td></tr>\n",
       "\t<tr><td>I</td><td>Fair     </td><td>4685.446</td></tr>\n",
       "\t<tr><td>I</td><td>Good     </td><td>5078.533</td></tr>\n",
       "\t<tr><td>I</td><td>Very Good</td><td>5255.880</td></tr>\n",
       "\t<tr><td>I</td><td>Premium  </td><td>5946.181</td></tr>\n",
       "\t<tr><td>I</td><td>Ideal    </td><td>4451.970</td></tr>\n",
       "\t<tr><td>J</td><td>Fair     </td><td>4975.655</td></tr>\n",
       "\t<tr><td>J</td><td>Good     </td><td>4574.173</td></tr>\n",
       "\t<tr><td>J</td><td>Very Good</td><td>5103.513</td></tr>\n",
       "\t<tr><td>J</td><td>Premium  </td><td>6294.592</td></tr>\n",
       "\t<tr><td>J</td><td>Ideal    </td><td>4918.186</td></tr>\n",
       "</tbody>\n",
       "</table>\n"
      ],
      "text/latex": [
       "A grouped\\_df: 35 × 3\n",
       "\\begin{tabular}{lll}\n",
       " color & cut & avg\\\\\n",
       " <ord> & <ord> & <dbl>\\\\\n",
       "\\hline\n",
       "\t D & Fair      & 4291.061\\\\\n",
       "\t D & Good      & 3405.382\\\\\n",
       "\t D & Very Good & 3470.467\\\\\n",
       "\t D & Premium   & 3631.293\\\\\n",
       "\t D & Ideal     & 2629.095\\\\\n",
       "\t E & Fair      & 3682.312\\\\\n",
       "\t E & Good      & 3423.644\\\\\n",
       "\t E & Very Good & 3214.652\\\\\n",
       "\t E & Premium   & 3538.914\\\\\n",
       "\t E & Ideal     & 2597.550\\\\\n",
       "\t F & Fair      & 3827.003\\\\\n",
       "\t F & Good      & 3495.750\\\\\n",
       "\t F & Very Good & 3778.820\\\\\n",
       "\t F & Premium   & 4324.890\\\\\n",
       "\t F & Ideal     & 3374.939\\\\\n",
       "\t G & Fair      & 4239.255\\\\\n",
       "\t G & Good      & 4123.482\\\\\n",
       "\t G & Very Good & 3872.754\\\\\n",
       "\t G & Premium   & 4500.742\\\\\n",
       "\t G & Ideal     & 3720.706\\\\\n",
       "\t H & Fair      & 5135.683\\\\\n",
       "\t H & Good      & 4276.255\\\\\n",
       "\t H & Very Good & 4535.390\\\\\n",
       "\t H & Premium   & 5216.707\\\\\n",
       "\t H & Ideal     & 3889.335\\\\\n",
       "\t I & Fair      & 4685.446\\\\\n",
       "\t I & Good      & 5078.533\\\\\n",
       "\t I & Very Good & 5255.880\\\\\n",
       "\t I & Premium   & 5946.181\\\\\n",
       "\t I & Ideal     & 4451.970\\\\\n",
       "\t J & Fair      & 4975.655\\\\\n",
       "\t J & Good      & 4574.173\\\\\n",
       "\t J & Very Good & 5103.513\\\\\n",
       "\t J & Premium   & 6294.592\\\\\n",
       "\t J & Ideal     & 4918.186\\\\\n",
       "\\end{tabular}\n"
      ],
      "text/markdown": [
       "\n",
       "A grouped_df: 35 × 3\n",
       "\n",
       "| color &lt;ord&gt; | cut &lt;ord&gt; | avg &lt;dbl&gt; |\n",
       "|---|---|---|\n",
       "| D | Fair      | 4291.061 |\n",
       "| D | Good      | 3405.382 |\n",
       "| D | Very Good | 3470.467 |\n",
       "| D | Premium   | 3631.293 |\n",
       "| D | Ideal     | 2629.095 |\n",
       "| E | Fair      | 3682.312 |\n",
       "| E | Good      | 3423.644 |\n",
       "| E | Very Good | 3214.652 |\n",
       "| E | Premium   | 3538.914 |\n",
       "| E | Ideal     | 2597.550 |\n",
       "| F | Fair      | 3827.003 |\n",
       "| F | Good      | 3495.750 |\n",
       "| F | Very Good | 3778.820 |\n",
       "| F | Premium   | 4324.890 |\n",
       "| F | Ideal     | 3374.939 |\n",
       "| G | Fair      | 4239.255 |\n",
       "| G | Good      | 4123.482 |\n",
       "| G | Very Good | 3872.754 |\n",
       "| G | Premium   | 4500.742 |\n",
       "| G | Ideal     | 3720.706 |\n",
       "| H | Fair      | 5135.683 |\n",
       "| H | Good      | 4276.255 |\n",
       "| H | Very Good | 4535.390 |\n",
       "| H | Premium   | 5216.707 |\n",
       "| H | Ideal     | 3889.335 |\n",
       "| I | Fair      | 4685.446 |\n",
       "| I | Good      | 5078.533 |\n",
       "| I | Very Good | 5255.880 |\n",
       "| I | Premium   | 5946.181 |\n",
       "| I | Ideal     | 4451.970 |\n",
       "| J | Fair      | 4975.655 |\n",
       "| J | Good      | 4574.173 |\n",
       "| J | Very Good | 5103.513 |\n",
       "| J | Premium   | 6294.592 |\n",
       "| J | Ideal     | 4918.186 |\n",
       "\n"
      ],
      "text/plain": [
       "   color cut       avg     \n",
       "1  D     Fair      4291.061\n",
       "2  D     Good      3405.382\n",
       "3  D     Very Good 3470.467\n",
       "4  D     Premium   3631.293\n",
       "5  D     Ideal     2629.095\n",
       "6  E     Fair      3682.312\n",
       "7  E     Good      3423.644\n",
       "8  E     Very Good 3214.652\n",
       "9  E     Premium   3538.914\n",
       "10 E     Ideal     2597.550\n",
       "11 F     Fair      3827.003\n",
       "12 F     Good      3495.750\n",
       "13 F     Very Good 3778.820\n",
       "14 F     Premium   4324.890\n",
       "15 F     Ideal     3374.939\n",
       "16 G     Fair      4239.255\n",
       "17 G     Good      4123.482\n",
       "18 G     Very Good 3872.754\n",
       "19 G     Premium   4500.742\n",
       "20 G     Ideal     3720.706\n",
       "21 H     Fair      5135.683\n",
       "22 H     Good      4276.255\n",
       "23 H     Very Good 4535.390\n",
       "24 H     Premium   5216.707\n",
       "25 H     Ideal     3889.335\n",
       "26 I     Fair      4685.446\n",
       "27 I     Good      5078.533\n",
       "28 I     Very Good 5255.880\n",
       "29 I     Premium   5946.181\n",
       "30 I     Ideal     4451.970\n",
       "31 J     Fair      4975.655\n",
       "32 J     Good      4574.173\n",
       "33 J     Very Good 5103.513\n",
       "34 J     Premium   6294.592\n",
       "35 J     Ideal     4918.186"
      ]
     },
     "metadata": {},
     "output_type": "display_data"
    },
    {
     "data": {
      "text/html": [
       "<table>\n",
       "<caption>A tibble: 1 × 1</caption>\n",
       "<thead>\n",
       "\t<tr><th scope=col>SUM</th></tr>\n",
       "\t<tr><th scope=col>&lt;int&gt;</th></tr>\n",
       "</thead>\n",
       "<tbody>\n",
       "\t<tr><td>212135217</td></tr>\n",
       "</tbody>\n",
       "</table>\n"
      ],
      "text/latex": [
       "A tibble: 1 × 1\n",
       "\\begin{tabular}{l}\n",
       " SUM\\\\\n",
       " <int>\\\\\n",
       "\\hline\n",
       "\t 212135217\\\\\n",
       "\\end{tabular}\n"
      ],
      "text/markdown": [
       "\n",
       "A tibble: 1 × 1\n",
       "\n",
       "| SUM &lt;int&gt; |\n",
       "|---|\n",
       "| 212135217 |\n",
       "\n"
      ],
      "text/plain": [
       "  SUM      \n",
       "1 212135217"
      ]
     },
     "metadata": {},
     "output_type": "display_data"
    },
    {
     "name": "stderr",
     "output_type": "stream",
     "text": [
      "`summarise()` regrouping output by 'color' (override with `.groups` argument)\n",
      "\n"
     ]
    },
    {
     "data": {
      "text/html": [
       "<table>\n",
       "<caption>A grouped_df: 35 × 4</caption>\n",
       "<thead>\n",
       "\t<tr><th scope=col>color</th><th scope=col>cut</th><th scope=col>SUM</th><th scope=col>AVG</th></tr>\n",
       "\t<tr><th scope=col>&lt;ord&gt;</th><th scope=col>&lt;ord&gt;</th><th scope=col>&lt;int&gt;</th><th scope=col>&lt;dbl&gt;</th></tr>\n",
       "</thead>\n",
       "<tbody>\n",
       "\t<tr><td>D</td><td>Fair     </td><td>  699443</td><td>4291.061</td></tr>\n",
       "\t<tr><td>D</td><td>Good     </td><td> 2254363</td><td>3405.382</td></tr>\n",
       "\t<tr><td>D</td><td>Very Good</td><td> 5250817</td><td>3470.467</td></tr>\n",
       "\t<tr><td>D</td><td>Premium  </td><td> 5820962</td><td>3631.293</td></tr>\n",
       "\t<tr><td>D</td><td>Ideal    </td><td> 7450854</td><td>2629.095</td></tr>\n",
       "\t<tr><td>E</td><td>Fair     </td><td>  824838</td><td>3682.312</td></tr>\n",
       "\t<tr><td>E</td><td>Good     </td><td> 3194260</td><td>3423.644</td></tr>\n",
       "\t<tr><td>E</td><td>Very Good</td><td> 7715165</td><td>3214.652</td></tr>\n",
       "\t<tr><td>E</td><td>Premium  </td><td> 8270443</td><td>3538.914</td></tr>\n",
       "\t<tr><td>E</td><td>Ideal    </td><td>10138238</td><td>2597.550</td></tr>\n",
       "\t<tr><td>F</td><td>Fair     </td><td> 1194025</td><td>3827.003</td></tr>\n",
       "\t<tr><td>F</td><td>Good     </td><td> 3177637</td><td>3495.750</td></tr>\n",
       "\t<tr><td>F</td><td>Very Good</td><td> 8177367</td><td>3778.820</td></tr>\n",
       "\t<tr><td>F</td><td>Premium  </td><td>10081319</td><td>4324.890</td></tr>\n",
       "\t<tr><td>F</td><td>Ideal    </td><td>12912518</td><td>3374.939</td></tr>\n",
       "\t<tr><td>G</td><td>Fair     </td><td> 1331126</td><td>4239.255</td></tr>\n",
       "\t<tr><td>G</td><td>Good     </td><td> 3591553</td><td>4123.482</td></tr>\n",
       "\t<tr><td>G</td><td>Very Good</td><td> 8903461</td><td>3872.754</td></tr>\n",
       "\t<tr><td>G</td><td>Premium  </td><td>13160170</td><td>4500.742</td></tr>\n",
       "\t<tr><td>G</td><td>Ideal    </td><td>18171930</td><td>3720.706</td></tr>\n",
       "\t<tr><td>H</td><td>Fair     </td><td> 1556112</td><td>5135.683</td></tr>\n",
       "\t<tr><td>H</td><td>Good     </td><td> 3001931</td><td>4276.255</td></tr>\n",
       "\t<tr><td>H</td><td>Very Good</td><td> 8272552</td><td>4535.390</td></tr>\n",
       "\t<tr><td>H</td><td>Premium  </td><td>12311428</td><td>5216.707</td></tr>\n",
       "\t<tr><td>H</td><td>Ideal    </td><td>12115278</td><td>3889.335</td></tr>\n",
       "\t<tr><td>I</td><td>Fair     </td><td>  819953</td><td>4685.446</td></tr>\n",
       "\t<tr><td>I</td><td>Good     </td><td> 2650994</td><td>5078.533</td></tr>\n",
       "\t<tr><td>I</td><td>Very Good</td><td> 6328079</td><td>5255.880</td></tr>\n",
       "\t<tr><td>I</td><td>Premium  </td><td> 8491146</td><td>5946.181</td></tr>\n",
       "\t<tr><td>I</td><td>Ideal    </td><td> 9317974</td><td>4451.970</td></tr>\n",
       "\t<tr><td>J</td><td>Fair     </td><td>  592103</td><td>4975.655</td></tr>\n",
       "\t<tr><td>J</td><td>Good     </td><td> 1404271</td><td>4574.173</td></tr>\n",
       "\t<tr><td>J</td><td>Very Good</td><td> 3460182</td><td>5103.513</td></tr>\n",
       "\t<tr><td>J</td><td>Premium  </td><td> 5086030</td><td>6294.592</td></tr>\n",
       "\t<tr><td>J</td><td>Ideal    </td><td> 4406695</td><td>4918.186</td></tr>\n",
       "</tbody>\n",
       "</table>\n"
      ],
      "text/latex": [
       "A grouped\\_df: 35 × 4\n",
       "\\begin{tabular}{llll}\n",
       " color & cut & SUM & AVG\\\\\n",
       " <ord> & <ord> & <int> & <dbl>\\\\\n",
       "\\hline\n",
       "\t D & Fair      &   699443 & 4291.061\\\\\n",
       "\t D & Good      &  2254363 & 3405.382\\\\\n",
       "\t D & Very Good &  5250817 & 3470.467\\\\\n",
       "\t D & Premium   &  5820962 & 3631.293\\\\\n",
       "\t D & Ideal     &  7450854 & 2629.095\\\\\n",
       "\t E & Fair      &   824838 & 3682.312\\\\\n",
       "\t E & Good      &  3194260 & 3423.644\\\\\n",
       "\t E & Very Good &  7715165 & 3214.652\\\\\n",
       "\t E & Premium   &  8270443 & 3538.914\\\\\n",
       "\t E & Ideal     & 10138238 & 2597.550\\\\\n",
       "\t F & Fair      &  1194025 & 3827.003\\\\\n",
       "\t F & Good      &  3177637 & 3495.750\\\\\n",
       "\t F & Very Good &  8177367 & 3778.820\\\\\n",
       "\t F & Premium   & 10081319 & 4324.890\\\\\n",
       "\t F & Ideal     & 12912518 & 3374.939\\\\\n",
       "\t G & Fair      &  1331126 & 4239.255\\\\\n",
       "\t G & Good      &  3591553 & 4123.482\\\\\n",
       "\t G & Very Good &  8903461 & 3872.754\\\\\n",
       "\t G & Premium   & 13160170 & 4500.742\\\\\n",
       "\t G & Ideal     & 18171930 & 3720.706\\\\\n",
       "\t H & Fair      &  1556112 & 5135.683\\\\\n",
       "\t H & Good      &  3001931 & 4276.255\\\\\n",
       "\t H & Very Good &  8272552 & 4535.390\\\\\n",
       "\t H & Premium   & 12311428 & 5216.707\\\\\n",
       "\t H & Ideal     & 12115278 & 3889.335\\\\\n",
       "\t I & Fair      &   819953 & 4685.446\\\\\n",
       "\t I & Good      &  2650994 & 5078.533\\\\\n",
       "\t I & Very Good &  6328079 & 5255.880\\\\\n",
       "\t I & Premium   &  8491146 & 5946.181\\\\\n",
       "\t I & Ideal     &  9317974 & 4451.970\\\\\n",
       "\t J & Fair      &   592103 & 4975.655\\\\\n",
       "\t J & Good      &  1404271 & 4574.173\\\\\n",
       "\t J & Very Good &  3460182 & 5103.513\\\\\n",
       "\t J & Premium   &  5086030 & 6294.592\\\\\n",
       "\t J & Ideal     &  4406695 & 4918.186\\\\\n",
       "\\end{tabular}\n"
      ],
      "text/markdown": [
       "\n",
       "A grouped_df: 35 × 4\n",
       "\n",
       "| color &lt;ord&gt; | cut &lt;ord&gt; | SUM &lt;int&gt; | AVG &lt;dbl&gt; |\n",
       "|---|---|---|---|\n",
       "| D | Fair      |   699443 | 4291.061 |\n",
       "| D | Good      |  2254363 | 3405.382 |\n",
       "| D | Very Good |  5250817 | 3470.467 |\n",
       "| D | Premium   |  5820962 | 3631.293 |\n",
       "| D | Ideal     |  7450854 | 2629.095 |\n",
       "| E | Fair      |   824838 | 3682.312 |\n",
       "| E | Good      |  3194260 | 3423.644 |\n",
       "| E | Very Good |  7715165 | 3214.652 |\n",
       "| E | Premium   |  8270443 | 3538.914 |\n",
       "| E | Ideal     | 10138238 | 2597.550 |\n",
       "| F | Fair      |  1194025 | 3827.003 |\n",
       "| F | Good      |  3177637 | 3495.750 |\n",
       "| F | Very Good |  8177367 | 3778.820 |\n",
       "| F | Premium   | 10081319 | 4324.890 |\n",
       "| F | Ideal     | 12912518 | 3374.939 |\n",
       "| G | Fair      |  1331126 | 4239.255 |\n",
       "| G | Good      |  3591553 | 4123.482 |\n",
       "| G | Very Good |  8903461 | 3872.754 |\n",
       "| G | Premium   | 13160170 | 4500.742 |\n",
       "| G | Ideal     | 18171930 | 3720.706 |\n",
       "| H | Fair      |  1556112 | 5135.683 |\n",
       "| H | Good      |  3001931 | 4276.255 |\n",
       "| H | Very Good |  8272552 | 4535.390 |\n",
       "| H | Premium   | 12311428 | 5216.707 |\n",
       "| H | Ideal     | 12115278 | 3889.335 |\n",
       "| I | Fair      |   819953 | 4685.446 |\n",
       "| I | Good      |  2650994 | 5078.533 |\n",
       "| I | Very Good |  6328079 | 5255.880 |\n",
       "| I | Premium   |  8491146 | 5946.181 |\n",
       "| I | Ideal     |  9317974 | 4451.970 |\n",
       "| J | Fair      |   592103 | 4975.655 |\n",
       "| J | Good      |  1404271 | 4574.173 |\n",
       "| J | Very Good |  3460182 | 5103.513 |\n",
       "| J | Premium   |  5086030 | 6294.592 |\n",
       "| J | Ideal     |  4406695 | 4918.186 |\n",
       "\n"
      ],
      "text/plain": [
       "   color cut       SUM      AVG     \n",
       "1  D     Fair        699443 4291.061\n",
       "2  D     Good       2254363 3405.382\n",
       "3  D     Very Good  5250817 3470.467\n",
       "4  D     Premium    5820962 3631.293\n",
       "5  D     Ideal      7450854 2629.095\n",
       "6  E     Fair        824838 3682.312\n",
       "7  E     Good       3194260 3423.644\n",
       "8  E     Very Good  7715165 3214.652\n",
       "9  E     Premium    8270443 3538.914\n",
       "10 E     Ideal     10138238 2597.550\n",
       "11 F     Fair       1194025 3827.003\n",
       "12 F     Good       3177637 3495.750\n",
       "13 F     Very Good  8177367 3778.820\n",
       "14 F     Premium   10081319 4324.890\n",
       "15 F     Ideal     12912518 3374.939\n",
       "16 G     Fair       1331126 4239.255\n",
       "17 G     Good       3591553 4123.482\n",
       "18 G     Very Good  8903461 3872.754\n",
       "19 G     Premium   13160170 4500.742\n",
       "20 G     Ideal     18171930 3720.706\n",
       "21 H     Fair       1556112 5135.683\n",
       "22 H     Good       3001931 4276.255\n",
       "23 H     Very Good  8272552 4535.390\n",
       "24 H     Premium   12311428 5216.707\n",
       "25 H     Ideal     12115278 3889.335\n",
       "26 I     Fair        819953 4685.446\n",
       "27 I     Good       2650994 5078.533\n",
       "28 I     Very Good  6328079 5255.880\n",
       "29 I     Premium    8491146 5946.181\n",
       "30 I     Ideal      9317974 4451.970\n",
       "31 J     Fair        592103 4975.655\n",
       "32 J     Good       1404271 4574.173\n",
       "33 J     Very Good  3460182 5103.513\n",
       "34 J     Premium    5086030 6294.592\n",
       "35 J     Ideal      4406695 4918.186"
      ]
     },
     "metadata": {},
     "output_type": "display_data"
    }
   ],
   "source": [
    "diamonds_group_02 <- group_by(diamonds, color,cut)\n",
    "\n",
    "# with group\n",
    "summarise(diamonds_group_02, avg = mean(price))\n",
    "# without group\n",
    "summarise(diamonds, SUM = sum(price))\n",
    "\n",
    "\n",
    "# 여러 계산 값을 한꺼번에 구할 수 있습니다. \n",
    " summarise(diamonds_group_02, SUM = sum(price), AVG = mean(price))"
   ]
  },
  {
   "cell_type": "markdown",
   "metadata": {
    "slideshow": {
     "slide_type": "slide"
    }
   },
   "source": [
    "## pipe operator : %>%\n",
    "* 위에서 실습하는 동안 알 수 있듯이, tidy verse를 사용하는 동안 중간에 만들어지는 데이터를 변수로 저장해야 합니다.\n",
    "* 저장된 변수를 다른 tidy verse에서 input data frame으로 사용하여 결과를 산출합니다.\n",
    "* 이와 같은 반복된 과정에서 발생하는 문제는 다음과 같은 것이 있습니다.\n",
    "    * 중간에 계속 변수를 저장해야 하기 때문에 자원 낭비가 있고, 분석 과정에서 실수가 발생할 수 있다.\n",
    "    * 양파껍질 같이 함수가 nested 구조가 되어 직관적인 분석을 하기가 어렵다.\n"
   ]
  },
  {
   "cell_type": "markdown",
   "metadata": {
    "slideshow": {
     "slide_type": "slide"
    }
   },
   "source": [
    "### without pipe operator\n",
    "* 예를 들어, 아래와 같은 순서로 분석을 해보자.\n",
    "    1. select()를 이용해서 특정 컬럼을 선택하여 새로운 data frame을 생성함\n",
    "    2. filter()를 이용해서 특정 행을 선택하여 새로운 data frame을 생성함\n",
    "    3. group_by()를 이용해서 결과 산출을 위한 그룹을 정의하여 새로운 data frame을 생성함\n",
    "    4. summarise()를 이용해서 결과 산출 함수를 생성한 그룹별로 구하여 테이블을 생성함\n",
    "    5. arrange()를 이용하여 산출된 결과를 정렬함."
   ]
  },
  {
   "cell_type": "code",
   "execution_count": 57,
   "metadata": {
    "slideshow": {
     "slide_type": "slide"
    }
   },
   "outputs": [],
   "source": [
    "#1\n",
    "d_selected <- select(diamonds, color, clarity, depth, price)\n",
    "# head(d_selected,3)"
   ]
  },
  {
   "cell_type": "code",
   "execution_count": 59,
   "metadata": {
    "slideshow": {
     "slide_type": "slide"
    }
   },
   "outputs": [
    {
     "name": "stdout",
     "output_type": "stream",
     "text": [
      "Classes ‘tbl_df’, ‘tbl’ and 'data.frame':\t22 obs. of  4 variables:\n",
      " $ color  : Ord.factor w/ 7 levels \"D\"<\"E\"<\"F\"<\"G\"<..: 5 6 6 1 5 7 4 5 5 3 ...\n",
      " $ clarity: Ord.factor w/ 8 levels \"I1\"<\"SI2\"<\"SI1\"<..: 4 2 1 3 5 1 1 1 1 2 ...\n",
      " $ depth  : num  71.6 70.1 71.3 70.6 71.8 70 70.2 70.1 70.5 70.2 ...\n",
      " $ price  : int  3593 4328 4368 4398 4455 5083 6315 6564 6860 15351 ...\n"
     ]
    }
   ],
   "source": [
    "#2\n",
    "d_selected_filtered <- filter(d_selected, price >= 1000 & depth >= 70)\n",
    "# head(d_selected_filtered,3)\n",
    "# str(d_selected_filtered)"
   ]
  },
  {
   "cell_type": "code",
   "execution_count": 60,
   "metadata": {
    "slideshow": {
     "slide_type": "slide"
    }
   },
   "outputs": [
    {
     "data": {
      "text/html": [
       "<table>\n",
       "<thead><tr><th scope=col>color</th><th scope=col>clarity</th><th scope=col>depth</th><th scope=col>price</th></tr></thead>\n",
       "<tbody>\n",
       "\t<tr><td>H   </td><td>VS2 </td><td>71.6</td><td>3593</td></tr>\n",
       "\t<tr><td>I   </td><td>SI2 </td><td>70.1</td><td>4328</td></tr>\n",
       "\t<tr><td>I   </td><td>I1  </td><td>71.3</td><td>4368</td></tr>\n",
       "</tbody>\n",
       "</table>\n"
      ],
      "text/latex": [
       "\\begin{tabular}{r|llll}\n",
       " color & clarity & depth & price\\\\\n",
       "\\hline\n",
       "\t H    & VS2  & 71.6 & 3593\\\\\n",
       "\t I    & SI2  & 70.1 & 4328\\\\\n",
       "\t I    & I1   & 71.3 & 4368\\\\\n",
       "\\end{tabular}\n"
      ],
      "text/markdown": [
       "\n",
       "| color | clarity | depth | price |\n",
       "|---|---|---|---|\n",
       "| H    | VS2  | 71.6 | 3593 |\n",
       "| I    | SI2  | 70.1 | 4328 |\n",
       "| I    | I1   | 71.3 | 4368 |\n",
       "\n"
      ],
      "text/plain": [
       "  color clarity depth price\n",
       "1 H     VS2     71.6  3593 \n",
       "2 I     SI2     70.1  4328 \n",
       "3 I     I1      71.3  4368 "
      ]
     },
     "metadata": {},
     "output_type": "display_data"
    },
    {
     "name": "stdout",
     "output_type": "stream",
     "text": [
      "Classes ‘grouped_df’, ‘tbl_df’, ‘tbl’ and 'data.frame':\t22 obs. of  4 variables:\n",
      " $ color  : Ord.factor w/ 7 levels \"D\"<\"E\"<\"F\"<\"G\"<..: 5 6 6 1 5 7 4 5 5 3 ...\n",
      " $ clarity: Ord.factor w/ 8 levels \"I1\"<\"SI2\"<\"SI1\"<..: 4 2 1 3 5 1 1 1 1 2 ...\n",
      " $ depth  : num  71.6 70.1 71.3 70.6 71.8 70 70.2 70.1 70.5 70.2 ...\n",
      " $ price  : int  3593 4328 4368 4398 4455 5083 6315 6564 6860 15351 ...\n",
      " - attr(*, \"groups\")=Classes ‘tbl_df’, ‘tbl’ and 'data.frame':\t7 obs. of  2 variables:\n",
      "  ..$ color: Ord.factor w/ 7 levels \"D\"<\"E\"<\"F\"<\"G\"<..: 1 2 3 4 5 6 7\n",
      "  ..$ .rows:List of 7\n",
      "  .. ..$ : int  4 15\n",
      "  .. ..$ : int  13 17 20 21\n",
      "  .. ..$ : int 10\n",
      "  .. ..$ : int  7 11 18 19 22\n",
      "  .. ..$ : int  1 5 8 9 14\n",
      "  .. ..$ : int  2 3 12\n",
      "  .. ..$ : int  6 16\n",
      "  ..- attr(*, \".drop\")= logi TRUE\n"
     ]
    }
   ],
   "source": [
    "#3\n",
    "d_selected_filtered_group <- group_by(d_selected_filtered, color)\n",
    "head(d_selected_filtered_group,3)\n",
    "str(d_selected_filtered_group)"
   ]
  },
  {
   "cell_type": "code",
   "execution_count": 63,
   "metadata": {
    "slideshow": {
     "slide_type": "slide"
    }
   },
   "outputs": [
    {
     "data": {
      "text/html": [
       "<table>\n",
       "<thead><tr><th scope=col>color</th><th scope=col>SUM</th><th scope=col>AVG</th></tr></thead>\n",
       "<tbody>\n",
       "\t<tr><td>D        </td><td> 6094    </td><td> 3047.000</td></tr>\n",
       "\t<tr><td>E        </td><td> 8248    </td><td> 2062.000</td></tr>\n",
       "\t<tr><td>F        </td><td>15351    </td><td>15351.000</td></tr>\n",
       "\t<tr><td>G        </td><td>32344    </td><td> 6468.800</td></tr>\n",
       "\t<tr><td>H        </td><td>22746    </td><td> 4549.200</td></tr>\n",
       "\t<tr><td>I        </td><td> 9745    </td><td> 3248.333</td></tr>\n",
       "\t<tr><td>J        </td><td> 6872    </td><td> 3436.000</td></tr>\n",
       "</tbody>\n",
       "</table>\n"
      ],
      "text/latex": [
       "\\begin{tabular}{r|lll}\n",
       " color & SUM & AVG\\\\\n",
       "\\hline\n",
       "\t D         &  6094     &  3047.000\\\\\n",
       "\t E         &  8248     &  2062.000\\\\\n",
       "\t F         & 15351     & 15351.000\\\\\n",
       "\t G         & 32344     &  6468.800\\\\\n",
       "\t H         & 22746     &  4549.200\\\\\n",
       "\t I         &  9745     &  3248.333\\\\\n",
       "\t J         &  6872     &  3436.000\\\\\n",
       "\\end{tabular}\n"
      ],
      "text/markdown": [
       "\n",
       "| color | SUM | AVG |\n",
       "|---|---|---|\n",
       "| D         |  6094     |  3047.000 |\n",
       "| E         |  8248     |  2062.000 |\n",
       "| F         | 15351     | 15351.000 |\n",
       "| G         | 32344     |  6468.800 |\n",
       "| H         | 22746     |  4549.200 |\n",
       "| I         |  9745     |  3248.333 |\n",
       "| J         |  6872     |  3436.000 |\n",
       "\n"
      ],
      "text/plain": [
       "  color SUM   AVG      \n",
       "1 D      6094  3047.000\n",
       "2 E      8248  2062.000\n",
       "3 F     15351 15351.000\n",
       "4 G     32344  6468.800\n",
       "5 H     22746  4549.200\n",
       "6 I      9745  3248.333\n",
       "7 J      6872  3436.000"
      ]
     },
     "metadata": {},
     "output_type": "display_data"
    }
   ],
   "source": [
    "#4\n",
    "d_selected_filtered_group_summarise <- summarise(d_selected_filtered_group, SUM=sum(price), AVG=mean(price))\n",
    "head(d_selected_filtered_group_summarise,20)"
   ]
  },
  {
   "cell_type": "code",
   "execution_count": 64,
   "metadata": {
    "slideshow": {
     "slide_type": "slide"
    }
   },
   "outputs": [
    {
     "data": {
      "text/html": [
       "<table>\n",
       "<thead><tr><th scope=col>color</th><th scope=col>SUM</th><th scope=col>AVG</th></tr></thead>\n",
       "<tbody>\n",
       "\t<tr><td>F        </td><td>15351    </td><td>15351.000</td></tr>\n",
       "\t<tr><td>G        </td><td>32344    </td><td> 6468.800</td></tr>\n",
       "\t<tr><td>H        </td><td>22746    </td><td> 4549.200</td></tr>\n",
       "\t<tr><td>J        </td><td> 6872    </td><td> 3436.000</td></tr>\n",
       "\t<tr><td>I        </td><td> 9745    </td><td> 3248.333</td></tr>\n",
       "\t<tr><td>D        </td><td> 6094    </td><td> 3047.000</td></tr>\n",
       "\t<tr><td>E        </td><td> 8248    </td><td> 2062.000</td></tr>\n",
       "</tbody>\n",
       "</table>\n"
      ],
      "text/latex": [
       "\\begin{tabular}{r|lll}\n",
       " color & SUM & AVG\\\\\n",
       "\\hline\n",
       "\t F         & 15351     & 15351.000\\\\\n",
       "\t G         & 32344     &  6468.800\\\\\n",
       "\t H         & 22746     &  4549.200\\\\\n",
       "\t J         &  6872     &  3436.000\\\\\n",
       "\t I         &  9745     &  3248.333\\\\\n",
       "\t D         &  6094     &  3047.000\\\\\n",
       "\t E         &  8248     &  2062.000\\\\\n",
       "\\end{tabular}\n"
      ],
      "text/markdown": [
       "\n",
       "| color | SUM | AVG |\n",
       "|---|---|---|\n",
       "| F         | 15351     | 15351.000 |\n",
       "| G         | 32344     |  6468.800 |\n",
       "| H         | 22746     |  4549.200 |\n",
       "| J         |  6872     |  3436.000 |\n",
       "| I         |  9745     |  3248.333 |\n",
       "| D         |  6094     |  3047.000 |\n",
       "| E         |  8248     |  2062.000 |\n",
       "\n"
      ],
      "text/plain": [
       "  color SUM   AVG      \n",
       "1 F     15351 15351.000\n",
       "2 G     32344  6468.800\n",
       "3 H     22746  4549.200\n",
       "4 J      6872  3436.000\n",
       "5 I      9745  3248.333\n",
       "6 D      6094  3047.000\n",
       "7 E      8248  2062.000"
      ]
     },
     "metadata": {},
     "output_type": "display_data"
    }
   ],
   "source": [
    "#5\n",
    "arrange(d_selected_filtered_group_summarise, desc(AVG))"
   ]
  },
  {
   "cell_type": "markdown",
   "metadata": {
    "slideshow": {
     "slide_type": "slide"
    }
   },
   "source": [
    "### nested function\n",
    "* 분석이 이루어진 반대의 순서로 생각하여 코딩을 하면 중간 변수 생성을 하지 않을 수 있음"
   ]
  },
  {
   "cell_type": "code",
   "execution_count": 92,
   "metadata": {
    "slideshow": {
     "slide_type": "slide"
    }
   },
   "outputs": [
    {
     "data": {
      "text/html": [
       "<table>\n",
       "<thead><tr><th scope=col>color</th><th scope=col>SUM</th><th scope=col>AVG</th></tr></thead>\n",
       "<tbody>\n",
       "\t<tr><td>F        </td><td>15351    </td><td>15351.000</td></tr>\n",
       "\t<tr><td>G        </td><td>32344    </td><td> 6468.800</td></tr>\n",
       "\t<tr><td>H        </td><td>22746    </td><td> 4549.200</td></tr>\n",
       "\t<tr><td>J        </td><td> 6872    </td><td> 3436.000</td></tr>\n",
       "\t<tr><td>I        </td><td> 9745    </td><td> 3248.333</td></tr>\n",
       "\t<tr><td>D        </td><td> 6094    </td><td> 3047.000</td></tr>\n",
       "\t<tr><td>E        </td><td> 8248    </td><td> 2062.000</td></tr>\n",
       "</tbody>\n",
       "</table>\n"
      ],
      "text/latex": [
       "\\begin{tabular}{r|lll}\n",
       " color & SUM & AVG\\\\\n",
       "\\hline\n",
       "\t F         & 15351     & 15351.000\\\\\n",
       "\t G         & 32344     &  6468.800\\\\\n",
       "\t H         & 22746     &  4549.200\\\\\n",
       "\t J         &  6872     &  3436.000\\\\\n",
       "\t I         &  9745     &  3248.333\\\\\n",
       "\t D         &  6094     &  3047.000\\\\\n",
       "\t E         &  8248     &  2062.000\\\\\n",
       "\\end{tabular}\n"
      ],
      "text/markdown": [
       "\n",
       "| color | SUM | AVG |\n",
       "|---|---|---|\n",
       "| F         | 15351     | 15351.000 |\n",
       "| G         | 32344     |  6468.800 |\n",
       "| H         | 22746     |  4549.200 |\n",
       "| J         |  6872     |  3436.000 |\n",
       "| I         |  9745     |  3248.333 |\n",
       "| D         |  6094     |  3047.000 |\n",
       "| E         |  8248     |  2062.000 |\n",
       "\n"
      ],
      "text/plain": [
       "  color SUM   AVG      \n",
       "1 F     15351 15351.000\n",
       "2 G     32344  6468.800\n",
       "3 H     22746  4549.200\n",
       "4 J      6872  3436.000\n",
       "5 I      9745  3248.333\n",
       "6 D      6094  3047.000\n",
       "7 E      8248  2062.000"
      ]
     },
     "metadata": {},
     "output_type": "display_data"
    }
   ],
   "source": [
    "#5\n",
    "arrange(d_selected_filtered_group_summarise, desc(AVG))"
   ]
  },
  {
   "cell_type": "code",
   "execution_count": 94,
   "metadata": {
    "slideshow": {
     "slide_type": "slide"
    }
   },
   "outputs": [
    {
     "data": {
      "text/html": [
       "<table>\n",
       "<thead><tr><th scope=col>color</th><th scope=col>SUM</th><th scope=col>AVG</th></tr></thead>\n",
       "<tbody>\n",
       "\t<tr><td>F        </td><td>15351    </td><td>15351.000</td></tr>\n",
       "\t<tr><td>G        </td><td>32344    </td><td> 6468.800</td></tr>\n",
       "\t<tr><td>H        </td><td>22746    </td><td> 4549.200</td></tr>\n",
       "\t<tr><td>J        </td><td> 6872    </td><td> 3436.000</td></tr>\n",
       "\t<tr><td>I        </td><td> 9745    </td><td> 3248.333</td></tr>\n",
       "\t<tr><td>D        </td><td> 6094    </td><td> 3047.000</td></tr>\n",
       "\t<tr><td>E        </td><td> 8248    </td><td> 2062.000</td></tr>\n",
       "</tbody>\n",
       "</table>\n"
      ],
      "text/latex": [
       "\\begin{tabular}{r|lll}\n",
       " color & SUM & AVG\\\\\n",
       "\\hline\n",
       "\t F         & 15351     & 15351.000\\\\\n",
       "\t G         & 32344     &  6468.800\\\\\n",
       "\t H         & 22746     &  4549.200\\\\\n",
       "\t J         &  6872     &  3436.000\\\\\n",
       "\t I         &  9745     &  3248.333\\\\\n",
       "\t D         &  6094     &  3047.000\\\\\n",
       "\t E         &  8248     &  2062.000\\\\\n",
       "\\end{tabular}\n"
      ],
      "text/markdown": [
       "\n",
       "| color | SUM | AVG |\n",
       "|---|---|---|\n",
       "| F         | 15351     | 15351.000 |\n",
       "| G         | 32344     |  6468.800 |\n",
       "| H         | 22746     |  4549.200 |\n",
       "| J         |  6872     |  3436.000 |\n",
       "| I         |  9745     |  3248.333 |\n",
       "| D         |  6094     |  3047.000 |\n",
       "| E         |  8248     |  2062.000 |\n",
       "\n"
      ],
      "text/plain": [
       "  color SUM   AVG      \n",
       "1 F     15351 15351.000\n",
       "2 G     32344  6468.800\n",
       "3 H     22746  4549.200\n",
       "4 J      6872  3436.000\n",
       "5 I      9745  3248.333\n",
       "6 D      6094  3047.000\n",
       "7 E      8248  2062.000"
      ]
     },
     "metadata": {},
     "output_type": "display_data"
    }
   ],
   "source": [
    "#5 and #4\n",
    "4 d_selected_filtered_group_summarise <- summarise(d_selected_filtered_group, SUM=sum(price), AVG=mean(price))\n",
    "arrange(summarise(d_selected_filtered_group, SUM=sum(price), AVG=mean(price)), desc(AVG))"
   ]
  },
  {
   "cell_type": "code",
   "execution_count": 95,
   "metadata": {
    "slideshow": {
     "slide_type": "slide"
    }
   },
   "outputs": [
    {
     "data": {
      "text/html": [
       "<table>\n",
       "<thead><tr><th scope=col>color</th><th scope=col>SUM</th><th scope=col>AVG</th></tr></thead>\n",
       "<tbody>\n",
       "\t<tr><td>F        </td><td>15351    </td><td>15351.000</td></tr>\n",
       "\t<tr><td>G        </td><td>32344    </td><td> 6468.800</td></tr>\n",
       "\t<tr><td>H        </td><td>22746    </td><td> 4549.200</td></tr>\n",
       "\t<tr><td>J        </td><td> 6872    </td><td> 3436.000</td></tr>\n",
       "\t<tr><td>I        </td><td> 9745    </td><td> 3248.333</td></tr>\n",
       "\t<tr><td>D        </td><td> 6094    </td><td> 3047.000</td></tr>\n",
       "\t<tr><td>E        </td><td> 8248    </td><td> 2062.000</td></tr>\n",
       "</tbody>\n",
       "</table>\n"
      ],
      "text/latex": [
       "\\begin{tabular}{r|lll}\n",
       " color & SUM & AVG\\\\\n",
       "\\hline\n",
       "\t F         & 15351     & 15351.000\\\\\n",
       "\t G         & 32344     &  6468.800\\\\\n",
       "\t H         & 22746     &  4549.200\\\\\n",
       "\t J         &  6872     &  3436.000\\\\\n",
       "\t I         &  9745     &  3248.333\\\\\n",
       "\t D         &  6094     &  3047.000\\\\\n",
       "\t E         &  8248     &  2062.000\\\\\n",
       "\\end{tabular}\n"
      ],
      "text/markdown": [
       "\n",
       "| color | SUM | AVG |\n",
       "|---|---|---|\n",
       "| F         | 15351     | 15351.000 |\n",
       "| G         | 32344     |  6468.800 |\n",
       "| H         | 22746     |  4549.200 |\n",
       "| J         |  6872     |  3436.000 |\n",
       "| I         |  9745     |  3248.333 |\n",
       "| D         |  6094     |  3047.000 |\n",
       "| E         |  8248     |  2062.000 |\n",
       "\n"
      ],
      "text/plain": [
       "  color SUM   AVG      \n",
       "1 F     15351 15351.000\n",
       "2 G     32344  6468.800\n",
       "3 H     22746  4549.200\n",
       "4 J      6872  3436.000\n",
       "5 I      9745  3248.333\n",
       "6 D      6094  3047.000\n",
       "7 E      8248  2062.000"
      ]
     },
     "metadata": {},
     "output_type": "display_data"
    }
   ],
   "source": [
    "#5 #4 #3 \n",
    "#4 d_selected_filtered_group_summarise <- summarise(d_selected_filtered_group, SUM=sum(price), AVG=mean(price))\n",
    "#3 d_selected_filtered_group <- group_by(d_selected_filtered, color)\n",
    "arrange(summarise(group_by(d_selected_filtered, color), SUM=sum(price), AVG=mean(price)), desc(AVG))\n"
   ]
  },
  {
   "cell_type": "code",
   "execution_count": 96,
   "metadata": {
    "slideshow": {
     "slide_type": "slide"
    }
   },
   "outputs": [
    {
     "data": {
      "text/html": [
       "<table>\n",
       "<thead><tr><th scope=col>color</th><th scope=col>SUM</th><th scope=col>AVG</th></tr></thead>\n",
       "<tbody>\n",
       "\t<tr><td>F        </td><td>15351    </td><td>15351.000</td></tr>\n",
       "\t<tr><td>G        </td><td>32344    </td><td> 6468.800</td></tr>\n",
       "\t<tr><td>H        </td><td>22746    </td><td> 4549.200</td></tr>\n",
       "\t<tr><td>J        </td><td> 6872    </td><td> 3436.000</td></tr>\n",
       "\t<tr><td>I        </td><td> 9745    </td><td> 3248.333</td></tr>\n",
       "\t<tr><td>D        </td><td> 6094    </td><td> 3047.000</td></tr>\n",
       "\t<tr><td>E        </td><td> 8248    </td><td> 2062.000</td></tr>\n",
       "</tbody>\n",
       "</table>\n"
      ],
      "text/latex": [
       "\\begin{tabular}{r|lll}\n",
       " color & SUM & AVG\\\\\n",
       "\\hline\n",
       "\t F         & 15351     & 15351.000\\\\\n",
       "\t G         & 32344     &  6468.800\\\\\n",
       "\t H         & 22746     &  4549.200\\\\\n",
       "\t J         &  6872     &  3436.000\\\\\n",
       "\t I         &  9745     &  3248.333\\\\\n",
       "\t D         &  6094     &  3047.000\\\\\n",
       "\t E         &  8248     &  2062.000\\\\\n",
       "\\end{tabular}\n"
      ],
      "text/markdown": [
       "\n",
       "| color | SUM | AVG |\n",
       "|---|---|---|\n",
       "| F         | 15351     | 15351.000 |\n",
       "| G         | 32344     |  6468.800 |\n",
       "| H         | 22746     |  4549.200 |\n",
       "| J         |  6872     |  3436.000 |\n",
       "| I         |  9745     |  3248.333 |\n",
       "| D         |  6094     |  3047.000 |\n",
       "| E         |  8248     |  2062.000 |\n",
       "\n"
      ],
      "text/plain": [
       "  color SUM   AVG      \n",
       "1 F     15351 15351.000\n",
       "2 G     32344  6468.800\n",
       "3 H     22746  4549.200\n",
       "4 J      6872  3436.000\n",
       "5 I      9745  3248.333\n",
       "6 D      6094  3047.000\n",
       "7 E      8248  2062.000"
      ]
     },
     "metadata": {},
     "output_type": "display_data"
    }
   ],
   "source": [
    "#5 #4 #3 #2\n",
    "#4 d_selected_filtered_group_summarise <- summarise(d_selected_filtered_group, SUM=sum(price), AVG=mean(price))\n",
    "#3 d_selected_filtered_group <- group_by(d_selected_filtered, color)\n",
    "#2 d_selected_filtered <- filter(d_selected, price >= 1000 & depth >= 70)\n",
    "arrange(summarise(group_by(filter(d_selected, price >= 1000 & depth >= 70), color), SUM=sum(price), AVG=mean(price)), desc(AVG))\n"
   ]
  },
  {
   "cell_type": "code",
   "execution_count": 97,
   "metadata": {
    "slideshow": {
     "slide_type": "slide"
    }
   },
   "outputs": [
    {
     "data": {
      "text/html": [
       "<table>\n",
       "<thead><tr><th scope=col>color</th><th scope=col>SUM</th><th scope=col>AVG</th></tr></thead>\n",
       "<tbody>\n",
       "\t<tr><td>F        </td><td>15351    </td><td>15351.000</td></tr>\n",
       "\t<tr><td>G        </td><td>32344    </td><td> 6468.800</td></tr>\n",
       "\t<tr><td>H        </td><td>22746    </td><td> 4549.200</td></tr>\n",
       "\t<tr><td>J        </td><td> 6872    </td><td> 3436.000</td></tr>\n",
       "\t<tr><td>I        </td><td> 9745    </td><td> 3248.333</td></tr>\n",
       "\t<tr><td>D        </td><td> 6094    </td><td> 3047.000</td></tr>\n",
       "\t<tr><td>E        </td><td> 8248    </td><td> 2062.000</td></tr>\n",
       "</tbody>\n",
       "</table>\n"
      ],
      "text/latex": [
       "\\begin{tabular}{r|lll}\n",
       " color & SUM & AVG\\\\\n",
       "\\hline\n",
       "\t F         & 15351     & 15351.000\\\\\n",
       "\t G         & 32344     &  6468.800\\\\\n",
       "\t H         & 22746     &  4549.200\\\\\n",
       "\t J         &  6872     &  3436.000\\\\\n",
       "\t I         &  9745     &  3248.333\\\\\n",
       "\t D         &  6094     &  3047.000\\\\\n",
       "\t E         &  8248     &  2062.000\\\\\n",
       "\\end{tabular}\n"
      ],
      "text/markdown": [
       "\n",
       "| color | SUM | AVG |\n",
       "|---|---|---|\n",
       "| F         | 15351     | 15351.000 |\n",
       "| G         | 32344     |  6468.800 |\n",
       "| H         | 22746     |  4549.200 |\n",
       "| J         |  6872     |  3436.000 |\n",
       "| I         |  9745     |  3248.333 |\n",
       "| D         |  6094     |  3047.000 |\n",
       "| E         |  8248     |  2062.000 |\n",
       "\n"
      ],
      "text/plain": [
       "  color SUM   AVG      \n",
       "1 F     15351 15351.000\n",
       "2 G     32344  6468.800\n",
       "3 H     22746  4549.200\n",
       "4 J      6872  3436.000\n",
       "5 I      9745  3248.333\n",
       "6 D      6094  3047.000\n",
       "7 E      8248  2062.000"
      ]
     },
     "metadata": {},
     "output_type": "display_data"
    }
   ],
   "source": [
    "#5 #4 #3 #2 #1 \n",
    "#4 d_selected_filtered_group_summarise <- summarise(d_selected_filtered_group, SUM=sum(price), AVG=mean(price))\n",
    "#3 d_selected_filtered_group <- group_by(d_selected_filtered, color)\n",
    "#2 d_selected_filtered <- filter(d_selected, price >= 1000 & depth >= 70)\n",
    "#1 d_selected <- select(diamonds, color, clarity, depth, price)\n",
    "arrange(summarise(group_by(filter(select(diamonds, color, clarity, depth, price), price >= 1000 & depth >= 70), color), SUM=sum(price), AVG=mean(price)), desc(AVG))\n"
   ]
  },
  {
   "cell_type": "markdown",
   "metadata": {
    "slideshow": {
     "slide_type": "slide"
    }
   },
   "source": [
    "* 이제 이렇게 변수를 사용하지 않고 만들어진 함수의 nested 구조를 정돈해보겠습니다. "
   ]
  },
  {
   "cell_type": "code",
   "execution_count": 99,
   "metadata": {},
   "outputs": [
    {
     "data": {
      "text/html": [
       "<table>\n",
       "<thead><tr><th scope=col>color</th><th scope=col>SUM</th><th scope=col>AVG</th></tr></thead>\n",
       "<tbody>\n",
       "\t<tr><td>F        </td><td>15351    </td><td>15351.000</td></tr>\n",
       "\t<tr><td>G        </td><td>32344    </td><td> 6468.800</td></tr>\n",
       "\t<tr><td>H        </td><td>22746    </td><td> 4549.200</td></tr>\n",
       "\t<tr><td>J        </td><td> 6872    </td><td> 3436.000</td></tr>\n",
       "\t<tr><td>I        </td><td> 9745    </td><td> 3248.333</td></tr>\n",
       "\t<tr><td>D        </td><td> 6094    </td><td> 3047.000</td></tr>\n",
       "\t<tr><td>E        </td><td> 8248    </td><td> 2062.000</td></tr>\n",
       "</tbody>\n",
       "</table>\n"
      ],
      "text/latex": [
       "\\begin{tabular}{r|lll}\n",
       " color & SUM & AVG\\\\\n",
       "\\hline\n",
       "\t F         & 15351     & 15351.000\\\\\n",
       "\t G         & 32344     &  6468.800\\\\\n",
       "\t H         & 22746     &  4549.200\\\\\n",
       "\t J         &  6872     &  3436.000\\\\\n",
       "\t I         &  9745     &  3248.333\\\\\n",
       "\t D         &  6094     &  3047.000\\\\\n",
       "\t E         &  8248     &  2062.000\\\\\n",
       "\\end{tabular}\n"
      ],
      "text/markdown": [
       "\n",
       "| color | SUM | AVG |\n",
       "|---|---|---|\n",
       "| F         | 15351     | 15351.000 |\n",
       "| G         | 32344     |  6468.800 |\n",
       "| H         | 22746     |  4549.200 |\n",
       "| J         |  6872     |  3436.000 |\n",
       "| I         |  9745     |  3248.333 |\n",
       "| D         |  6094     |  3047.000 |\n",
       "| E         |  8248     |  2062.000 |\n",
       "\n"
      ],
      "text/plain": [
       "  color SUM   AVG      \n",
       "1 F     15351 15351.000\n",
       "2 G     32344  6468.800\n",
       "3 H     22746  4549.200\n",
       "4 J      6872  3436.000\n",
       "5 I      9745  3248.333\n",
       "6 D      6094  3047.000\n",
       "7 E      8248  2062.000"
      ]
     },
     "metadata": {},
     "output_type": "display_data"
    }
   ],
   "source": [
    "#5 #4 #3 #2 #1 \n",
    "#4 d_selected_filtered_group_summarise <- summarise(d_selected_filtered_group, SUM=sum(price), AVG=mean(price))\n",
    "#3 d_selected_filtered_group <- group_by(d_selected_filtered, color)\n",
    "#2 d_selected_filtered <- filter(d_selected, price >= 1000 & depth >= 70)\n",
    "#1 d_selected <- select(diamonds, color, clarity, depth, price)\n",
    "\n",
    "arrange(\n",
    "    summarise(\n",
    "        group_by(\n",
    "            filter(\n",
    "                select(\n",
    "                    diamonds, color, clarity, depth, price\n",
    "                ), price >= 1000 & depth >= 70\n",
    "            ), color\n",
    "        ), SUM=sum(price), AVG=mean(price)\n",
    "    ), desc(AVG)\n",
    ")\n",
    "\n"
   ]
  },
  {
   "cell_type": "markdown",
   "metadata": {
    "slideshow": {
     "slide_type": "slide"
    }
   },
   "source": [
    "* 중간 변수를 사용하지 않고 nested 함수 구조를 사용하려면 이렇게 복잡하게 생각해야 합니다.\n",
    "* 즉, 가장 나중에 적용할 arrange 함수부터 고민을 해야 합니다.\n",
    "* 중요한 것은, 분석자의 생각은 nested 함수의 안쪽에서부터 시작된다는 것입니다. 즉,\n",
    "    1. select()로 분석하려는 컬럼을 선정하고\n",
    "    2. filter()로 조건을 주어서 필요한 데이터만 골라내고\n",
    "    3. group_by()로 그룹을 정의하고\n",
    "    4. summarise()로 정의한 그룹에 대해서 값을 산출하고\n",
    "    5. arrange()로 산출 결과를 정렬합니다.\n",
    "* pipe operator를 바로 이와 같은 이슈를 처리하는 연산자입니다. "
   ]
  },
  {
   "cell_type": "markdown",
   "metadata": {
    "slideshow": {
     "slide_type": "slide"
    }
   },
   "source": [
    "### with pipe operator"
   ]
  },
  {
   "cell_type": "code",
   "execution_count": 101,
   "metadata": {},
   "outputs": [
    {
     "data": {
      "text/html": [
       "<table>\n",
       "<thead><tr><th scope=col>color</th><th scope=col>SUM</th><th scope=col>AVG</th></tr></thead>\n",
       "<tbody>\n",
       "\t<tr><td>F        </td><td>15351    </td><td>15351.000</td></tr>\n",
       "\t<tr><td>G        </td><td>32344    </td><td> 6468.800</td></tr>\n",
       "\t<tr><td>H        </td><td>22746    </td><td> 4549.200</td></tr>\n",
       "\t<tr><td>J        </td><td> 6872    </td><td> 3436.000</td></tr>\n",
       "\t<tr><td>I        </td><td> 9745    </td><td> 3248.333</td></tr>\n",
       "\t<tr><td>D        </td><td> 6094    </td><td> 3047.000</td></tr>\n",
       "\t<tr><td>E        </td><td> 8248    </td><td> 2062.000</td></tr>\n",
       "</tbody>\n",
       "</table>\n"
      ],
      "text/latex": [
       "\\begin{tabular}{r|lll}\n",
       " color & SUM & AVG\\\\\n",
       "\\hline\n",
       "\t F         & 15351     & 15351.000\\\\\n",
       "\t G         & 32344     &  6468.800\\\\\n",
       "\t H         & 22746     &  4549.200\\\\\n",
       "\t J         &  6872     &  3436.000\\\\\n",
       "\t I         &  9745     &  3248.333\\\\\n",
       "\t D         &  6094     &  3047.000\\\\\n",
       "\t E         &  8248     &  2062.000\\\\\n",
       "\\end{tabular}\n"
      ],
      "text/markdown": [
       "\n",
       "| color | SUM | AVG |\n",
       "|---|---|---|\n",
       "| F         | 15351     | 15351.000 |\n",
       "| G         | 32344     |  6468.800 |\n",
       "| H         | 22746     |  4549.200 |\n",
       "| J         |  6872     |  3436.000 |\n",
       "| I         |  9745     |  3248.333 |\n",
       "| D         |  6094     |  3047.000 |\n",
       "| E         |  8248     |  2062.000 |\n",
       "\n"
      ],
      "text/plain": [
       "  color SUM   AVG      \n",
       "1 F     15351 15351.000\n",
       "2 G     32344  6468.800\n",
       "3 H     22746  4549.200\n",
       "4 J      6872  3436.000\n",
       "5 I      9745  3248.333\n",
       "6 D      6094  3047.000\n",
       "7 E      8248  2062.000"
      ]
     },
     "metadata": {},
     "output_type": "display_data"
    }
   ],
   "source": [
    "diamonds  %>% \n",
    "select(color, clarity, depth, price)  %>% \n",
    "filter(price >= 1000 & depth >= 70)  %>% \n",
    "group_by(color)  %>% \n",
    "summarise(SUM=sum(price), AVG=mean(price))  %>% \n",
    "arrange(desc(AVG))"
   ]
  },
  {
   "cell_type": "code",
   "execution_count": 103,
   "metadata": {
    "slideshow": {
     "slide_type": "slide"
    }
   },
   "outputs": [],
   "source": [
    "\n",
    "\n",
    "select(diamonds,clarity, depth, price) \n",
    "\n",
    "# 위 아래가 동일합니다.\n",
    "\n",
    "diamonds  %>% select(clarity, depth,price)"
   ]
  },
  {
   "cell_type": "markdown",
   "metadata": {
    "slideshow": {
     "slide_type": "slide"
    }
   },
   "source": [
    "### tidyverse and tibble\n",
    "* tidyvers는 공통적으로 input과 ouput 의 type이 동일하게 모두 tibble 입니다.\n",
    "* input, output이 같기 때문에 위와 같은 chaining operator를 사용할 수 있습니다."
   ]
  },
  {
   "cell_type": "markdown",
   "metadata": {
    "slideshow": {
     "slide_type": "slide"
    }
   },
   "source": [
    "## tidytext package"
   ]
  },
  {
   "cell_type": "markdown",
   "metadata": {},
   "source": [
    "### library load"
   ]
  },
  {
   "cell_type": "code",
   "execution_count": 65,
   "metadata": {},
   "outputs": [],
   "source": [
    "# install.packages(\"tidytext\")\n",
    "library(tidytext)"
   ]
  },
  {
   "cell_type": "markdown",
   "metadata": {
    "slideshow": {
     "slide_type": "slide"
    }
   },
   "source": [
    "### data generation"
   ]
  },
  {
   "cell_type": "code",
   "execution_count": 68,
   "metadata": {},
   "outputs": [
    {
     "data": {
      "text/html": [
       "<ol class=list-inline>\n",
       "\t<li>'Row, row, row your boat'</li>\n",
       "\t<li>'Gently down the stream'</li>\n",
       "\t<li>'Merrily merrily, merrily, merrily'</li>\n",
       "\t<li>'Life is but a dream'</li>\n",
       "</ol>\n"
      ],
      "text/latex": [
       "\\begin{enumerate*}\n",
       "\\item 'Row, row, row your boat'\n",
       "\\item 'Gently down the stream'\n",
       "\\item 'Merrily merrily, merrily, merrily'\n",
       "\\item 'Life is but a dream'\n",
       "\\end{enumerate*}\n"
      ],
      "text/markdown": [
       "1. 'Row, row, row your boat'\n",
       "2. 'Gently down the stream'\n",
       "3. 'Merrily merrily, merrily, merrily'\n",
       "4. 'Life is but a dream'\n",
       "\n",
       "\n"
      ],
      "text/plain": [
       "[1] \"Row, row, row your boat\"           \"Gently down the stream\"           \n",
       "[3] \"Merrily merrily, merrily, merrily\" \"Life is but a dream\"              "
      ]
     },
     "metadata": {},
     "output_type": "display_data"
    },
    {
     "name": "stdout",
     "output_type": "stream",
     "text": [
      " chr [1:4] \"Row, row, row your boat\" \"Gently down the stream\" ...\n"
     ]
    }
   ],
   "source": [
    "text <- c(\"Row, row, row your boat\", \n",
    "          \"Gently down the stream\",\n",
    "          \"Merrily merrily, merrily, merrily\",\n",
    "          \"Life is but a dream\")\n",
    "\n",
    "text\n",
    "str(text)"
   ]
  },
  {
   "cell_type": "code",
   "execution_count": 69,
   "metadata": {
    "slideshow": {
     "slide_type": "slide"
    }
   },
   "outputs": [
    {
     "data": {
      "text/html": [
       "'character'"
      ],
      "text/latex": [
       "'character'"
      ],
      "text/markdown": [
       "'character'"
      ],
      "text/plain": [
       "[1] \"character\""
      ]
     },
     "metadata": {},
     "output_type": "display_data"
    }
   ],
   "source": [
    "typeof(text)"
   ]
  },
  {
   "cell_type": "code",
   "execution_count": 70,
   "metadata": {},
   "outputs": [
    {
     "data": {
      "text/html": [
       "<ol class=list-inline>\n",
       "\t<li>'Row, row, row your boat'</li>\n",
       "\t<li>'Gently down the stream'</li>\n",
       "\t<li>'Merrily merrily, merrily, merrily'</li>\n",
       "\t<li>'Life is but a dream'</li>\n",
       "</ol>\n"
      ],
      "text/latex": [
       "\\begin{enumerate*}\n",
       "\\item 'Row, row, row your boat'\n",
       "\\item 'Gently down the stream'\n",
       "\\item 'Merrily merrily, merrily, merrily'\n",
       "\\item 'Life is but a dream'\n",
       "\\end{enumerate*}\n"
      ],
      "text/markdown": [
       "1. 'Row, row, row your boat'\n",
       "2. 'Gently down the stream'\n",
       "3. 'Merrily merrily, merrily, merrily'\n",
       "4. 'Life is but a dream'\n",
       "\n",
       "\n"
      ],
      "text/plain": [
       "[1] \"Row, row, row your boat\"           \"Gently down the stream\"           \n",
       "[3] \"Merrily merrily, merrily, merrily\" \"Life is but a dream\"              "
      ]
     },
     "metadata": {},
     "output_type": "display_data"
    }
   ],
   "source": [
    "text"
   ]
  },
  {
   "cell_type": "code",
   "execution_count": 77,
   "metadata": {},
   "outputs": [
    {
     "data": {
      "text/html": [
       "'Gently down the stream'"
      ],
      "text/latex": [
       "'Gently down the stream'"
      ],
      "text/markdown": [
       "'Gently down the stream'"
      ],
      "text/plain": [
       "[1] \"Gently down the stream\""
      ]
     },
     "metadata": {},
     "output_type": "display_data"
    }
   ],
   "source": [
    "text[2]"
   ]
  },
  {
   "cell_type": "markdown",
   "metadata": {
    "slideshow": {
     "slide_type": "slide"
    }
   },
   "source": [
    "### convert to data frame (tibble)"
   ]
  },
  {
   "cell_type": "code",
   "execution_count": 80,
   "metadata": {},
   "outputs": [],
   "source": [
    "text_df <- data.frame(line = 1:4, text = text)"
   ]
  },
  {
   "cell_type": "code",
   "execution_count": 81,
   "metadata": {},
   "outputs": [
    {
     "name": "stdout",
     "output_type": "stream",
     "text": [
      "'data.frame':\t4 obs. of  2 variables:\n",
      " $ line: int  1 2 3 4\n",
      " $ text: Factor w/ 4 levels \"Gently down the stream\",..: 4 1 3 2\n"
     ]
    }
   ],
   "source": [
    "str(text_df)"
   ]
  },
  {
   "cell_type": "code",
   "execution_count": 84,
   "metadata": {},
   "outputs": [],
   "source": [
    "text_df <- tibble(line = 1:4, text = text)"
   ]
  },
  {
   "cell_type": "code",
   "execution_count": 83,
   "metadata": {},
   "outputs": [
    {
     "name": "stdout",
     "output_type": "stream",
     "text": [
      "Classes ‘tbl_df’, ‘tbl’ and 'data.frame':\t4 obs. of  2 variables:\n",
      " $ line: int  1 2 3 4\n",
      " $ text: chr  \"Row, row, row your boat\" \"Gently down the stream\" \"Merrily merrily, merrily, merrily\" \"Life is but a dream\"\n"
     ]
    }
   ],
   "source": [
    "str(text_df)"
   ]
  },
  {
   "cell_type": "markdown",
   "metadata": {
    "slideshow": {
     "slide_type": "slide"
    }
   },
   "source": [
    "### apply tidyverses"
   ]
  },
  {
   "cell_type": "code",
   "execution_count": 85,
   "metadata": {},
   "outputs": [
    {
     "data": {
      "text/html": [
       "<table>\n",
       "<thead><tr><th scope=col>line</th><th scope=col>text</th></tr></thead>\n",
       "<tbody>\n",
       "\t<tr><td>1                                </td><td>Row, row, row your boat          </td></tr>\n",
       "\t<tr><td>2                                </td><td>Gently down the stream           </td></tr>\n",
       "\t<tr><td>3                                </td><td>Merrily merrily, merrily, merrily</td></tr>\n",
       "\t<tr><td>4                                </td><td>Life is but a dream              </td></tr>\n",
       "</tbody>\n",
       "</table>\n"
      ],
      "text/latex": [
       "\\begin{tabular}{r|ll}\n",
       " line & text\\\\\n",
       "\\hline\n",
       "\t 1                                 & Row, row, row your boat          \\\\\n",
       "\t 2                                 & Gently down the stream           \\\\\n",
       "\t 3                                 & Merrily merrily, merrily, merrily\\\\\n",
       "\t 4                                 & Life is but a dream              \\\\\n",
       "\\end{tabular}\n"
      ],
      "text/markdown": [
       "\n",
       "| line | text |\n",
       "|---|---|\n",
       "| 1                                 | Row, row, row your boat           |\n",
       "| 2                                 | Gently down the stream            |\n",
       "| 3                                 | Merrily merrily, merrily, merrily |\n",
       "| 4                                 | Life is but a dream               |\n",
       "\n"
      ],
      "text/plain": [
       "  line text                             \n",
       "1 1    Row, row, row your boat          \n",
       "2 2    Gently down the stream           \n",
       "3 3    Merrily merrily, merrily, merrily\n",
       "4 4    Life is but a dream              "
      ]
     },
     "metadata": {},
     "output_type": "display_data"
    }
   ],
   "source": [
    "text_df\n",
    "# text_df  %>% filter(line == 3)\n",
    "# text_df  %>% select(text)"
   ]
  },
  {
   "cell_type": "markdown",
   "metadata": {
    "slideshow": {
     "slide_type": "slide"
    }
   },
   "source": [
    "### unnest_tokens"
   ]
  },
  {
   "cell_type": "markdown",
   "metadata": {},
   "source": [
    "* tibble의 하나의 cell에 담겨 있는 text 데이터를 분해하는 함수입니다.\n",
    "* token은 분석의 단위를 나타냅니다.\n",
    "* sentence, word 등이 될 수 있습니다. 한글의 경우, 형태소 단위도 될 수 있습니다. \n",
    "* 하나의 cell에 있는 데이터를 분해해서 행으로 나눠줍니다. "
   ]
  },
  {
   "cell_type": "code",
   "execution_count": 54,
   "metadata": {
    "slideshow": {
     "slide_type": "slide"
    }
   },
   "outputs": [
    {
     "data": {
      "text/html": [
       "<table>\n",
       "<thead><tr><th scope=col>line</th><th scope=col>text</th></tr></thead>\n",
       "<tbody>\n",
       "\t<tr><td>1                                </td><td>Row, row, row your boat          </td></tr>\n",
       "\t<tr><td>2                                </td><td>Gently down the stream           </td></tr>\n",
       "\t<tr><td>3                                </td><td>Merrily merrily, merrily, merrily</td></tr>\n",
       "\t<tr><td>4                                </td><td>Life is but a dream              </td></tr>\n",
       "</tbody>\n",
       "</table>\n"
      ],
      "text/latex": [
       "\\begin{tabular}{r|ll}\n",
       " line & text\\\\\n",
       "\\hline\n",
       "\t 1                                 & Row, row, row your boat          \\\\\n",
       "\t 2                                 & Gently down the stream           \\\\\n",
       "\t 3                                 & Merrily merrily, merrily, merrily\\\\\n",
       "\t 4                                 & Life is but a dream              \\\\\n",
       "\\end{tabular}\n"
      ],
      "text/markdown": [
       "\n",
       "| line | text |\n",
       "|---|---|\n",
       "| 1                                 | Row, row, row your boat           |\n",
       "| 2                                 | Gently down the stream            |\n",
       "| 3                                 | Merrily merrily, merrily, merrily |\n",
       "| 4                                 | Life is but a dream               |\n",
       "\n"
      ],
      "text/plain": [
       "  line text                             \n",
       "1 1    Row, row, row your boat          \n",
       "2 2    Gently down the stream           \n",
       "3 3    Merrily merrily, merrily, merrily\n",
       "4 4    Life is but a dream              "
      ]
     },
     "metadata": {},
     "output_type": "display_data"
    }
   ],
   "source": [
    "text_df"
   ]
  },
  {
   "cell_type": "code",
   "execution_count": 86,
   "metadata": {
    "slideshow": {
     "slide_type": "slide"
    }
   },
   "outputs": [
    {
     "data": {
      "text/html": [
       "<table>\n",
       "<thead><tr><th scope=col>line</th><th scope=col>text</th></tr></thead>\n",
       "<tbody>\n",
       "\t<tr><td>1                                </td><td>Row, row, row your boat          </td></tr>\n",
       "\t<tr><td>2                                </td><td>Gently down the stream           </td></tr>\n",
       "\t<tr><td>3                                </td><td>Merrily merrily, merrily, merrily</td></tr>\n",
       "\t<tr><td>4                                </td><td>Life is but a dream              </td></tr>\n",
       "</tbody>\n",
       "</table>\n"
      ],
      "text/latex": [
       "\\begin{tabular}{r|ll}\n",
       " line & text\\\\\n",
       "\\hline\n",
       "\t 1                                 & Row, row, row your boat          \\\\\n",
       "\t 2                                 & Gently down the stream           \\\\\n",
       "\t 3                                 & Merrily merrily, merrily, merrily\\\\\n",
       "\t 4                                 & Life is but a dream              \\\\\n",
       "\\end{tabular}\n"
      ],
      "text/markdown": [
       "\n",
       "| line | text |\n",
       "|---|---|\n",
       "| 1                                 | Row, row, row your boat           |\n",
       "| 2                                 | Gently down the stream            |\n",
       "| 3                                 | Merrily merrily, merrily, merrily |\n",
       "| 4                                 | Life is but a dream               |\n",
       "\n"
      ],
      "text/plain": [
       "  line text                             \n",
       "1 1    Row, row, row your boat          \n",
       "2 2    Gently down the stream           \n",
       "3 3    Merrily merrily, merrily, merrily\n",
       "4 4    Life is but a dream              "
      ]
     },
     "metadata": {},
     "output_type": "display_data"
    },
    {
     "data": {
      "text/html": [
       "<table>\n",
       "<thead><tr><th scope=col>line</th><th scope=col>word</th></tr></thead>\n",
       "<tbody>\n",
       "\t<tr><td>1      </td><td>row    </td></tr>\n",
       "\t<tr><td>1      </td><td>row    </td></tr>\n",
       "\t<tr><td>1      </td><td>row    </td></tr>\n",
       "\t<tr><td>1      </td><td>your   </td></tr>\n",
       "\t<tr><td>1      </td><td>boat   </td></tr>\n",
       "\t<tr><td>2      </td><td>gently </td></tr>\n",
       "\t<tr><td>2      </td><td>down   </td></tr>\n",
       "\t<tr><td>2      </td><td>the    </td></tr>\n",
       "\t<tr><td>2      </td><td>stream </td></tr>\n",
       "\t<tr><td>3      </td><td>merrily</td></tr>\n",
       "\t<tr><td>3      </td><td>merrily</td></tr>\n",
       "\t<tr><td>3      </td><td>merrily</td></tr>\n",
       "\t<tr><td>3      </td><td>merrily</td></tr>\n",
       "\t<tr><td>4      </td><td>life   </td></tr>\n",
       "\t<tr><td>4      </td><td>is     </td></tr>\n",
       "\t<tr><td>4      </td><td>but    </td></tr>\n",
       "\t<tr><td>4      </td><td>a      </td></tr>\n",
       "\t<tr><td>4      </td><td>dream  </td></tr>\n",
       "</tbody>\n",
       "</table>\n"
      ],
      "text/latex": [
       "\\begin{tabular}{r|ll}\n",
       " line & word\\\\\n",
       "\\hline\n",
       "\t 1       & row    \\\\\n",
       "\t 1       & row    \\\\\n",
       "\t 1       & row    \\\\\n",
       "\t 1       & your   \\\\\n",
       "\t 1       & boat   \\\\\n",
       "\t 2       & gently \\\\\n",
       "\t 2       & down   \\\\\n",
       "\t 2       & the    \\\\\n",
       "\t 2       & stream \\\\\n",
       "\t 3       & merrily\\\\\n",
       "\t 3       & merrily\\\\\n",
       "\t 3       & merrily\\\\\n",
       "\t 3       & merrily\\\\\n",
       "\t 4       & life   \\\\\n",
       "\t 4       & is     \\\\\n",
       "\t 4       & but    \\\\\n",
       "\t 4       & a      \\\\\n",
       "\t 4       & dream  \\\\\n",
       "\\end{tabular}\n"
      ],
      "text/markdown": [
       "\n",
       "| line | word |\n",
       "|---|---|\n",
       "| 1       | row     |\n",
       "| 1       | row     |\n",
       "| 1       | row     |\n",
       "| 1       | your    |\n",
       "| 1       | boat    |\n",
       "| 2       | gently  |\n",
       "| 2       | down    |\n",
       "| 2       | the     |\n",
       "| 2       | stream  |\n",
       "| 3       | merrily |\n",
       "| 3       | merrily |\n",
       "| 3       | merrily |\n",
       "| 3       | merrily |\n",
       "| 4       | life    |\n",
       "| 4       | is      |\n",
       "| 4       | but     |\n",
       "| 4       | a       |\n",
       "| 4       | dream   |\n",
       "\n"
      ],
      "text/plain": [
       "   line word   \n",
       "1  1    row    \n",
       "2  1    row    \n",
       "3  1    row    \n",
       "4  1    your   \n",
       "5  1    boat   \n",
       "6  2    gently \n",
       "7  2    down   \n",
       "8  2    the    \n",
       "9  2    stream \n",
       "10 3    merrily\n",
       "11 3    merrily\n",
       "12 3    merrily\n",
       "13 3    merrily\n",
       "14 4    life   \n",
       "15 4    is     \n",
       "16 4    but    \n",
       "17 4    a      \n",
       "18 4    dream  "
      ]
     },
     "metadata": {},
     "output_type": "display_data"
    }
   ],
   "source": [
    "text_df\n",
    "\n",
    "unnest_tokens(text_df, input=text, output = word, token = 'words')"
   ]
  },
  {
   "cell_type": "markdown",
   "metadata": {
    "slideshow": {
     "slide_type": "slide"
    }
   },
   "source": [
    "* 이제 이것을 앞에서 살펴본 pipe operator를 이용해 봅니다."
   ]
  },
  {
   "cell_type": "code",
   "execution_count": 56,
   "metadata": {},
   "outputs": [
    {
     "data": {
      "text/html": [
       "<table>\n",
       "<thead><tr><th scope=col>line</th><th scope=col>word</th></tr></thead>\n",
       "<tbody>\n",
       "\t<tr><td>1   </td><td>row </td></tr>\n",
       "\t<tr><td>1   </td><td>row </td></tr>\n",
       "\t<tr><td>1   </td><td>row </td></tr>\n",
       "\t<tr><td>1   </td><td>your</td></tr>\n",
       "\t<tr><td>1   </td><td>boat</td></tr>\n",
       "</tbody>\n",
       "</table>\n"
      ],
      "text/latex": [
       "\\begin{tabular}{r|ll}\n",
       " line & word\\\\\n",
       "\\hline\n",
       "\t 1    & row \\\\\n",
       "\t 1    & row \\\\\n",
       "\t 1    & row \\\\\n",
       "\t 1    & your\\\\\n",
       "\t 1    & boat\\\\\n",
       "\\end{tabular}\n"
      ],
      "text/markdown": [
       "\n",
       "| line | word |\n",
       "|---|---|\n",
       "| 1    | row  |\n",
       "| 1    | row  |\n",
       "| 1    | row  |\n",
       "| 1    | your |\n",
       "| 1    | boat |\n",
       "\n"
      ],
      "text/plain": [
       "  line word\n",
       "1 1    row \n",
       "2 1    row \n",
       "3 1    row \n",
       "4 1    your\n",
       "5 1    boat"
      ]
     },
     "metadata": {},
     "output_type": "display_data"
    }
   ],
   "source": [
    "text_df  %>% \n",
    "unnest_tokens(input = text, output = word, token = 'words')  %>% \n",
    "head(5)"
   ]
  },
  {
   "cell_type": "markdown",
   "metadata": {
    "slideshow": {
     "slide_type": "slide"
    }
   },
   "source": [
    "## join"
   ]
  },
  {
   "cell_type": "markdown",
   "metadata": {},
   "source": [
    "* 서로 다른 테이블(data frame)에 있는 데이터를 서로 연계할 때 join을 사용할 수 있습니다. \n",
    "* stop words를 배제하거나, sentiment를 연결할 때 join을 사용하면 편리합니다. "
   ]
  },
  {
   "cell_type": "code",
   "execution_count": 57,
   "metadata": {},
   "outputs": [
    {
     "data": {
      "text/html": [
       "<table>\n",
       "<thead><tr><th scope=col>line</th><th scope=col>text</th></tr></thead>\n",
       "<tbody>\n",
       "\t<tr><td>1                                </td><td>Row, row, row your boat          </td></tr>\n",
       "\t<tr><td>2                                </td><td>Gently down the stream           </td></tr>\n",
       "\t<tr><td>3                                </td><td>Merrily merrily, merrily, merrily</td></tr>\n",
       "\t<tr><td>4                                </td><td>Life is but a dream              </td></tr>\n",
       "</tbody>\n",
       "</table>\n"
      ],
      "text/latex": [
       "\\begin{tabular}{r|ll}\n",
       " line & text\\\\\n",
       "\\hline\n",
       "\t 1                                 & Row, row, row your boat          \\\\\n",
       "\t 2                                 & Gently down the stream           \\\\\n",
       "\t 3                                 & Merrily merrily, merrily, merrily\\\\\n",
       "\t 4                                 & Life is but a dream              \\\\\n",
       "\\end{tabular}\n"
      ],
      "text/markdown": [
       "\n",
       "| line | text |\n",
       "|---|---|\n",
       "| 1                                 | Row, row, row your boat           |\n",
       "| 2                                 | Gently down the stream            |\n",
       "| 3                                 | Merrily merrily, merrily, merrily |\n",
       "| 4                                 | Life is but a dream               |\n",
       "\n"
      ],
      "text/plain": [
       "  line text                             \n",
       "1 1    Row, row, row your boat          \n",
       "2 2    Gently down the stream           \n",
       "3 3    Merrily merrily, merrily, merrily\n",
       "4 4    Life is but a dream              "
      ]
     },
     "metadata": {},
     "output_type": "display_data"
    }
   ],
   "source": [
    "text_df"
   ]
  },
  {
   "cell_type": "markdown",
   "metadata": {
    "slideshow": {
     "slide_type": "slide"
    }
   },
   "source": [
    "### stop_words list"
   ]
  },
  {
   "cell_type": "markdown",
   "metadata": {},
   "source": [
    "* 필요없는 단어는 분석에서 제외하고자 합니다.\n",
    "* 이를 위해 stop words 곧, 불용어 리스트를 만들어 보겠습니다. "
   ]
  },
  {
   "cell_type": "code",
   "execution_count": 87,
   "metadata": {},
   "outputs": [],
   "source": [
    "stop_words = c(\"your\", \"the\", \"is\", \"but\", \"a\")"
   ]
  },
  {
   "cell_type": "markdown",
   "metadata": {},
   "source": [
    "* 이 불용어 리스트를 tibble type으로 만들겠습니다. "
   ]
  },
  {
   "cell_type": "code",
   "execution_count": 92,
   "metadata": {},
   "outputs": [
    {
     "data": {
      "text/html": [
       "<table>\n",
       "<thead><tr><th scope=col>word</th></tr></thead>\n",
       "<tbody>\n",
       "\t<tr><td>your</td></tr>\n",
       "\t<tr><td>the </td></tr>\n",
       "\t<tr><td>is  </td></tr>\n",
       "\t<tr><td>but </td></tr>\n",
       "\t<tr><td>a   </td></tr>\n",
       "</tbody>\n",
       "</table>\n"
      ],
      "text/latex": [
       "\\begin{tabular}{r|l}\n",
       " word\\\\\n",
       "\\hline\n",
       "\t your\\\\\n",
       "\t the \\\\\n",
       "\t is  \\\\\n",
       "\t but \\\\\n",
       "\t a   \\\\\n",
       "\\end{tabular}\n"
      ],
      "text/markdown": [
       "\n",
       "| word |\n",
       "|---|\n",
       "| your |\n",
       "| the  |\n",
       "| is   |\n",
       "| but  |\n",
       "| a    |\n",
       "\n"
      ],
      "text/plain": [
       "  word\n",
       "1 your\n",
       "2 the \n",
       "3 is  \n",
       "4 but \n",
       "5 a   "
      ]
     },
     "metadata": {},
     "output_type": "display_data"
    }
   ],
   "source": [
    "tbl_df(stop_words) -> stop_words\n",
    "\n",
    "stop_words"
   ]
  },
  {
   "cell_type": "markdown",
   "metadata": {
    "slideshow": {
     "slide_type": "slide"
    }
   },
   "source": [
    "* 컬럼의 이름을 변경하고 각 행에 index를 부여해보겠습니다."
   ]
  },
  {
   "cell_type": "code",
   "execution_count": 95,
   "metadata": {},
   "outputs": [
    {
     "data": {
      "text/html": [
       "<table>\n",
       "<thead><tr><th scope=col>word</th></tr></thead>\n",
       "<tbody>\n",
       "\t<tr><td>your</td></tr>\n",
       "\t<tr><td>the </td></tr>\n",
       "\t<tr><td>is  </td></tr>\n",
       "\t<tr><td>but </td></tr>\n",
       "\t<tr><td>a   </td></tr>\n",
       "</tbody>\n",
       "</table>\n"
      ],
      "text/latex": [
       "\\begin{tabular}{r|l}\n",
       " word\\\\\n",
       "\\hline\n",
       "\t your\\\\\n",
       "\t the \\\\\n",
       "\t is  \\\\\n",
       "\t but \\\\\n",
       "\t a   \\\\\n",
       "\\end{tabular}\n"
      ],
      "text/markdown": [
       "\n",
       "| word |\n",
       "|---|\n",
       "| your |\n",
       "| the  |\n",
       "| is   |\n",
       "| but  |\n",
       "| a    |\n",
       "\n"
      ],
      "text/plain": [
       "  word\n",
       "1 your\n",
       "2 the \n",
       "3 is  \n",
       "4 but \n",
       "5 a   "
      ]
     },
     "metadata": {},
     "output_type": "display_data"
    }
   ],
   "source": [
    "# stop_words  %>% rename(word = value) -> stop_words\n",
    "stop_words"
   ]
  },
  {
   "cell_type": "code",
   "execution_count": 97,
   "metadata": {},
   "outputs": [
    {
     "data": {
      "text/html": [
       "<table>\n",
       "<thead><tr><th scope=col>id</th><th scope=col>word</th></tr></thead>\n",
       "<tbody>\n",
       "\t<tr><td>1   </td><td>your</td></tr>\n",
       "\t<tr><td>2   </td><td>the </td></tr>\n",
       "\t<tr><td>3   </td><td>is  </td></tr>\n",
       "\t<tr><td>4   </td><td>but </td></tr>\n",
       "\t<tr><td>5   </td><td>a   </td></tr>\n",
       "</tbody>\n",
       "</table>\n"
      ],
      "text/latex": [
       "\\begin{tabular}{r|ll}\n",
       " id & word\\\\\n",
       "\\hline\n",
       "\t 1    & your\\\\\n",
       "\t 2    & the \\\\\n",
       "\t 3    & is  \\\\\n",
       "\t 4    & but \\\\\n",
       "\t 5    & a   \\\\\n",
       "\\end{tabular}\n"
      ],
      "text/markdown": [
       "\n",
       "| id | word |\n",
       "|---|---|\n",
       "| 1    | your |\n",
       "| 2    | the  |\n",
       "| 3    | is   |\n",
       "| 4    | but  |\n",
       "| 5    | a    |\n",
       "\n"
      ],
      "text/plain": [
       "  id word\n",
       "1 1  your\n",
       "2 2  the \n",
       "3 3  is  \n",
       "4 4  but \n",
       "5 5  a   "
      ]
     },
     "metadata": {},
     "output_type": "display_data"
    }
   ],
   "source": [
    "stop_words  %>%  mutate(id = row_number())  %>% select(id, word) -> stop_words\n",
    "stop_words"
   ]
  },
  {
   "cell_type": "code",
   "execution_count": 62,
   "metadata": {
    "slideshow": {
     "slide_type": "slide"
    }
   },
   "outputs": [
    {
     "data": {
      "text/html": [
       "<table>\n",
       "<thead><tr><th scope=col>id</th><th scope=col>word</th></tr></thead>\n",
       "<tbody>\n",
       "\t<tr><td>1   </td><td>your</td></tr>\n",
       "\t<tr><td>2   </td><td>the </td></tr>\n",
       "\t<tr><td>3   </td><td>is  </td></tr>\n",
       "\t<tr><td>4   </td><td>but </td></tr>\n",
       "\t<tr><td>5   </td><td>a   </td></tr>\n",
       "</tbody>\n",
       "</table>\n"
      ],
      "text/latex": [
       "\\begin{tabular}{r|ll}\n",
       " id & word\\\\\n",
       "\\hline\n",
       "\t 1    & your\\\\\n",
       "\t 2    & the \\\\\n",
       "\t 3    & is  \\\\\n",
       "\t 4    & but \\\\\n",
       "\t 5    & a   \\\\\n",
       "\\end{tabular}\n"
      ],
      "text/markdown": [
       "\n",
       "| id | word |\n",
       "|---|---|\n",
       "| 1    | your |\n",
       "| 2    | the  |\n",
       "| 3    | is   |\n",
       "| 4    | but  |\n",
       "| 5    | a    |\n",
       "\n"
      ],
      "text/plain": [
       "  id word\n",
       "1 1  your\n",
       "2 2  the \n",
       "3 3  is  \n",
       "4 4  but \n",
       "5 5  a   "
      ]
     },
     "metadata": {},
     "output_type": "display_data"
    }
   ],
   "source": [
    "stop_words "
   ]
  },
  {
   "cell_type": "markdown",
   "metadata": {
    "slideshow": {
     "slide_type": "slide"
    }
   },
   "source": [
    "### stop_words exclude using join function"
   ]
  },
  {
   "cell_type": "markdown",
   "metadata": {},
   "source": [
    "* 이제 unnest_token으로 만들어진 단어 목록에서 stop_words에 있는 단어를 제외하겠습니다.\n",
    "* 이를 위해 anti_join을 사용하려고 합니다."
   ]
  },
  {
   "cell_type": "code",
   "execution_count": 98,
   "metadata": {},
   "outputs": [
    {
     "data": {
      "text/html": [
       "<table>\n",
       "<thead><tr><th scope=col>line</th><th scope=col>text</th></tr></thead>\n",
       "<tbody>\n",
       "\t<tr><td>1                                </td><td>Row, row, row your boat          </td></tr>\n",
       "\t<tr><td>2                                </td><td>Gently down the stream           </td></tr>\n",
       "\t<tr><td>3                                </td><td>Merrily merrily, merrily, merrily</td></tr>\n",
       "\t<tr><td>4                                </td><td>Life is but a dream              </td></tr>\n",
       "</tbody>\n",
       "</table>\n"
      ],
      "text/latex": [
       "\\begin{tabular}{r|ll}\n",
       " line & text\\\\\n",
       "\\hline\n",
       "\t 1                                 & Row, row, row your boat          \\\\\n",
       "\t 2                                 & Gently down the stream           \\\\\n",
       "\t 3                                 & Merrily merrily, merrily, merrily\\\\\n",
       "\t 4                                 & Life is but a dream              \\\\\n",
       "\\end{tabular}\n"
      ],
      "text/markdown": [
       "\n",
       "| line | text |\n",
       "|---|---|\n",
       "| 1                                 | Row, row, row your boat           |\n",
       "| 2                                 | Gently down the stream            |\n",
       "| 3                                 | Merrily merrily, merrily, merrily |\n",
       "| 4                                 | Life is but a dream               |\n",
       "\n"
      ],
      "text/plain": [
       "  line text                             \n",
       "1 1    Row, row, row your boat          \n",
       "2 2    Gently down the stream           \n",
       "3 3    Merrily merrily, merrily, merrily\n",
       "4 4    Life is but a dream              "
      ]
     },
     "metadata": {},
     "output_type": "display_data"
    }
   ],
   "source": [
    "tbl_df(text_df)"
   ]
  },
  {
   "cell_type": "code",
   "execution_count": 100,
   "metadata": {
    "slideshow": {
     "slide_type": "slide"
    }
   },
   "outputs": [],
   "source": [
    "text_df  %>% unnest_tokens(input= text, output = word, token = 'words') -> text_df_token"
   ]
  },
  {
   "cell_type": "code",
   "execution_count": 101,
   "metadata": {},
   "outputs": [
    {
     "data": {
      "text/html": [
       "<table>\n",
       "<thead><tr><th scope=col>line</th><th scope=col>word</th></tr></thead>\n",
       "<tbody>\n",
       "\t<tr><td>1      </td><td>row    </td></tr>\n",
       "\t<tr><td>1      </td><td>row    </td></tr>\n",
       "\t<tr><td>1      </td><td>row    </td></tr>\n",
       "\t<tr><td>1      </td><td>your   </td></tr>\n",
       "\t<tr><td>1      </td><td>boat   </td></tr>\n",
       "\t<tr><td>2      </td><td>gently </td></tr>\n",
       "\t<tr><td>2      </td><td>down   </td></tr>\n",
       "\t<tr><td>2      </td><td>the    </td></tr>\n",
       "\t<tr><td>2      </td><td>stream </td></tr>\n",
       "\t<tr><td>3      </td><td>merrily</td></tr>\n",
       "\t<tr><td>3      </td><td>merrily</td></tr>\n",
       "\t<tr><td>3      </td><td>merrily</td></tr>\n",
       "\t<tr><td>3      </td><td>merrily</td></tr>\n",
       "\t<tr><td>4      </td><td>life   </td></tr>\n",
       "\t<tr><td>4      </td><td>is     </td></tr>\n",
       "\t<tr><td>4      </td><td>but    </td></tr>\n",
       "\t<tr><td>4      </td><td>a      </td></tr>\n",
       "\t<tr><td>4      </td><td>dream  </td></tr>\n",
       "</tbody>\n",
       "</table>\n"
      ],
      "text/latex": [
       "\\begin{tabular}{r|ll}\n",
       " line & word\\\\\n",
       "\\hline\n",
       "\t 1       & row    \\\\\n",
       "\t 1       & row    \\\\\n",
       "\t 1       & row    \\\\\n",
       "\t 1       & your   \\\\\n",
       "\t 1       & boat   \\\\\n",
       "\t 2       & gently \\\\\n",
       "\t 2       & down   \\\\\n",
       "\t 2       & the    \\\\\n",
       "\t 2       & stream \\\\\n",
       "\t 3       & merrily\\\\\n",
       "\t 3       & merrily\\\\\n",
       "\t 3       & merrily\\\\\n",
       "\t 3       & merrily\\\\\n",
       "\t 4       & life   \\\\\n",
       "\t 4       & is     \\\\\n",
       "\t 4       & but    \\\\\n",
       "\t 4       & a      \\\\\n",
       "\t 4       & dream  \\\\\n",
       "\\end{tabular}\n"
      ],
      "text/markdown": [
       "\n",
       "| line | word |\n",
       "|---|---|\n",
       "| 1       | row     |\n",
       "| 1       | row     |\n",
       "| 1       | row     |\n",
       "| 1       | your    |\n",
       "| 1       | boat    |\n",
       "| 2       | gently  |\n",
       "| 2       | down    |\n",
       "| 2       | the     |\n",
       "| 2       | stream  |\n",
       "| 3       | merrily |\n",
       "| 3       | merrily |\n",
       "| 3       | merrily |\n",
       "| 3       | merrily |\n",
       "| 4       | life    |\n",
       "| 4       | is      |\n",
       "| 4       | but     |\n",
       "| 4       | a       |\n",
       "| 4       | dream   |\n",
       "\n"
      ],
      "text/plain": [
       "   line word   \n",
       "1  1    row    \n",
       "2  1    row    \n",
       "3  1    row    \n",
       "4  1    your   \n",
       "5  1    boat   \n",
       "6  2    gently \n",
       "7  2    down   \n",
       "8  2    the    \n",
       "9  2    stream \n",
       "10 3    merrily\n",
       "11 3    merrily\n",
       "12 3    merrily\n",
       "13 3    merrily\n",
       "14 4    life   \n",
       "15 4    is     \n",
       "16 4    but    \n",
       "17 4    a      \n",
       "18 4    dream  "
      ]
     },
     "metadata": {},
     "output_type": "display_data"
    },
    {
     "data": {
      "text/html": [
       "<table>\n",
       "<thead><tr><th scope=col>id</th><th scope=col>word</th></tr></thead>\n",
       "<tbody>\n",
       "\t<tr><td>1   </td><td>your</td></tr>\n",
       "\t<tr><td>2   </td><td>the </td></tr>\n",
       "\t<tr><td>3   </td><td>is  </td></tr>\n",
       "\t<tr><td>4   </td><td>but </td></tr>\n",
       "\t<tr><td>5   </td><td>a   </td></tr>\n",
       "</tbody>\n",
       "</table>\n"
      ],
      "text/latex": [
       "\\begin{tabular}{r|ll}\n",
       " id & word\\\\\n",
       "\\hline\n",
       "\t 1    & your\\\\\n",
       "\t 2    & the \\\\\n",
       "\t 3    & is  \\\\\n",
       "\t 4    & but \\\\\n",
       "\t 5    & a   \\\\\n",
       "\\end{tabular}\n"
      ],
      "text/markdown": [
       "\n",
       "| id | word |\n",
       "|---|---|\n",
       "| 1    | your |\n",
       "| 2    | the  |\n",
       "| 3    | is   |\n",
       "| 4    | but  |\n",
       "| 5    | a    |\n",
       "\n"
      ],
      "text/plain": [
       "  id word\n",
       "1 1  your\n",
       "2 2  the \n",
       "3 3  is  \n",
       "4 4  but \n",
       "5 5  a   "
      ]
     },
     "metadata": {},
     "output_type": "display_data"
    }
   ],
   "source": [
    "text_df_token\n",
    "stop_words"
   ]
  },
  {
   "cell_type": "markdown",
   "metadata": {
    "slideshow": {
     "slide_type": "slide"
    }
   },
   "source": [
    "* join의 종류\n",
    "    * http://www2.stat.duke.edu/~cr173/Sta323_Sp18/slides/Lec15_sql.html#1"
   ]
  },
  {
   "cell_type": "markdown",
   "metadata": {
    "slideshow": {
     "slide_type": "slide"
    }
   },
   "source": [
    "* text_df_token에서 stop_words에 있는 단어를 제외하고자 합니다. "
   ]
  },
  {
   "cell_type": "code",
   "execution_count": 103,
   "metadata": {},
   "outputs": [
    {
     "data": {
      "text/html": [
       "<table>\n",
       "<thead><tr><th scope=col>line</th><th scope=col>text</th></tr></thead>\n",
       "<tbody>\n",
       "\t<tr><td>1                                </td><td>Row, row, row your boat          </td></tr>\n",
       "\t<tr><td>2                                </td><td>Gently down the stream           </td></tr>\n",
       "\t<tr><td>3                                </td><td>Merrily merrily, merrily, merrily</td></tr>\n",
       "\t<tr><td>4                                </td><td>Life is but a dream              </td></tr>\n",
       "</tbody>\n",
       "</table>\n"
      ],
      "text/latex": [
       "\\begin{tabular}{r|ll}\n",
       " line & text\\\\\n",
       "\\hline\n",
       "\t 1                                 & Row, row, row your boat          \\\\\n",
       "\t 2                                 & Gently down the stream           \\\\\n",
       "\t 3                                 & Merrily merrily, merrily, merrily\\\\\n",
       "\t 4                                 & Life is but a dream              \\\\\n",
       "\\end{tabular}\n"
      ],
      "text/markdown": [
       "\n",
       "| line | text |\n",
       "|---|---|\n",
       "| 1                                 | Row, row, row your boat           |\n",
       "| 2                                 | Gently down the stream            |\n",
       "| 3                                 | Merrily merrily, merrily, merrily |\n",
       "| 4                                 | Life is but a dream               |\n",
       "\n"
      ],
      "text/plain": [
       "  line text                             \n",
       "1 1    Row, row, row your boat          \n",
       "2 2    Gently down the stream           \n",
       "3 3    Merrily merrily, merrily, merrily\n",
       "4 4    Life is but a dream              "
      ]
     },
     "metadata": {},
     "output_type": "display_data"
    },
    {
     "data": {
      "text/html": [
       "<table>\n",
       "<thead><tr><th scope=col>line</th><th scope=col>word</th></tr></thead>\n",
       "<tbody>\n",
       "\t<tr><td>1      </td><td>row    </td></tr>\n",
       "\t<tr><td>1      </td><td>row    </td></tr>\n",
       "\t<tr><td>1      </td><td>row    </td></tr>\n",
       "\t<tr><td>1      </td><td>boat   </td></tr>\n",
       "\t<tr><td>2      </td><td>gently </td></tr>\n",
       "\t<tr><td>2      </td><td>down   </td></tr>\n",
       "\t<tr><td>2      </td><td>stream </td></tr>\n",
       "\t<tr><td>3      </td><td>merrily</td></tr>\n",
       "\t<tr><td>3      </td><td>merrily</td></tr>\n",
       "\t<tr><td>3      </td><td>merrily</td></tr>\n",
       "\t<tr><td>3      </td><td>merrily</td></tr>\n",
       "\t<tr><td>4      </td><td>life   </td></tr>\n",
       "\t<tr><td>4      </td><td>dream  </td></tr>\n",
       "</tbody>\n",
       "</table>\n"
      ],
      "text/latex": [
       "\\begin{tabular}{r|ll}\n",
       " line & word\\\\\n",
       "\\hline\n",
       "\t 1       & row    \\\\\n",
       "\t 1       & row    \\\\\n",
       "\t 1       & row    \\\\\n",
       "\t 1       & boat   \\\\\n",
       "\t 2       & gently \\\\\n",
       "\t 2       & down   \\\\\n",
       "\t 2       & stream \\\\\n",
       "\t 3       & merrily\\\\\n",
       "\t 3       & merrily\\\\\n",
       "\t 3       & merrily\\\\\n",
       "\t 3       & merrily\\\\\n",
       "\t 4       & life   \\\\\n",
       "\t 4       & dream  \\\\\n",
       "\\end{tabular}\n"
      ],
      "text/markdown": [
       "\n",
       "| line | word |\n",
       "|---|---|\n",
       "| 1       | row     |\n",
       "| 1       | row     |\n",
       "| 1       | row     |\n",
       "| 1       | boat    |\n",
       "| 2       | gently  |\n",
       "| 2       | down    |\n",
       "| 2       | stream  |\n",
       "| 3       | merrily |\n",
       "| 3       | merrily |\n",
       "| 3       | merrily |\n",
       "| 3       | merrily |\n",
       "| 4       | life    |\n",
       "| 4       | dream   |\n",
       "\n"
      ],
      "text/plain": [
       "   line word   \n",
       "1  1    row    \n",
       "2  1    row    \n",
       "3  1    row    \n",
       "4  1    boat   \n",
       "5  2    gently \n",
       "6  2    down   \n",
       "7  2    stream \n",
       "8  3    merrily\n",
       "9  3    merrily\n",
       "10 3    merrily\n",
       "11 3    merrily\n",
       "12 4    life   \n",
       "13 4    dream  "
      ]
     },
     "metadata": {},
     "output_type": "display_data"
    }
   ],
   "source": [
    "text_df_token  %>% anti_join(stop_words, by='word')\n",
    "# \n",
    "# anti_join(text_df_token, stop_words, by='word')"
   ]
  },
  {
   "cell_type": "markdown",
   "metadata": {
    "slideshow": {
     "slide_type": "slide"
    }
   },
   "source": [
    "* 반대로 text_df_token 에 포함되어 있는 불용어만 골라낸다면 어떻게 할 수 있을까요? "
   ]
  },
  {
   "cell_type": "code",
   "execution_count": 71,
   "metadata": {},
   "outputs": [
    {
     "data": {
      "text/html": [
       "<table>\n",
       "<thead><tr><th scope=col>line</th><th scope=col>word</th><th scope=col>id</th></tr></thead>\n",
       "<tbody>\n",
       "\t<tr><td>1   </td><td>your</td><td>1   </td></tr>\n",
       "\t<tr><td>2   </td><td>the </td><td>2   </td></tr>\n",
       "\t<tr><td>4   </td><td>is  </td><td>3   </td></tr>\n",
       "\t<tr><td>4   </td><td>but </td><td>4   </td></tr>\n",
       "\t<tr><td>4   </td><td>a   </td><td>5   </td></tr>\n",
       "</tbody>\n",
       "</table>\n"
      ],
      "text/latex": [
       "\\begin{tabular}{r|lll}\n",
       " line & word & id\\\\\n",
       "\\hline\n",
       "\t 1    & your & 1   \\\\\n",
       "\t 2    & the  & 2   \\\\\n",
       "\t 4    & is   & 3   \\\\\n",
       "\t 4    & but  & 4   \\\\\n",
       "\t 4    & a    & 5   \\\\\n",
       "\\end{tabular}\n"
      ],
      "text/markdown": [
       "\n",
       "| line | word | id |\n",
       "|---|---|---|\n",
       "| 1    | your | 1    |\n",
       "| 2    | the  | 2    |\n",
       "| 4    | is   | 3    |\n",
       "| 4    | but  | 4    |\n",
       "| 4    | a    | 5    |\n",
       "\n"
      ],
      "text/plain": [
       "  line word id\n",
       "1 1    your 1 \n",
       "2 2    the  2 \n",
       "3 4    is   3 \n",
       "4 4    but  4 \n",
       "5 4    a    5 "
      ]
     },
     "metadata": {},
     "output_type": "display_data"
    }
   ],
   "source": [
    "text_df_token  %>% inner_join(stop_words, by='word')"
   ]
  }
 ],
 "metadata": {
  "celltoolbar": "Slideshow",
  "hide_input": false,
  "kernelspec": {
   "display_name": "R",
   "language": "R",
   "name": "ir"
  },
  "language_info": {
   "codemirror_mode": "r",
   "file_extension": ".r",
   "mimetype": "text/x-r-source",
   "name": "R",
   "pygments_lexer": "r",
   "version": "3.6.0"
  },
  "toc": {
   "base_numbering": 1,
   "nav_menu": {},
   "number_sections": true,
   "sideBar": true,
   "skip_h1_title": false,
   "title_cell": "Table of Contents",
   "title_sidebar": "Contents",
   "toc_cell": false,
   "toc_position": {
    "height": "789px",
    "left": "65px",
    "top": "137px",
    "width": "253px"
   },
   "toc_section_display": true,
   "toc_window_display": true
  },
  "varInspector": {
   "cols": {
    "lenName": 16,
    "lenType": 16,
    "lenVar": 40
   },
   "kernels_config": {
    "python": {
     "delete_cmd_postfix": "",
     "delete_cmd_prefix": "del ",
     "library": "var_list.py",
     "varRefreshCmd": "print(var_dic_list())"
    },
    "r": {
     "delete_cmd_postfix": ") ",
     "delete_cmd_prefix": "rm(",
     "library": "var_list.r",
     "varRefreshCmd": "cat(var_dic_list()) "
    }
   },
   "types_to_exclude": [
    "module",
    "function",
    "builtin_function_or_method",
    "instance",
    "_Feature"
   ],
   "window_display": false
  }
 },
 "nbformat": 4,
 "nbformat_minor": 2
}
